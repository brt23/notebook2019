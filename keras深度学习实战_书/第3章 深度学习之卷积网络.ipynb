{
 "cells": [
  {
   "cell_type": "markdown",
   "metadata": {},
   "source": [
    "# 3.2 DCNN示例——LeNet"
   ]
  },
  {
   "cell_type": "code",
   "execution_count": 1,
   "metadata": {},
   "outputs": [
    {
     "name": "stderr",
     "output_type": "stream",
     "text": [
      "Using TensorFlow backend.\n"
     ]
    }
   ],
   "source": [
    "from matplotlib import pyplot as plt\n",
    "from keras import layers, Input\n",
    "from keras.models import Model\n",
    "from keras.datasets import mnist\n",
    "from keras.utils import to_categorical\n",
    "from keras.optimizers import Adam\n",
    "from keras.losses import categorical_crossentropy\n",
    "from keras.callbacks import ModelCheckpoint\n",
    "from keras import backend as K"
   ]
  },
  {
   "cell_type": "code",
   "execution_count": 2,
   "metadata": {},
   "outputs": [],
   "source": [
    "# 超参数设定\n",
    "HP_epochs = 20\n",
    "HP_batch_size = 128\n",
    "HP_validation_split = 0.2\n",
    "HP_input_shape = (28, 28, 1)"
   ]
  },
  {
   "cell_type": "code",
   "execution_count": 3,
   "metadata": {},
   "outputs": [],
   "source": [
    "# 搭建网络模型\n",
    "def network(input_shape):\n",
    "    input_tensor = Input(shape=input_shape)\n",
    "    \n",
    "    conv1 = layers.Conv2D(32, (3, 3))(input_tensor)\n",
    "    conv1 = layers.Activation('relu')(conv1)\n",
    "    conv1 = layers.MaxPooling2D((2, 2))(conv1)\n",
    "    \n",
    "    conv2 = layers.Conv2D(64, (3, 3))(conv1)\n",
    "    conv2 = layers.Activation('relu')(conv2)\n",
    "    conv2 = layers.MaxPooling2D((2, 2))(conv2)\n",
    "    \n",
    "    conv3 = layers.Conv2D(64, (3, 3))(conv2)\n",
    "    conv3 = layers.Activation('relu')(conv3)\n",
    "\n",
    "    dense4 = layers.Flatten()(conv3)\n",
    "    dense4 = layers.Dense(128)(dense4)\n",
    "    dense4 = layers.Activation('relu')(dense4)\n",
    "    \n",
    "    output_tensor = layers.Dense(10)(dense4)\n",
    "    output_tensor = layers.Activation('softmax')(output_tensor)\n",
    "    \n",
    "    model = Model(input_tensor, output_tensor)\n",
    "    return model"
   ]
  },
  {
   "cell_type": "code",
   "execution_count": 4,
   "metadata": {},
   "outputs": [],
   "source": [
    "# 定义LeNet\n",
    "class LeNet:\n",
    "    @staticmethod\n",
    "    def build(input_shape, classes):\n",
    "        input_tensor = Input(shape=input_shape)\n",
    "        \n",
    "        conv1 = layers.Conv2D(20, (5, 5), padding='same')(input_tensor)\n",
    "        conv1 = layers.Activation(('relu'))(conv1)\n",
    "        conv1 = layers.MaxPooling2D((2, 2))(conv1)\n",
    "        \n",
    "        conv2 = layers.Conv2D(20, (5, 5), padding='same')(conv1)\n",
    "        conv2 = layers.Activation(('relu'))(conv2)\n",
    "        conv2 = layers.MaxPooling2D((2, 2))(conv2)\n",
    "        \n",
    "        dense3 = layers.Flatten()(conv2)\n",
    "        dense3 = layers.Dense(500)(dense3)\n",
    "        dense3 = layers.Activation('relu')(dense3)\n",
    "        \n",
    "        output_tensor = layers.Dense(classes)(dense3)\n",
    "        output_tensor = layers.Activation('softmax')(output_tensor)\n",
    "        \n",
    "        model = Model(input_tensor, output_tensor)\n",
    "        return model"
   ]
  },
  {
   "cell_type": "code",
   "execution_count": 5,
   "metadata": {},
   "outputs": [
    {
     "name": "stdout",
     "output_type": "stream",
     "text": [
      "_________________________________________________________________\n",
      "Layer (type)                 Output Shape              Param #   \n",
      "=================================================================\n",
      "input_1 (InputLayer)         (None, 28, 28, 1)         0         \n",
      "_________________________________________________________________\n",
      "conv2d_1 (Conv2D)            (None, 28, 28, 20)        520       \n",
      "_________________________________________________________________\n",
      "activation_1 (Activation)    (None, 28, 28, 20)        0         \n",
      "_________________________________________________________________\n",
      "max_pooling2d_1 (MaxPooling2 (None, 14, 14, 20)        0         \n",
      "_________________________________________________________________\n",
      "conv2d_2 (Conv2D)            (None, 14, 14, 20)        10020     \n",
      "_________________________________________________________________\n",
      "activation_2 (Activation)    (None, 14, 14, 20)        0         \n",
      "_________________________________________________________________\n",
      "max_pooling2d_2 (MaxPooling2 (None, 7, 7, 20)          0         \n",
      "_________________________________________________________________\n",
      "flatten_1 (Flatten)          (None, 980)               0         \n",
      "_________________________________________________________________\n",
      "dense_1 (Dense)              (None, 500)               490500    \n",
      "_________________________________________________________________\n",
      "activation_3 (Activation)    (None, 500)               0         \n",
      "_________________________________________________________________\n",
      "dense_2 (Dense)              (None, 10)                5010      \n",
      "_________________________________________________________________\n",
      "activation_4 (Activation)    (None, 10)                0         \n",
      "=================================================================\n",
      "Total params: 506,050\n",
      "Trainable params: 506,050\n",
      "Non-trainable params: 0\n",
      "_________________________________________________________________\n"
     ]
    }
   ],
   "source": [
    "# 查看模型概要\n",
    "# model = network(HP_input_shape)\n",
    "model = LeNet.build(HP_input_shape, 10)\n",
    "model.summary()"
   ]
  },
  {
   "cell_type": "code",
   "execution_count": 6,
   "metadata": {},
   "outputs": [
    {
     "name": "stdout",
     "output_type": "stream",
     "text": [
      "60000 train samples\n",
      "10000 test samples\n"
     ]
    }
   ],
   "source": [
    "# 预处理数据\n",
    "def preprocessing():\n",
    "    (x_train, y_train), (x_test, y_test) = mnist.load_data()\n",
    "    \n",
    "    x_train = x_train.reshape(x_train.shape + (1,))\n",
    "    x_train = x_train.astype('float32') / 255.\n",
    "    x_test = x_test.reshape(x_test.shape + (1,))\n",
    "    x_test = x_test.astype('float32') / 255.\n",
    "    \n",
    "    y_train = to_categorical(y_train, 10)\n",
    "    y_test = to_categorical(y_test, 10)\n",
    "    \n",
    "    return (x_train, y_train), (x_test, y_test)\n",
    "\n",
    "(X_train, Y_train), (X_test, Y_test) = preprocessing()\n",
    "print(X_train.shape[0], 'train samples')\n",
    "print(X_test.shape[0], 'test samples')"
   ]
  },
  {
   "cell_type": "code",
   "execution_count": 7,
   "metadata": {},
   "outputs": [],
   "source": [
    "# 编译模型\n",
    "model.compile(\n",
    "    optimizer=Adam(),\n",
    "    loss=categorical_crossentropy,\n",
    "    metrics=['acc']\n",
    ")"
   ]
  },
  {
   "cell_type": "code",
   "execution_count": 8,
   "metadata": {},
   "outputs": [],
   "source": [
    "# 设置回调模块\n",
    "callbacks = [\n",
    "    ModelCheckpoint(\n",
    "        filepath='cnn_weights.h5',\n",
    "        monitor='val_loss',\n",
    "        save_best_only=True\n",
    "    )\n",
    "]"
   ]
  },
  {
   "cell_type": "code",
   "execution_count": 9,
   "metadata": {},
   "outputs": [
    {
     "name": "stdout",
     "output_type": "stream",
     "text": [
      "Train on 48000 samples, validate on 12000 samples\n",
      "Epoch 1/20\n",
      "48000/48000 [==============================] - 5s 111us/step - loss: 0.2239 - acc: 0.9335 - val_loss: 0.0767 - val_acc: 0.9762\n",
      "Epoch 2/20\n",
      "48000/48000 [==============================] - 4s 88us/step - loss: 0.0603 - acc: 0.9812 - val_loss: 0.0605 - val_acc: 0.9816\n",
      "Epoch 3/20\n",
      "48000/48000 [==============================] - 4s 89us/step - loss: 0.0389 - acc: 0.9881 - val_loss: 0.0463 - val_acc: 0.9862\n",
      "Epoch 4/20\n",
      "48000/48000 [==============================] - 4s 86us/step - loss: 0.0283 - acc: 0.9909 - val_loss: 0.0376 - val_acc: 0.9884\n",
      "Epoch 5/20\n",
      "48000/48000 [==============================] - 4s 85us/step - loss: 0.0219 - acc: 0.9930 - val_loss: 0.0399 - val_acc: 0.9880\n",
      "Epoch 6/20\n",
      "48000/48000 [==============================] - 4s 85us/step - loss: 0.0184 - acc: 0.9938 - val_loss: 0.0438 - val_acc: 0.9867\n",
      "Epoch 7/20\n",
      "48000/48000 [==============================] - 4s 89us/step - loss: 0.0134 - acc: 0.9958 - val_loss: 0.0348 - val_acc: 0.9902\n",
      "Epoch 8/20\n",
      "48000/48000 [==============================] - 4s 86us/step - loss: 0.0120 - acc: 0.9961 - val_loss: 0.0379 - val_acc: 0.9889\n",
      "Epoch 9/20\n",
      "48000/48000 [==============================] - 4s 86us/step - loss: 0.0099 - acc: 0.9970 - val_loss: 0.0403 - val_acc: 0.9892\n",
      "Epoch 10/20\n",
      "48000/48000 [==============================] - 4s 86us/step - loss: 0.0079 - acc: 0.9974 - val_loss: 0.0402 - val_acc: 0.9887\n",
      "Epoch 11/20\n",
      "48000/48000 [==============================] - 4s 86us/step - loss: 0.0077 - acc: 0.9973 - val_loss: 0.0427 - val_acc: 0.9887\n",
      "Epoch 12/20\n",
      "48000/48000 [==============================] - 4s 86us/step - loss: 0.0065 - acc: 0.9978 - val_loss: 0.0431 - val_acc: 0.9897\n",
      "Epoch 13/20\n",
      "48000/48000 [==============================] - 4s 87us/step - loss: 0.0057 - acc: 0.9983 - val_loss: 0.0412 - val_acc: 0.9893\n",
      "Epoch 14/20\n",
      "48000/48000 [==============================] - 4s 87us/step - loss: 0.0043 - acc: 0.9984 - val_loss: 0.0425 - val_acc: 0.9906\n",
      "Epoch 15/20\n",
      "48000/48000 [==============================] - 4s 86us/step - loss: 0.0063 - acc: 0.9979 - val_loss: 0.0521 - val_acc: 0.9882\n",
      "Epoch 16/20\n",
      "48000/48000 [==============================] - 4s 87us/step - loss: 0.0079 - acc: 0.9972 - val_loss: 0.0411 - val_acc: 0.9907\n",
      "Epoch 17/20\n",
      "48000/48000 [==============================] - 4s 87us/step - loss: 0.0028 - acc: 0.9990 - val_loss: 0.0485 - val_acc: 0.9912\n",
      "Epoch 18/20\n",
      "48000/48000 [==============================] - 4s 87us/step - loss: 0.0025 - acc: 0.9992 - val_loss: 0.0431 - val_acc: 0.9917\n",
      "Epoch 19/20\n",
      "48000/48000 [==============================] - 4s 88us/step - loss: 0.0037 - acc: 0.9987 - val_loss: 0.0504 - val_acc: 0.9897\n",
      "Epoch 20/20\n",
      "48000/48000 [==============================] - 4s 87us/step - loss: 0.0060 - acc: 0.9983 - val_loss: 0.0497 - val_acc: 0.9898\n"
     ]
    }
   ],
   "source": [
    "history = model.fit(\n",
    "    X_train, Y_train,\n",
    "    epochs=HP_epochs,\n",
    "    batch_size=HP_batch_size,\n",
    "    validation_split=HP_validation_split,\n",
    "    callbacks=callbacks\n",
    ")"
   ]
  },
  {
   "cell_type": "code",
   "execution_count": 10,
   "metadata": {},
   "outputs": [
    {
     "name": "stdout",
     "output_type": "stream",
     "text": [
      "10000/10000 [==============================] - 0s 50us/step\n",
      "Test loss: 0.03456442594053228\n",
      "Test accuracy: 0.9909\n",
      "10000/10000 [==============================] - 1s 52us/step\n",
      "Best weights test loss: 0.028761325437383495\n",
      "Best weights test accuracy: 0.9906\n"
     ]
    }
   ],
   "source": [
    "# 测试训练结果\n",
    "score = model.evaluate(\n",
    "    X_test, Y_test\n",
    ")\n",
    "print('Test loss:', score[0])\n",
    "print('Test accuracy:', score[1])\n",
    "\n",
    "test_model = LeNet.build(HP_input_shape, 10)\n",
    "test_model.compile(\n",
    "    optimizer=Adam(),\n",
    "    loss=categorical_crossentropy,\n",
    "    metrics=['acc']\n",
    ")\n",
    "test_model.load_weights('cnn_weights.h5')\n",
    "score = test_model.evaluate(\n",
    "    X_test, Y_test\n",
    ")\n",
    "print('Best weights test loss:', score[0])\n",
    "print('Best weights test accuracy:', score[1])"
   ]
  },
  {
   "cell_type": "code",
   "execution_count": 11,
   "metadata": {},
   "outputs": [
    {
     "data": {
      "image/png": "[encoded data removed]",
      "text/plain": [
       "<Figure size 1080x432 with 2 Axes>"
      ]
     },
     "metadata": {
      "needs_background": "light"
     },
     "output_type": "display_data"
    }
   ],
   "source": [
    "# 绘制训练曲线\n",
    "acc = history.history['acc']\n",
    "val_acc = history.history['val_acc']\n",
    "loss = history.history['loss']\n",
    "val_loss = history.history['val_loss']\n",
    "\n",
    "plt_epochs = range(1, len(acc) + 1)\n",
    "\n",
    "plt.figure(figsize=(15, 6))\n",
    "plt.subplot(1, 2, 1)\n",
    "plt.plot(plt_epochs, acc, 'b', label='Training acc')\n",
    "plt.plot(plt_epochs, val_acc, 'g', label='Validation acc')\n",
    "plt.title('Training and validation accuracy')\n",
    "plt.legend(loc='best')\n",
    "\n",
    "plt.subplot(1, 2, 2)\n",
    "plt.plot(plt_epochs, loss, 'b', label='Training loss')\n",
    "plt.plot(plt_epochs, val_loss, 'g', label='Validation loss')\n",
    "plt.title('Training and validation loss')\n",
    "plt.legend(loc='best')\n",
    "\n",
    "plt.show()"
   ]
  },
  {
   "cell_type": "markdown",
   "metadata": {},
   "source": [
    "# 3.3 用深度学习网络识别CIFAR-10图像"
   ]
  },
  {
   "cell_type": "code",
   "execution_count": 28,
   "metadata": {},
   "outputs": [],
   "source": [
    "from keras.datasets import cifar10\n",
    "from keras.utils import to_categorical\n",
    "from keras import layers, Input\n",
    "from keras.models import Model\n",
    "from keras.optimizers import SGD, Adam, RMSprop\n",
    "import matplotlib.pyplot as plt"
   ]
  },
  {
   "cell_type": "code",
   "execution_count": 29,
   "metadata": {},
   "outputs": [],
   "source": [
    "# 超参数设置\n",
    "IMG_CHANNELS = 3\n",
    "IMG_ROWS = 32\n",
    "IMG_COLS = 32\n",
    "\n",
    "BATCH_SIZE = 128\n",
    "EPOCHS = 40\n",
    "CLASSES = 10\n",
    "VALIDATION_SPLIT = 0.2\n",
    "OPTIMIZER = RMSprop()"
   ]
  },
  {
   "cell_type": "code",
   "execution_count": 30,
   "metadata": {},
   "outputs": [
    {
     "name": "stdout",
     "output_type": "stream",
     "text": [
      "x_train shape: (50000, 32, 32, 3)\n",
      "50000 train sample\n",
      "10000 test sample\n"
     ]
    }
   ],
   "source": [
    "# 数据预处理\n",
    "def preprocessing(classes=10):\n",
    "    (x_train, y_train), (x_test, y_test) = cifar10.load_data()\n",
    "    print('x_train shape:', x_train.shape)\n",
    "    print(x_train.shape[0], 'train sample')\n",
    "    print(x_test.shape[0], 'test sample')\n",
    "    # 训练标签转换为one_hot格式\n",
    "    y_train = to_categorical(y_train, classes)\n",
    "    y_test = to_categorical(y_test, classes)\n",
    "    # 训练图片归一化\n",
    "    x_train = x_train.astype('float32') / 255.\n",
    "    x_test = x_test.astype('float32') / 255.\n",
    "    \n",
    "    return (x_train, y_train), (x_test, y_test)\n",
    "\n",
    "(x_train, y_train), (x_test, y_test) = preprocessing(CLASSES)"
   ]
  },
  {
   "cell_type": "code",
   "execution_count": 31,
   "metadata": {},
   "outputs": [],
   "source": [
    "# 构建网络\n",
    "def cifar10_network(input_shape, classes=10):\n",
    "    input_tensor = Input(shape=input_shape)\n",
    "    \n",
    "    conv1 = layers.Conv2D(32, (3, 3), padding='same')(input_tensor)\n",
    "    conv1 = layers.Activation('relu')(conv1)\n",
    "    \n",
    "    conv2 = layers.Conv2D(32, (3, 3), padding='same')(conv1)\n",
    "    conv2 = layers.Activation('relu')(conv2)\n",
    "    conv2 = layers.MaxPooling2D((2, 2))(conv2)\n",
    "    conv2 = layers.Dropout(0.25)(conv2)\n",
    "    \n",
    "    conv3 = layers.Conv2D(64, (3, 3), padding='same')(conv2)\n",
    "    conv3 = layers.Activation('relu')(conv3)\n",
    "    \n",
    "    conv4 = layers.Conv2D(64, (3, 3))(conv3)\n",
    "    conv4 = layers.Activation('relu')(conv4)\n",
    "    conv4 = layers.MaxPooling2D((2, 2))(conv4)\n",
    "    conv4 = layers.Dropout(0.25)(conv4)\n",
    "    \n",
    "    dense5 = layers.Flatten()(conv4)\n",
    "    dense5 = layers.Dense(512)(dense5)\n",
    "    dense5 = layers.Activation('relu')(dense5)\n",
    "    dense5 = layers.Dropout(0.5)(dense5)\n",
    "    \n",
    "    output_tensor = layers.Dense(classes)(dense5)\n",
    "    output_tensor = layers.Activation('softmax')(output_tensor)\n",
    "    \n",
    "    model = Model(input_tensor, output_tensor)\n",
    "    return model"
   ]
  },
  {
   "cell_type": "code",
   "execution_count": 32,
   "metadata": {},
   "outputs": [
    {
     "name": "stdout",
     "output_type": "stream",
     "text": [
      "_________________________________________________________________\n",
      "Layer (type)                 Output Shape              Param #   \n",
      "=================================================================\n",
      "input_7 (InputLayer)         (None, 32, 32, 3)         0         \n",
      "_________________________________________________________________\n",
      "conv2d_16 (Conv2D)           (None, 32, 32, 32)        896       \n",
      "_________________________________________________________________\n",
      "activation_25 (Activation)   (None, 32, 32, 32)        0         \n",
      "_________________________________________________________________\n",
      "conv2d_17 (Conv2D)           (None, 32, 32, 32)        9248      \n",
      "_________________________________________________________________\n",
      "activation_26 (Activation)   (None, 32, 32, 32)        0         \n",
      "_________________________________________________________________\n",
      "max_pooling2d_9 (MaxPooling2 (None, 16, 16, 32)        0         \n",
      "_________________________________________________________________\n",
      "dropout_14 (Dropout)         (None, 16, 16, 32)        0         \n",
      "_________________________________________________________________\n",
      "conv2d_18 (Conv2D)           (None, 16, 16, 64)        18496     \n",
      "_________________________________________________________________\n",
      "activation_27 (Activation)   (None, 16, 16, 64)        0         \n",
      "_________________________________________________________________\n",
      "conv2d_19 (Conv2D)           (None, 14, 14, 64)        36928     \n",
      "_________________________________________________________________\n",
      "activation_28 (Activation)   (None, 14, 14, 64)        0         \n",
      "_________________________________________________________________\n",
      "max_pooling2d_10 (MaxPooling (None, 7, 7, 64)          0         \n",
      "_________________________________________________________________\n",
      "dropout_15 (Dropout)         (None, 7, 7, 64)          0         \n",
      "_________________________________________________________________\n",
      "flatten_6 (Flatten)          (None, 3136)              0         \n",
      "_________________________________________________________________\n",
      "dense_11 (Dense)             (None, 512)               1606144   \n",
      "_________________________________________________________________\n",
      "activation_29 (Activation)   (None, 512)               0         \n",
      "_________________________________________________________________\n",
      "dropout_16 (Dropout)         (None, 512)               0         \n",
      "_________________________________________________________________\n",
      "dense_12 (Dense)             (None, 10)                5130      \n",
      "_________________________________________________________________\n",
      "activation_30 (Activation)   (None, 10)                0         \n",
      "=================================================================\n",
      "Total params: 1,676,842\n",
      "Trainable params: 1,676,842\n",
      "Non-trainable params: 0\n",
      "_________________________________________________________________\n"
     ]
    }
   ],
   "source": [
    "# 检查模型\n",
    "model = cifar10_network((IMG_ROWS, IMG_COLS, IMG_CHANNELS), CLASSES)\n",
    "model.summary()"
   ]
  },
  {
   "cell_type": "code",
   "execution_count": 33,
   "metadata": {},
   "outputs": [
    {
     "name": "stdout",
     "output_type": "stream",
     "text": [
      "Train on 40000 samples, validate on 10000 samples\n",
      "Epoch 1/40\n",
      "40000/40000 [==============================] - 13s 320us/step - loss: 1.7707 - acc: 0.3599 - val_loss: 1.4081 - val_acc: 0.4879\n",
      "Epoch 2/40\n",
      "40000/40000 [==============================] - 12s 296us/step - loss: 1.3274 - acc: 0.5282 - val_loss: 1.1456 - val_acc: 0.5933\n",
      "Epoch 3/40\n",
      "40000/40000 [==============================] - 12s 302us/step - loss: 1.1275 - acc: 0.6024 - val_loss: 1.0740 - val_acc: 0.6224\n",
      "Epoch 4/40\n",
      "40000/40000 [==============================] - 12s 301us/step - loss: 1.0014 - acc: 0.6486 - val_loss: 0.8936 - val_acc: 0.6877\n",
      "Epoch 5/40\n",
      "40000/40000 [==============================] - 12s 298us/step - loss: 0.8981 - acc: 0.6849 - val_loss: 0.8310 - val_acc: 0.7093\n",
      "Epoch 6/40\n",
      "40000/40000 [==============================] - 12s 301us/step - loss: 0.8260 - acc: 0.7110 - val_loss: 0.7804 - val_acc: 0.7329\n",
      "Epoch 7/40\n",
      "40000/40000 [==============================] - 12s 304us/step - loss: 0.7654 - acc: 0.7371 - val_loss: 1.0725 - val_acc: 0.6457\n",
      "Epoch 8/40\n",
      "40000/40000 [==============================] - 12s 299us/step - loss: 0.7198 - acc: 0.7503 - val_loss: 0.8655 - val_acc: 0.7176\n",
      "Epoch 9/40\n",
      "40000/40000 [==============================] - 12s 298us/step - loss: 0.6767 - acc: 0.7649 - val_loss: 0.7572 - val_acc: 0.7450\n",
      "Epoch 10/40\n",
      "40000/40000 [==============================] - 12s 299us/step - loss: 0.6415 - acc: 0.7785 - val_loss: 0.8767 - val_acc: 0.7059\n",
      "Epoch 11/40\n",
      "40000/40000 [==============================] - 12s 299us/step - loss: 0.6139 - acc: 0.7860 - val_loss: 0.7181 - val_acc: 0.7568\n",
      "Epoch 12/40\n",
      "40000/40000 [==============================] - 12s 298us/step - loss: 0.5961 - acc: 0.7952 - val_loss: 0.6684 - val_acc: 0.7775\n",
      "Epoch 13/40\n",
      "40000/40000 [==============================] - 12s 298us/step - loss: 0.5766 - acc: 0.8042 - val_loss: 0.6656 - val_acc: 0.7781\n",
      "Epoch 14/40\n",
      "40000/40000 [==============================] - 12s 298us/step - loss: 0.5685 - acc: 0.8089 - val_loss: 0.6702 - val_acc: 0.7784\n",
      "Epoch 15/40\n",
      "40000/40000 [==============================] - 12s 298us/step - loss: 0.5536 - acc: 0.8110 - val_loss: 0.8245 - val_acc: 0.7542\n",
      "Epoch 16/40\n",
      "40000/40000 [==============================] - 12s 301us/step - loss: 0.5530 - acc: 0.8141 - val_loss: 0.7865 - val_acc: 0.7764\n",
      "Epoch 17/40\n",
      "40000/40000 [==============================] - 12s 304us/step - loss: 0.5461 - acc: 0.8162 - val_loss: 0.6944 - val_acc: 0.7781\n",
      "Epoch 18/40\n",
      "40000/40000 [==============================] - 12s 299us/step - loss: 0.5462 - acc: 0.8166 - val_loss: 0.7369 - val_acc: 0.7841\n",
      "Epoch 19/40\n",
      "40000/40000 [==============================] - 12s 302us/step - loss: 0.5428 - acc: 0.8209 - val_loss: 0.6988 - val_acc: 0.7800\n",
      "Epoch 20/40\n",
      "40000/40000 [==============================] - 12s 299us/step - loss: 0.5353 - acc: 0.8221 - val_loss: 0.6953 - val_acc: 0.7875\n",
      "Epoch 21/40\n",
      "40000/40000 [==============================] - 12s 298us/step - loss: 0.5377 - acc: 0.8197 - val_loss: 0.7067 - val_acc: 0.7658\n",
      "Epoch 22/40\n",
      "40000/40000 [==============================] - 12s 299us/step - loss: 0.5424 - acc: 0.8214 - val_loss: 0.6855 - val_acc: 0.7648\n",
      "Epoch 23/40\n",
      "40000/40000 [==============================] - 12s 299us/step - loss: 0.5434 - acc: 0.8219 - val_loss: 0.7932 - val_acc: 0.7437\n",
      "Epoch 24/40\n",
      "40000/40000 [==============================] - 12s 299us/step - loss: 0.5347 - acc: 0.8246 - val_loss: 0.6666 - val_acc: 0.7855\n",
      "Epoch 25/40\n",
      "40000/40000 [==============================] - 12s 299us/step - loss: 0.5358 - acc: 0.8256 - val_loss: 0.7030 - val_acc: 0.7863\n",
      "Epoch 26/40\n",
      "40000/40000 [==============================] - 12s 299us/step - loss: 0.5368 - acc: 0.8243 - val_loss: 0.8189 - val_acc: 0.7809\n",
      "Epoch 27/40\n",
      "40000/40000 [==============================] - 12s 299us/step - loss: 0.5350 - acc: 0.8275 - val_loss: 0.9728 - val_acc: 0.7754\n",
      "Epoch 28/40\n",
      "40000/40000 [==============================] - 12s 300us/step - loss: 0.5380 - acc: 0.8269 - val_loss: 0.7239 - val_acc: 0.7863\n",
      "Epoch 29/40\n",
      "40000/40000 [==============================] - 12s 300us/step - loss: 0.5328 - acc: 0.8295 - val_loss: 0.6987 - val_acc: 0.7795\n",
      "Epoch 30/40\n",
      "40000/40000 [==============================] - 12s 301us/step - loss: 0.5313 - acc: 0.8265 - val_loss: 0.8413 - val_acc: 0.7819\n",
      "Epoch 31/40\n",
      "40000/40000 [==============================] - 12s 306us/step - loss: 0.5451 - acc: 0.8236 - val_loss: 0.7380 - val_acc: 0.7621\n",
      "Epoch 32/40\n",
      "40000/40000 [==============================] - 12s 300us/step - loss: 0.5278 - acc: 0.8275 - val_loss: 0.7299 - val_acc: 0.7916\n",
      "Epoch 33/40\n",
      "40000/40000 [==============================] - 12s 299us/step - loss: 0.5418 - acc: 0.8241 - val_loss: 0.9463 - val_acc: 0.7846\n",
      "Epoch 34/40\n",
      "40000/40000 [==============================] - 12s 303us/step - loss: 0.5322 - acc: 0.8283 - val_loss: 0.7603 - val_acc: 0.7801\n",
      "Epoch 35/40\n",
      "40000/40000 [==============================] - 12s 301us/step - loss: 0.5367 - acc: 0.8253 - val_loss: 0.9222 - val_acc: 0.7942\n",
      "Epoch 36/40\n",
      "40000/40000 [==============================] - 12s 298us/step - loss: 0.5484 - acc: 0.8238 - val_loss: 0.7041 - val_acc: 0.7733\n",
      "Epoch 37/40\n",
      "40000/40000 [==============================] - 12s 298us/step - loss: 0.5535 - acc: 0.8212 - val_loss: 0.9331 - val_acc: 0.6913\n",
      "Epoch 38/40\n",
      "40000/40000 [==============================] - 12s 299us/step - loss: 0.5535 - acc: 0.8232 - val_loss: 0.8500 - val_acc: 0.7778\n",
      "Epoch 39/40\n",
      "40000/40000 [==============================] - 12s 298us/step - loss: 0.5578 - acc: 0.8228 - val_loss: 0.7592 - val_acc: 0.7834\n",
      "Epoch 40/40\n",
      "40000/40000 [==============================] - 12s 298us/step - loss: 0.5541 - acc: 0.8246 - val_loss: 0.7287 - val_acc: 0.7649\n"
     ]
    }
   ],
   "source": [
    "# 训练\n",
    "model.compile(\n",
    "    optimizer=OPTIMIZER,\n",
    "    loss='categorical_crossentropy',\n",
    "    metrics=['acc']\n",
    ")\n",
    "\n",
    "history = model.fit(\n",
    "    x_train, y_train,\n",
    "    epochs=EPOCHS,\n",
    "    batch_size=BATCH_SIZE,\n",
    "    validation_split=VALIDATION_SPLIT\n",
    ")"
   ]
  },
  {
   "cell_type": "code",
   "execution_count": 34,
   "metadata": {},
   "outputs": [
    {
     "name": "stdout",
     "output_type": "stream",
     "text": [
      "10000/10000 [==============================] - 1s 93us/step\n",
      "Test loss: 0.7558425786018371\n",
      "Test accuracy: 0.7632\n"
     ]
    }
   ],
   "source": [
    "# 测试\n",
    "score = model.evaluate(\n",
    "    x_test, y_test,\n",
    "    batch_size=BATCH_SIZE\n",
    ")\n",
    "print('Test loss:', score[0])\n",
    "print('Test accuracy:', score[1])"
   ]
  },
  {
   "cell_type": "code",
   "execution_count": 35,
   "metadata": {},
   "outputs": [
    {
     "data": {
      "image/png": "[encoded data removed]",
      "text/plain": [
       "<Figure size 1080x432 with 2 Axes>"
      ]
     },
     "metadata": {
      "needs_background": "light"
     },
     "output_type": "display_data"
    }
   ],
   "source": [
    "# 可视化\n",
    "acc = history.history['acc']\n",
    "val_acc = history.history['val_acc']\n",
    "loss = history.history['loss']\n",
    "val_loss = history.history['val_loss']\n",
    "\n",
    "plt_epochs = range(1, len(acc) + 1)\n",
    "\n",
    "plt.figure(figsize=(15, 6))\n",
    "plt.subplot(1, 2, 1)\n",
    "plt.plot(plt_epochs, acc, 'b', label='Training acc')\n",
    "plt.plot(plt_epochs, val_acc, 'g', label='Validation acc')\n",
    "plt.title('Training and validation accuracy')\n",
    "plt.legend(loc='best')\n",
    "\n",
    "plt.subplot(1, 2, 2)\n",
    "plt.plot(plt_epochs, loss, 'b', label='Training loss')\n",
    "plt.plot(plt_epochs, val_loss, 'g', label='Validation loss')\n",
    "plt.title('Training and validation loss')\n",
    "plt.legend(loc='best')\n",
    "\n",
    "plt.show()"
   ]
  },
  {
   "cell_type": "code",
   "execution_count": null,
   "metadata": {},
   "outputs": [],
   "source": []
  }
 ],
 "metadata": {
  "kernelspec": {
   "display_name": "Python 3",
   "language": "python",
   "name": "python3"
  },
  "language_info": {
   "codemirror_mode": {
    "name": "ipython",
    "version": 3
   },
   "file_extension": ".py",
   "mimetype": "text/x-python",
   "name": "python",
   "nbconvert_exporter": "python",
   "pygments_lexer": "ipython3",
   "version": "3.6.8"
  },
  "toc": {
   "base_numbering": 1,
   "nav_menu": {},
   "number_sections": true,
   "sideBar": true,
   "skip_h1_title": false,
   "title_cell": "Table of Contents",
   "title_sidebar": "Contents",
   "toc_cell": false,
   "toc_position": {},
   "toc_section_display": true,
   "toc_window_display": true
  }
 },
 "nbformat": 4,
 "nbformat_minor": 2
}
