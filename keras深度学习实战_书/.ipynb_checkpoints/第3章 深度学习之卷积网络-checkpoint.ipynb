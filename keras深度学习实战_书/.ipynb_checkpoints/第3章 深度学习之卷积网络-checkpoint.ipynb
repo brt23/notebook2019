{
 "cells": [
  {
   "cell_type": "markdown",
   "metadata": {},
   "source": [
    "# 3.2 DCNN示例——LeNet"
   ]
  },
  {
   "cell_type": "code",
   "execution_count": 1,
   "metadata": {},
   "outputs": [
    {
     "name": "stderr",
     "output_type": "stream",
     "text": [
      "Using TensorFlow backend.\n"
     ]
    }
   ],
   "source": [
    "from matplotlib import pyplot as plt\n",
    "from keras import layers, Input\n",
    "from keras.models import Model\n",
    "from keras.datasets import mnist\n",
    "from keras.utils import to_categorical\n",
    "from keras.optimizers import Adam\n",
    "from keras.losses import categorical_crossentropy\n",
    "from keras.callbacks import ModelCheckpoint\n",
    "from keras import backend as K"
   ]
  },
  {
   "cell_type": "code",
   "execution_count": 2,
   "metadata": {},
   "outputs": [],
   "source": [
    "# 超参数设定\n",
    "HP_epochs = 20\n",
    "HP_batch_size = 128\n",
    "HP_validation_split = 0.2\n",
    "HP_input_shape = (28, 28, 1)"
   ]
  },
  {
   "cell_type": "code",
   "execution_count": 3,
   "metadata": {},
   "outputs": [],
   "source": [
    "# 搭建网络模型\n",
    "def network(input_shape):\n",
    "    input_tensor = Input(shape=input_shape)\n",
    "    \n",
    "    conv1 = layers.Conv2D(32, (3, 3))(input_tensor)\n",
    "    conv1 = layers.Activation('relu')(conv1)\n",
    "    conv1 = layers.MaxPooling2D((2, 2))(conv1)\n",
    "    \n",
    "    conv2 = layers.Conv2D(64, (3, 3))(conv1)\n",
    "    conv2 = layers.Activation('relu')(conv2)\n",
    "    conv2 = layers.MaxPooling2D((2, 2))(conv2)\n",
    "    \n",
    "    conv3 = layers.Conv2D(64, (3, 3))(conv2)\n",
    "    conv3 = layers.Activation('relu')(conv3)\n",
    "\n",
    "    dense4 = layers.Flatten()(conv3)\n",
    "    dense4 = layers.Dense(128)(dense4)\n",
    "    dense4 = layers.Activation('relu')(dense4)\n",
    "    \n",
    "    output_tensor = layers.Dense(10)(dense4)\n",
    "    output_tensor = layers.Activation('softmax')(output_tensor)\n",
    "    \n",
    "    model = Model(input_tensor, output_tensor)\n",
    "    return model"
   ]
  },
  {
   "cell_type": "code",
   "execution_count": 4,
   "metadata": {},
   "outputs": [],
   "source": [
    "# 定义LeNet\n",
    "class LeNet:\n",
    "    @staticmethod\n",
    "    def build(input_shape, classes):\n",
    "        input_tensor = Input(shape=input_shape)\n",
    "        \n",
    "        conv1 = layers.Conv2D(20, (5, 5), padding='same')(input_tensor)\n",
    "        conv1 = layers.Activation(('relu'))(conv1)\n",
    "        conv1 = layers.MaxPooling2D((2, 2))(conv1)\n",
    "        \n",
    "        conv2 = layers.Conv2D(20, (5, 5), padding='same')(conv1)\n",
    "        conv2 = layers.Activation(('relu'))(conv2)\n",
    "        conv2 = layers.MaxPooling2D((2, 2))(conv2)\n",
    "        \n",
    "        dense3 = layers.Flatten()(conv2)\n",
    "        dense3 = layers.Dense(500)(dense3)\n",
    "        dense3 = layers.Activation('relu')(dense3)\n",
    "        \n",
    "        output_tensor = layers.Dense(classes)(dense3)\n",
    "        output_tensor = layers.Activation('softmax')(output_tensor)\n",
    "        \n",
    "        model = Model(input_tensor, output_tensor)\n",
    "        return model"
   ]
  },
  {
   "cell_type": "code",
   "execution_count": 5,
   "metadata": {},
   "outputs": [
    {
     "name": "stdout",
     "output_type": "stream",
     "text": [
      "_________________________________________________________________\n",
      "Layer (type)                 Output Shape              Param #   \n",
      "=================================================================\n",
      "input_1 (InputLayer)         (None, 28, 28, 1)         0         \n",
      "_________________________________________________________________\n",
      "conv2d_1 (Conv2D)            (None, 28, 28, 20)        520       \n",
      "_________________________________________________________________\n",
      "activation_1 (Activation)    (None, 28, 28, 20)        0         \n",
      "_________________________________________________________________\n",
      "max_pooling2d_1 (MaxPooling2 (None, 14, 14, 20)        0         \n",
      "_________________________________________________________________\n",
      "conv2d_2 (Conv2D)            (None, 14, 14, 20)        10020     \n",
      "_________________________________________________________________\n",
      "activation_2 (Activation)    (None, 14, 14, 20)        0         \n",
      "_________________________________________________________________\n",
      "max_pooling2d_2 (MaxPooling2 (None, 7, 7, 20)          0         \n",
      "_________________________________________________________________\n",
      "flatten_1 (Flatten)          (None, 980)               0         \n",
      "_________________________________________________________________\n",
      "dense_1 (Dense)              (None, 500)               490500    \n",
      "_________________________________________________________________\n",
      "activation_3 (Activation)    (None, 500)               0         \n",
      "_________________________________________________________________\n",
      "dense_2 (Dense)              (None, 10)                5010      \n",
      "_________________________________________________________________\n",
      "activation_4 (Activation)    (None, 10)                0         \n",
      "=================================================================\n",
      "Total params: 506,050\n",
      "Trainable params: 506,050\n",
      "Non-trainable params: 0\n",
      "_________________________________________________________________\n"
     ]
    }
   ],
   "source": [
    "# 查看模型概要\n",
    "# model = network(HP_input_shape)\n",
    "model = LeNet.build(HP_input_shape, 10)\n",
    "model.summary()"
   ]
  },
  {
   "cell_type": "code",
   "execution_count": 6,
   "metadata": {},
   "outputs": [
    {
     "name": "stdout",
     "output_type": "stream",
     "text": [
      "60000 train samples\n",
      "10000 test samples\n"
     ]
    }
   ],
   "source": [
    "# 预处理数据\n",
    "def preprocessing():\n",
    "    (x_train, y_train), (x_test, y_test) = mnist.load_data()\n",
    "    \n",
    "    x_train = x_train.reshape(x_train.shape + (1,))\n",
    "    x_train = x_train.astype('float32') / 255.\n",
    "    x_test = x_test.reshape(x_test.shape + (1,))\n",
    "    x_test = x_test.astype('float32') / 255.\n",
    "    \n",
    "    y_train = to_categorical(y_train, 10)\n",
    "    y_test = to_categorical(y_test, 10)\n",
    "    \n",
    "    return (x_train, y_train), (x_test, y_test)\n",
    "\n",
    "(X_train, Y_train), (X_test, Y_test) = preprocessing()\n",
    "print(X_train.shape[0], 'train samples')\n",
    "print(X_test.shape[0], 'test samples')"
   ]
  },
  {
   "cell_type": "code",
   "execution_count": 7,
   "metadata": {},
   "outputs": [],
   "source": [
    "# 编译模型\n",
    "model.compile(\n",
    "    optimizer=Adam(),\n",
    "    loss=categorical_crossentropy,\n",
    "    metrics=['acc']\n",
    ")"
   ]
  },
  {
   "cell_type": "code",
   "execution_count": 8,
   "metadata": {},
   "outputs": [],
   "source": [
    "# 设置回调模块\n",
    "callbacks = [\n",
    "    ModelCheckpoint(\n",
    "        filepath='cnn_weights.h5',\n",
    "        monitor='val_loss',\n",
    "        save_best_only=True\n",
    "    )\n",
    "]"
   ]
  },
  {
   "cell_type": "code",
   "execution_count": 9,
   "metadata": {},
   "outputs": [
    {
     "name": "stdout",
     "output_type": "stream",
     "text": [
      "Train on 48000 samples, validate on 12000 samples\n",
      "Epoch 1/20\n",
      "48000/48000 [==============================] - 5s 111us/step - loss: 0.2239 - acc: 0.9335 - val_loss: 0.0767 - val_acc: 0.9762\n",
      "Epoch 2/20\n",
      "48000/48000 [==============================] - 4s 88us/step - loss: 0.0603 - acc: 0.9812 - val_loss: 0.0605 - val_acc: 0.9816\n",
      "Epoch 3/20\n",
      "48000/48000 [==============================] - 4s 89us/step - loss: 0.0389 - acc: 0.9881 - val_loss: 0.0463 - val_acc: 0.9862\n",
      "Epoch 4/20\n",
      "48000/48000 [==============================] - 4s 86us/step - loss: 0.0283 - acc: 0.9909 - val_loss: 0.0376 - val_acc: 0.9884\n",
      "Epoch 5/20\n",
      "48000/48000 [==============================] - 4s 85us/step - loss: 0.0219 - acc: 0.9930 - val_loss: 0.0399 - val_acc: 0.9880\n",
      "Epoch 6/20\n",
      "48000/48000 [==============================] - 4s 85us/step - loss: 0.0184 - acc: 0.9938 - val_loss: 0.0438 - val_acc: 0.9867\n",
      "Epoch 7/20\n",
      "48000/48000 [==============================] - 4s 89us/step - loss: 0.0134 - acc: 0.9958 - val_loss: 0.0348 - val_acc: 0.9902\n",
      "Epoch 8/20\n",
      "48000/48000 [==============================] - 4s 86us/step - loss: 0.0120 - acc: 0.9961 - val_loss: 0.0379 - val_acc: 0.9889\n",
      "Epoch 9/20\n",
      "48000/48000 [==============================] - 4s 86us/step - loss: 0.0099 - acc: 0.9970 - val_loss: 0.0403 - val_acc: 0.9892\n",
      "Epoch 10/20\n",
      "48000/48000 [==============================] - 4s 86us/step - loss: 0.0079 - acc: 0.9974 - val_loss: 0.0402 - val_acc: 0.9887\n",
      "Epoch 11/20\n",
      "48000/48000 [==============================] - 4s 86us/step - loss: 0.0077 - acc: 0.9973 - val_loss: 0.0427 - val_acc: 0.9887\n",
      "Epoch 12/20\n",
      "48000/48000 [==============================] - 4s 86us/step - loss: 0.0065 - acc: 0.9978 - val_loss: 0.0431 - val_acc: 0.9897\n",
      "Epoch 13/20\n",
      "48000/48000 [==============================] - 4s 87us/step - loss: 0.0057 - acc: 0.9983 - val_loss: 0.0412 - val_acc: 0.9893\n",
      "Epoch 14/20\n",
      "48000/48000 [==============================] - 4s 87us/step - loss: 0.0043 - acc: 0.9984 - val_loss: 0.0425 - val_acc: 0.9906\n",
      "Epoch 15/20\n",
      "48000/48000 [==============================] - 4s 86us/step - loss: 0.0063 - acc: 0.9979 - val_loss: 0.0521 - val_acc: 0.9882\n",
      "Epoch 16/20\n",
      "48000/48000 [==============================] - 4s 87us/step - loss: 0.0079 - acc: 0.9972 - val_loss: 0.0411 - val_acc: 0.9907\n",
      "Epoch 17/20\n",
      "48000/48000 [==============================] - 4s 87us/step - loss: 0.0028 - acc: 0.9990 - val_loss: 0.0485 - val_acc: 0.9912\n",
      "Epoch 18/20\n",
      "48000/48000 [==============================] - 4s 87us/step - loss: 0.0025 - acc: 0.9992 - val_loss: 0.0431 - val_acc: 0.9917\n",
      "Epoch 19/20\n",
      "48000/48000 [==============================] - 4s 88us/step - loss: 0.0037 - acc: 0.9987 - val_loss: 0.0504 - val_acc: 0.9897\n",
      "Epoch 20/20\n",
      "48000/48000 [==============================] - 4s 87us/step - loss: 0.0060 - acc: 0.9983 - val_loss: 0.0497 - val_acc: 0.9898\n"
     ]
    }
   ],
   "source": [
    "history = model.fit(\n",
    "    X_train, Y_train,\n",
    "    epochs=HP_epochs,\n",
    "    batch_size=HP_batch_size,\n",
    "    validation_split=HP_validation_split,\n",
    "    callbacks=callbacks\n",
    ")"
   ]
  },
  {
   "cell_type": "code",
   "execution_count": 10,
   "metadata": {},
   "outputs": [
    {
     "name": "stdout",
     "output_type": "stream",
     "text": [
      "10000/10000 [==============================] - 0s 50us/step\n",
      "Test loss: 0.03456442594053228\n",
      "Test accuracy: 0.9909\n",
      "10000/10000 [==============================] - 1s 52us/step\n",
      "Best weights test loss: 0.028761325437383495\n",
      "Best weights test accuracy: 0.9906\n"
     ]
    }
   ],
   "source": [
    "# 测试训练结果\n",
    "score = model.evaluate(\n",
    "    X_test, Y_test\n",
    ")\n",
    "print('Test loss:', score[0])\n",
    "print('Test accuracy:', score[1])\n",
    "\n",
    "test_model = LeNet.build(HP_input_shape, 10)\n",
    "test_model.compile(\n",
    "    optimizer=Adam(),\n",
    "    loss=categorical_crossentropy,\n",
    "    metrics=['acc']\n",
    ")\n",
    "test_model.load_weights('cnn_weights.h5')\n",
    "score = test_model.evaluate(\n",
    "    X_test, Y_test\n",
    ")\n",
    "print('Best weights test loss:', score[0])\n",
    "print('Best weights test accuracy:', score[1])"
   ]
  },
  {
   "cell_type": "code",
   "execution_count": 11,
   "metadata": {},
   "outputs": [
    {
     "data": {
      "image/png": "[encoded data removed]",
      "text/plain": [
       "<Figure size 1080x432 with 2 Axes>"
      ]
     },
     "metadata": {
      "needs_background": "light"
     },
     "output_type": "display_data"
    }
   ],
   "source": [
    "# 绘制训练曲线\n",
    "acc = history.history['acc']\n",
    "val_acc = history.history['val_acc']\n",
    "loss = history.history['loss']\n",
    "val_loss = history.history['val_loss']\n",
    "\n",
    "plt_epochs = range(1, len(acc) + 1)\n",
    "\n",
    "plt.figure(figsize=(15, 6))\n",
    "plt.subplot(1, 2, 1)\n",
    "plt.plot(plt_epochs, acc, 'b', label='Training acc')\n",
    "plt.plot(plt_epochs, val_acc, 'g', label='Validation acc')\n",
    "plt.title('Training and validation accuracy')\n",
    "plt.legend(loc='best')\n",
    "\n",
    "plt.subplot(1, 2, 2)\n",
    "plt.plot(plt_epochs, loss, 'b', label='Training loss')\n",
    "plt.plot(plt_epochs, val_loss, 'g', label='Validation loss')\n",
    "plt.title('Training and validation loss')\n",
    "plt.legend(loc='best')\n",
    "\n",
    "plt.show()"
   ]
  },
  {
   "cell_type": "markdown",
   "metadata": {},
   "source": [
    "# 3.3 用深度学习网络识别CIFAR-10图像"
   ]
  },
  {
   "cell_type": "code",
   "execution_count": 8,
   "metadata": {},
   "outputs": [],
   "source": [
    "from keras.datasets import cifar10\n",
    "from keras.utils import to_categorical\n",
    "from keras import layers, Input\n",
    "from keras.models import Model\n",
    "from keras.optimizers import SGD, Adam, RMSprop\n",
    "import matplotlib.pyplot as plt"
   ]
  },
  {
   "cell_type": "code",
   "execution_count": 9,
   "metadata": {},
   "outputs": [],
   "source": [
    "# 超参数设置\n",
    "IMG_CHANNELS = 3\n",
    "IMG_ROWS = 32\n",
    "IMG_COLS = 32\n",
    "\n",
    "BATCH_SIZE = 128\n",
    "EPOCHS = 40\n",
    "CLASSES = 10\n",
    "VALIDATION_SPLIT = 0.2\n",
    "OPTIMIZER = RMSprop()"
   ]
  },
  {
   "cell_type": "code",
   "execution_count": 12,
   "metadata": {},
   "outputs": [
    {
     "name": "stdout",
     "output_type": "stream",
     "text": [
      "x_train shape: (50000, 32, 32, 3)\n",
      "50000 train sample\n",
      "10000 test sample\n"
     ]
    }
   ],
   "source": [
    "# 数据预处理\n",
    "def preprocessing(classes=10):\n",
    "    (x_train, y_train), (x_test, y_test) = cifar10.load_data()\n",
    "    print('x_train shape:', x_train.shape)\n",
    "    print(x_train.shape[0], 'train sample')\n",
    "    print(x_test.shape[0], 'test sample')\n",
    "    # 训练标签转换为one_hot格式\n",
    "    y_train = to_categorical(y_train, classes)\n",
    "    y_test = to_categorical(y_test, classes)\n",
    "    # 训练图片归一化\n",
    "    x_train = x_train.astype('float32') / 255.\n",
    "    x_test = x_test.astype('float32') / 255.\n",
    "    \n",
    "    return (x_train, y_train), (x_test, y_test)\n",
    "\n",
    "(x_train, y_train), (x_test, y_test) = preprocessing(CLASSES)"
   ]
  },
  {
   "cell_type": "code",
   "execution_count": 26,
   "metadata": {},
   "outputs": [],
   "source": [
    "# 构建网络\n",
    "def cifar10_network(input_shape, classes=10):\n",
    "    input_tensor = Input(shape=input_shape)\n",
    "    \n",
    "    conv1 = layers.Conv2D(32, (3, 3), padding='same')(input_tensor)\n",
    "    conv1 = layers.Activation('relu')(conv1)\n",
    "    \n",
    "    conv2 = layers.Conv2D(32, (3, 3), padding='same')(conv1)\n",
    "    conv2 = layers.Activation('relu')(conv2)\n",
    "    conv2 = layers.MaxPooling2D((2, 2))(conv2)\n",
    "    conv2 = layers.Dropout(0.25)(conv2)\n",
    "    \n",
    "    conv3 = layers.Conv2D(64, (3, 3), padding='same')(conv2)\n",
    "    conv3 = layers.Activation('relu')(conv3)\n",
    "    \n",
    "    conv4 = layers.Conv2D(64, (3, 3))(conv3)\n",
    "    conv4 = layers.Activation('relu')(conv4)\n",
    "    conv4 = layers.MaxPooling2D((2, 2))(conv4)\n",
    "    conv4 = layers.Dropout(0.25)(conv4)\n",
    "    \n",
    "    dense5 = layers.Flatten()(conv4)\n",
    "    dense5 = layers.Dense(512)(dense5)\n",
    "    dense5 = layers.Activation('relu')(dense5)\n",
    "    dense5 = layers.Dropout(0.5)(dense5)\n",
    "    \n",
    "    output_tensor = layers.Dense(classes)(dense5)\n",
    "    output_tensor = layers.Activation('softmax')(output_tensor)\n",
    "    \n",
    "    model = Model(input_tensor, output_tensor)\n",
    "    return model"
   ]
  },
  {
   "cell_type": "code",
   "execution_count": 27,
   "metadata": {},
   "outputs": [
    {
     "name": "stdout",
     "output_type": "stream",
     "text": [
      "_________________________________________________________________\n",
      "Layer (type)                 Output Shape              Param #   \n",
      "=================================================================\n",
      "input_6 (InputLayer)         (None, 32, 32, 3)         0         \n",
      "_________________________________________________________________\n",
      "conv2d_12 (Conv2D)           (None, 32, 32, 32)        896       \n",
      "_________________________________________________________________\n",
      "activation_19 (Activation)   (None, 32, 32, 32)        0         \n",
      "_________________________________________________________________\n",
      "conv2d_13 (Conv2D)           (None, 32, 32, 32)        9248      \n",
      "_________________________________________________________________\n",
      "activation_20 (Activation)   (None, 32, 32, 32)        0         \n",
      "_________________________________________________________________\n",
      "max_pooling2d_7 (MaxPooling2 (None, 16, 16, 32)        0         \n",
      "_________________________________________________________________\n",
      "dropout_11 (Dropout)         (None, 16, 16, 32)        0         \n",
      "_________________________________________________________________\n",
      "conv2d_14 (Conv2D)           (None, 16, 16, 64)        18496     \n",
      "_________________________________________________________________\n",
      "activation_21 (Activation)   (None, 16, 16, 64)        0         \n",
      "_________________________________________________________________\n",
      "conv2d_15 (Conv2D)           (None, 14, 14, 64)        36928     \n",
      "_________________________________________________________________\n",
      "activation_22 (Activation)   (None, 14, 14, 64)        0         \n",
      "_________________________________________________________________\n",
      "max_pooling2d_8 (MaxPooling2 (None, 7, 7, 64)          0         \n",
      "_________________________________________________________________\n",
      "dropout_12 (Dropout)         (None, 7, 7, 64)          0         \n",
      "_________________________________________________________________\n",
      "flatten_5 (Flatten)          (None, 3136)              0         \n",
      "_________________________________________________________________\n",
      "dense_9 (Dense)              (None, 512)               1606144   \n",
      "_________________________________________________________________\n",
      "activation_23 (Activation)   (None, 512)               0         \n",
      "_________________________________________________________________\n",
      "dropout_13 (Dropout)         (None, 512)               0         \n",
      "_________________________________________________________________\n",
      "dense_10 (Dense)             (None, 10)                5130      \n",
      "_________________________________________________________________\n",
      "activation_24 (Activation)   (None, 10)                0         \n",
      "=================================================================\n",
      "Total params: 1,676,842\n",
      "Trainable params: 1,676,842\n",
      "Non-trainable params: 0\n",
      "_________________________________________________________________\n"
     ]
    }
   ],
   "source": [
    "# 检查模型\n",
    "model = cifar10_network((IMG_ROWS, IMG_COLS, IMG_CHANNELS), CLASSES)\n",
    "model.summary()"
   ]
  },
  {
   "cell_type": "code",
   "execution_count": 19,
   "metadata": {},
   "outputs": [
    {
     "name": "stdout",
     "output_type": "stream",
     "text": [
      "Train on 40000 samples, validate on 10000 samples\n",
      "Epoch 1/20\n",
      "40000/40000 [==============================] - 8s 194us/step - loss: 1.7835 - acc: 0.3762 - val_loss: 1.4195 - val_acc: 0.5042\n",
      "Epoch 2/20\n",
      "40000/40000 [==============================] - 6s 160us/step - loss: 1.3886 - acc: 0.5091 - val_loss: 1.2638 - val_acc: 0.5654\n",
      "Epoch 3/20\n",
      "40000/40000 [==============================] - 6s 161us/step - loss: 1.2484 - acc: 0.5584 - val_loss: 1.1921 - val_acc: 0.5874\n",
      "Epoch 4/20\n",
      "40000/40000 [==============================] - 6s 160us/step - loss: 1.1608 - acc: 0.5910 - val_loss: 1.1807 - val_acc: 0.5920\n",
      "Epoch 5/20\n",
      "40000/40000 [==============================] - 6s 161us/step - loss: 1.0927 - acc: 0.6168 - val_loss: 1.1132 - val_acc: 0.6098\n",
      "Epoch 6/20\n",
      "40000/40000 [==============================] - 6s 161us/step - loss: 1.0342 - acc: 0.6392 - val_loss: 1.0995 - val_acc: 0.6195\n",
      "Epoch 7/20\n",
      "40000/40000 [==============================] - 6s 162us/step - loss: 0.9881 - acc: 0.6521 - val_loss: 1.1875 - val_acc: 0.5900\n",
      "Epoch 8/20\n",
      "40000/40000 [==============================] - 6s 161us/step - loss: 0.9400 - acc: 0.6731 - val_loss: 1.0823 - val_acc: 0.6358\n",
      "Epoch 9/20\n",
      "40000/40000 [==============================] - 6s 161us/step - loss: 0.9022 - acc: 0.6854 - val_loss: 1.0286 - val_acc: 0.6459\n",
      "Epoch 10/20\n",
      "40000/40000 [==============================] - 6s 162us/step - loss: 0.8621 - acc: 0.6995 - val_loss: 1.1060 - val_acc: 0.6307\n",
      "Epoch 11/20\n",
      "40000/40000 [==============================] - 6s 161us/step - loss: 0.8266 - acc: 0.7125 - val_loss: 1.1130 - val_acc: 0.6250\n",
      "Epoch 12/20\n",
      "40000/40000 [==============================] - 6s 162us/step - loss: 0.7994 - acc: 0.7223 - val_loss: 1.0127 - val_acc: 0.6599\n",
      "Epoch 13/20\n",
      "40000/40000 [==============================] - 6s 161us/step - loss: 0.7717 - acc: 0.7319 - val_loss: 1.0226 - val_acc: 0.6631\n",
      "Epoch 14/20\n",
      "40000/40000 [==============================] - 6s 162us/step - loss: 0.7431 - acc: 0.7429 - val_loss: 1.0054 - val_acc: 0.6692\n",
      "Epoch 15/20\n",
      "40000/40000 [==============================] - 6s 161us/step - loss: 0.7205 - acc: 0.7539 - val_loss: 1.0411 - val_acc: 0.6758\n",
      "Epoch 16/20\n",
      "40000/40000 [==============================] - 6s 161us/step - loss: 0.6914 - acc: 0.7613 - val_loss: 1.0626 - val_acc: 0.6676\n",
      "Epoch 17/20\n",
      "40000/40000 [==============================] - 6s 161us/step - loss: 0.6713 - acc: 0.7673 - val_loss: 1.0796 - val_acc: 0.6688\n",
      "Epoch 18/20\n",
      "40000/40000 [==============================] - 6s 161us/step - loss: 0.6532 - acc: 0.7745 - val_loss: 1.2093 - val_acc: 0.6481\n",
      "Epoch 19/20\n",
      "40000/40000 [==============================] - 6s 162us/step - loss: 0.6375 - acc: 0.7814 - val_loss: 1.0196 - val_acc: 0.6760\n",
      "Epoch 20/20\n",
      "40000/40000 [==============================] - 6s 161us/step - loss: 0.6148 - acc: 0.7877 - val_loss: 1.0722 - val_acc: 0.6694\n"
     ]
    }
   ],
   "source": [
    "# 训练\n",
    "model.compile(\n",
    "    optimizer=OPTIMIZER,\n",
    "    loss='categorical_crossentropy',\n",
    "    metrics=['acc']\n",
    ")\n",
    "\n",
    "history = model.fit(\n",
    "    x_train, y_train,\n",
    "    epochs=EPOCHS,\n",
    "    batch_size=BATCH_SIZE,\n",
    "    validation_split=VALIDATION_SPLIT\n",
    ")"
   ]
  },
  {
   "cell_type": "code",
   "execution_count": 20,
   "metadata": {},
   "outputs": [
    {
     "name": "stdout",
     "output_type": "stream",
     "text": [
      "10000/10000 [==============================] - 0s 43us/step\n",
      "Test loss: 1.0457661651611327\n",
      "Test accuracy: 0.665\n"
     ]
    }
   ],
   "source": [
    "# 测试\n",
    "score = model.evaluate(\n",
    "    x_test, y_test,\n",
    "    batch_size=BATCH_SIZE\n",
    ")\n",
    "print('Test loss:', score[0])\n",
    "print('Test accuracy:', score[1])"
   ]
  },
  {
   "cell_type": "code",
   "execution_count": 21,
   "metadata": {},
   "outputs": [
    {
     "data": {
      "image/png": "[encoded data removed]",
      "text/plain": [
       "<Figure size 1080x432 with 2 Axes>"
      ]
     },
     "metadata": {
      "needs_background": "light"
     },
     "output_type": "display_data"
    }
   ],
   "source": [
    "# 可视化\n",
    "acc = history.history['acc']\n",
    "val_acc = history.history['val_acc']\n",
    "loss = history.history['loss']\n",
    "val_loss = history.history['val_loss']\n",
    "\n",
    "plt_epochs = range(1, len(acc) + 1)\n",
    "\n",
    "plt.figure(figsize=(15, 6))\n",
    "plt.subplot(1, 2, 1)\n",
    "plt.plot(plt_epochs, acc, 'b', label='Training acc')\n",
    "plt.plot(plt_epochs, val_acc, 'g', label='Validation acc')\n",
    "plt.title('Training and validation accuracy')\n",
    "plt.legend(loc='best')\n",
    "\n",
    "plt.subplot(1, 2, 2)\n",
    "plt.plot(plt_epochs, loss, 'b', label='Training loss')\n",
    "plt.plot(plt_epochs, val_loss, 'g', label='Validation loss')\n",
    "plt.title('Training and validation loss')\n",
    "plt.legend(loc='best')\n",
    "\n",
    "plt.show()"
   ]
  },
  {
   "cell_type": "code",
   "execution_count": null,
   "metadata": {},
   "outputs": [],
   "source": []
  }
 ],
 "metadata": {
  "kernelspec": {
   "display_name": "Python 3",
   "language": "python",
   "name": "python3"
  },
  "language_info": {
   "codemirror_mode": {
    "name": "ipython",
    "version": 3
   },
   "file_extension": ".py",
   "mimetype": "text/x-python",
   "name": "python",
   "nbconvert_exporter": "python",
   "pygments_lexer": "ipython3",
   "version": "3.6.8"
  },
  "toc": {
   "base_numbering": 1,
   "nav_menu": {},
   "number_sections": true,
   "sideBar": true,
   "skip_h1_title": false,
   "title_cell": "Table of Contents",
   "title_sidebar": "Contents",
   "toc_cell": false,
   "toc_position": {},
   "toc_section_display": true,
   "toc_window_display": true
  }
 },
 "nbformat": 4,
 "nbformat_minor": 2
}
