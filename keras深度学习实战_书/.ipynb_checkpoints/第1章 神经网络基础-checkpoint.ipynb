{
 "cells": [
  {
   "cell_type": "markdown",
   "metadata": {},
   "source": [
    "# 1.3 实例——手写数字识别"
   ]
  },
  {
   "cell_type": "code",
   "execution_count": 1,
   "metadata": {},
   "outputs": [
    {
     "name": "stderr",
     "output_type": "stream",
     "text": [
      "Using TensorFlow backend.\n"
     ]
    }
   ],
   "source": [
    "from matplotlib import pyplot as plt\n",
    "from keras import layers, Input\n",
    "from keras.datasets import mnist\n",
    "from keras.models import Model\n",
    "from keras.utils import to_categorical\n",
    "from keras.optimizers import SGD, RMSprop, Adam\n",
    "from keras.callbacks import TensorBoard"
   ]
  },
  {
   "cell_type": "code",
   "execution_count": 2,
   "metadata": {},
   "outputs": [],
   "source": [
    "# 超参数设定\n",
    "# 1.3.6 改为 NB_EPOCH = 20\n",
    "# 1.3.5 改为 NB_EPOCH = 250\n",
    "# 1.3.4 改为 NB_EPOCH = 20\n",
    "# 1.3 初始为 NB_EPOCH = 200\n",
    "# ----------------------------------\n",
    "NB_EPOCH = 20\n",
    "# ----------------------------------\n",
    "BATCH_SIZE = 128\n",
    "VERBOSE = 1\n",
    "NB_CLASSES = 10\n",
    "# 1.3.6.1 改为 OPTIMIZER = Adam()\n",
    "# 1.3.6.1 改为 OPTIMIZER = RMSprop()\n",
    "# 1.3 初始为 OPTIMIZER = SGD()\n",
    "# ----------------------------------\n",
    "OPTIMIZER = Adam()\n",
    "# ----------------------------------\n",
    "N_HIDDEN = 128\n",
    "VALIDATION_SPLIT = 0.2\n",
    "# 1.3.5 增加\n",
    "# ----------------------------------\n",
    "DROPOUT = 0.3\n",
    "# ----------------------------------"
   ]
  },
  {
   "cell_type": "code",
   "execution_count": 3,
   "metadata": {},
   "outputs": [
    {
     "name": "stdout",
     "output_type": "stream",
     "text": [
      "60000 train samples\n",
      "10000 test samples\n"
     ]
    }
   ],
   "source": [
    "# 数据预处理\n",
    "(X_train, y_train), (X_test, y_test) = mnist.load_data()\n",
    "\n",
    "X_train = X_train.astype('float32') / 255.\n",
    "X_test = X_test.astype('float32') / 255.\n",
    "\n",
    "Y_train = to_categorical(y_train, NB_CLASSES)\n",
    "Y_test = to_categorical(y_test, NB_CLASSES)\n",
    "\n",
    "print(X_train.shape[0], 'train samples')\n",
    "print(X_test.shape[0], 'test samples')"
   ]
  },
  {
   "cell_type": "code",
   "execution_count": 4,
   "metadata": {},
   "outputs": [],
   "source": [
    "def network(input_shape):\n",
    "    input_tensor = Input(shape=input_shape)\n",
    "    X = layers.Flatten()(input_tensor)\n",
    "    # 增加了Dropout 1.3.5\n",
    "    # 增加了一层隐藏层 1.3.4\n",
    "    # ---------------------------------------------\n",
    "    X = layers.Dense(N_HIDDEN)(X)\n",
    "    X = layers.Activation('relu')(X)\n",
    "    X = layers.Dropout(DROPOUT)(X)\n",
    "    # ---------------------------------------------\n",
    "    # 增加了一层有Dropout的隐藏层 1.3.5\n",
    "    # ---------------------------------------------\n",
    "    X = layers.Dense(N_HIDDEN)(X)\n",
    "    X = layers.Activation('relu')(X)\n",
    "    X = layers.Dropout(DROPOUT)(X)\n",
    "    # ---------------------------------------------\n",
    "    X = layers.Dense(NB_CLASSES)(X)\n",
    "    output_tensor = layers.Activation('softmax')(X)\n",
    "    \n",
    "    model = Model(input_tensor, output_tensor)\n",
    "    return model"
   ]
  },
  {
   "cell_type": "code",
   "execution_count": 5,
   "metadata": {},
   "outputs": [
    {
     "name": "stdout",
     "output_type": "stream",
     "text": [
      "_________________________________________________________________\n",
      "Layer (type)                 Output Shape              Param #   \n",
      "=================================================================\n",
      "input_1 (InputLayer)         (None, 28, 28)            0         \n",
      "_________________________________________________________________\n",
      "flatten_1 (Flatten)          (None, 784)               0         \n",
      "_________________________________________________________________\n",
      "dense_1 (Dense)              (None, 128)               100480    \n",
      "_________________________________________________________________\n",
      "activation_1 (Activation)    (None, 128)               0         \n",
      "_________________________________________________________________\n",
      "dropout_1 (Dropout)          (None, 128)               0         \n",
      "_________________________________________________________________\n",
      "dense_2 (Dense)              (None, 128)               16512     \n",
      "_________________________________________________________________\n",
      "activation_2 (Activation)    (None, 128)               0         \n",
      "_________________________________________________________________\n",
      "dropout_2 (Dropout)          (None, 128)               0         \n",
      "_________________________________________________________________\n",
      "dense_3 (Dense)              (None, 10)                1290      \n",
      "_________________________________________________________________\n",
      "activation_3 (Activation)    (None, 10)                0         \n",
      "=================================================================\n",
      "Total params: 118,282\n",
      "Trainable params: 118,282\n",
      "Non-trainable params: 0\n",
      "_________________________________________________________________\n"
     ]
    }
   ],
   "source": [
    "# 查看网络结构概要\n",
    "model = network((28, 28))\n",
    "model.summary()"
   ]
  },
  {
   "cell_type": "code",
   "execution_count": 6,
   "metadata": {},
   "outputs": [],
   "source": [
    "# 编译模型\n",
    "model.compile(\n",
    "    optimizer=OPTIMIZER,\n",
    "    loss='categorical_crossentropy',\n",
    "    metrics=['accuracy']\n",
    ")"
   ]
  },
  {
   "cell_type": "code",
   "execution_count": 7,
   "metadata": {},
   "outputs": [],
   "source": [
    "# 使用tensorboard\n",
    "board = TensorBoard(\n",
    "    log_dir='./logs',\n",
    "    histogram_freq=0,\n",
    "    write_graph=True,\n",
    "    write_images=False\n",
    ")"
   ]
  },
  {
   "cell_type": "code",
   "execution_count": 8,
   "metadata": {},
   "outputs": [
    {
     "name": "stdout",
     "output_type": "stream",
     "text": [
      "Train on 48000 samples, validate on 12000 samples\n",
      "Epoch 1/20\n",
      "48000/48000 [==============================] - 1s 30us/step - loss: 0.5168 - acc: 0.8421 - val_loss: 0.1890 - val_acc: 0.9424\n",
      "Epoch 2/20\n",
      "48000/48000 [==============================] - 1s 25us/step - loss: 0.2296 - acc: 0.9324 - val_loss: 0.1342 - val_acc: 0.9603\n",
      "Epoch 3/20\n",
      "48000/48000 [==============================] - 1s 25us/step - loss: 0.1804 - acc: 0.9457 - val_loss: 0.1167 - val_acc: 0.9652\n",
      "Epoch 4/20\n",
      "48000/48000 [==============================] - 1s 25us/step - loss: 0.1487 - acc: 0.9556 - val_loss: 0.1073 - val_acc: 0.9678\n",
      "Epoch 5/20\n",
      "48000/48000 [==============================] - 1s 25us/step - loss: 0.1290 - acc: 0.9609 - val_loss: 0.0998 - val_acc: 0.9717\n",
      "Epoch 6/20\n",
      "48000/48000 [==============================] - 1s 25us/step - loss: 0.1162 - acc: 0.9635 - val_loss: 0.0914 - val_acc: 0.9729\n",
      "Epoch 7/20\n",
      "48000/48000 [==============================] - 1s 25us/step - loss: 0.1043 - acc: 0.9672 - val_loss: 0.0877 - val_acc: 0.9733\n",
      "Epoch 8/20\n",
      "48000/48000 [==============================] - 1s 25us/step - loss: 0.0942 - acc: 0.9710 - val_loss: 0.0876 - val_acc: 0.9752\n",
      "Epoch 9/20\n",
      "48000/48000 [==============================] - 1s 25us/step - loss: 0.0906 - acc: 0.9713 - val_loss: 0.0845 - val_acc: 0.9752\n",
      "Epoch 10/20\n",
      "48000/48000 [==============================] - 1s 25us/step - loss: 0.0821 - acc: 0.9745 - val_loss: 0.0855 - val_acc: 0.9751\n",
      "Epoch 11/20\n",
      "48000/48000 [==============================] - 1s 25us/step - loss: 0.0776 - acc: 0.9761 - val_loss: 0.0826 - val_acc: 0.9768\n",
      "Epoch 12/20\n",
      "48000/48000 [==============================] - 1s 25us/step - loss: 0.0735 - acc: 0.9770 - val_loss: 0.0853 - val_acc: 0.9756\n",
      "Epoch 13/20\n",
      "48000/48000 [==============================] - 1s 25us/step - loss: 0.0726 - acc: 0.9769 - val_loss: 0.0799 - val_acc: 0.9773\n",
      "Epoch 14/20\n",
      "48000/48000 [==============================] - 1s 25us/step - loss: 0.0680 - acc: 0.9780 - val_loss: 0.0780 - val_acc: 0.9781\n",
      "Epoch 15/20\n",
      "48000/48000 [==============================] - 1s 25us/step - loss: 0.0620 - acc: 0.9796 - val_loss: 0.0796 - val_acc: 0.9771\n",
      "Epoch 16/20\n",
      "48000/48000 [==============================] - 1s 25us/step - loss: 0.0600 - acc: 0.9806 - val_loss: 0.0786 - val_acc: 0.9773\n",
      "Epoch 17/20\n",
      "48000/48000 [==============================] - 1s 25us/step - loss: 0.0555 - acc: 0.9817 - val_loss: 0.0775 - val_acc: 0.9784\n",
      "Epoch 18/20\n",
      "48000/48000 [==============================] - 1s 25us/step - loss: 0.0567 - acc: 0.9811 - val_loss: 0.0808 - val_acc: 0.9778\n",
      "Epoch 19/20\n",
      "48000/48000 [==============================] - 1s 25us/step - loss: 0.0543 - acc: 0.9825 - val_loss: 0.0736 - val_acc: 0.9793\n",
      "Epoch 20/20\n",
      "48000/48000 [==============================] - 1s 25us/step - loss: 0.0508 - acc: 0.9831 - val_loss: 0.0791 - val_acc: 0.9779\n"
     ]
    }
   ],
   "source": [
    "# 训练模型\n",
    "history = model.fit(\n",
    "    X_train, Y_train,\n",
    "    epochs=NB_EPOCH,\n",
    "    batch_size=BATCH_SIZE,\n",
    "    verbose=VERBOSE,\n",
    "    validation_split=VALIDATION_SPLIT,\n",
    "    callbacks=[board]\n",
    ")"
   ]
  },
  {
   "cell_type": "code",
   "execution_count": 9,
   "metadata": {},
   "outputs": [
    {
     "name": "stdout",
     "output_type": "stream",
     "text": [
      "10000/10000 [==============================] - 0s 25us/step\n",
      "Test loss: 0.07695059631486656\n",
      "Test accuracy: 0.9788\n"
     ]
    }
   ],
   "source": [
    "score = model.evaluate(\n",
    "    X_test, Y_test,\n",
    "    verbose=VERBOSE\n",
    ")\n",
    "print('Test loss:', score[0])\n",
    "print('Test accuracy:', score[1])"
   ]
  },
  {
   "cell_type": "code",
   "execution_count": 10,
   "metadata": {},
   "outputs": [
    {
     "data": {
      "image/png": "[encoded data removed]",
      "text/plain": [
       "<Figure size 1080x432 with 2 Axes>"
      ]
     },
     "metadata": {
      "needs_background": "light"
     },
     "output_type": "display_data"
    }
   ],
   "source": [
    "# 绘制训练曲线\n",
    "acc = history.history['acc']\n",
    "val_acc = history.history['val_acc']\n",
    "loss = history.history['loss']\n",
    "val_loss = history.history['val_loss']\n",
    "\n",
    "plt_epochs = range(1, len(acc) + 1)\n",
    "\n",
    "plt.figure(figsize=(15, 6))\n",
    "plt.subplot(1, 2, 1)\n",
    "plt.plot(plt_epochs, acc, 'b', label='Training acc')\n",
    "plt.plot(plt_epochs, val_acc, 'g', label='Validation acc')\n",
    "plt.title('Training and validation accuracy', fontsize=18)\n",
    "plt.xlabel('epochs', fontsize=15)\n",
    "plt.ylabel('acc', fontsize=15, rotation=0)\n",
    "plt.legend(loc='best', fontsize=12)\n",
    "\n",
    "plt.subplot(1, 2, 2)\n",
    "plt.plot(plt_epochs, loss, 'b', label='Training loss')\n",
    "plt.plot(plt_epochs, val_loss, 'g', label='Validation loss')\n",
    "plt.title('Training and validation loss', fontsize=18)\n",
    "plt.xlabel('epochs', fontsize=15)\n",
    "plt.ylabel('loss', fontsize=15, rotation=0)\n",
    "plt.legend(loc='best', fontsize=12)\n",
    "\n",
    "plt.show()"
   ]
  },
  {
   "cell_type": "code",
   "execution_count": null,
   "metadata": {},
   "outputs": [],
   "source": []
  }
 ],
 "metadata": {
  "kernelspec": {
   "display_name": "Python 3",
   "language": "python",
   "name": "python3"
  },
  "language_info": {
   "codemirror_mode": {
    "name": "ipython",
    "version": 3
   },
   "file_extension": ".py",
   "mimetype": "text/x-python",
   "name": "python",
   "nbconvert_exporter": "python",
   "pygments_lexer": "ipython3",
   "version": "3.6.8"
  },
  "toc": {
   "base_numbering": 1,
   "nav_menu": {},
   "number_sections": true,
   "sideBar": true,
   "skip_h1_title": false,
   "title_cell": "Table of Contents",
   "title_sidebar": "Contents",
   "toc_cell": false,
   "toc_position": {},
   "toc_section_display": true,
   "toc_window_display": false
  }
 },
 "nbformat": 4,
 "nbformat_minor": 2
}
