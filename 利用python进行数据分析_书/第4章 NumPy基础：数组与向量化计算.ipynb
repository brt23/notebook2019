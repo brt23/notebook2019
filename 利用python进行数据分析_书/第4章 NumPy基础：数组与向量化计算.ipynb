{
 "cells": [
  {
   "cell_type": "markdown",
   "metadata": {},
   "source": [
    "# 第4章 NumPy基础:数组与向量化计算"
   ]
  },
  {
   "cell_type": "markdown",
   "metadata": {},
   "source": [
    "使用astype时总是生成一个新的数组,即使你传入的dtype与之前一样。\n",
    "```python\n",
    "a = np.array([1, 2, 3])\n",
    "b = a.astype('uint8')\n",
    "```"
   ]
  },
  {
   "cell_type": "markdown",
   "metadata": {},
   "source": [
    "区别于Python的内建列表,numpy的切片是原数组的视图。这意味着数据并不是被复制了,任何对于视图的修改都会反映到原数组上。\n",
    "```python\n",
    "import numpy as np\n",
    "\n",
    "arr = np.arange(10)\n",
    "print('arr:', arr)\n",
    "arr_slice = arr[5:8]\n",
    "print('arr_slice:', arr_slice)\n",
    "arr_slice[1] = 12345\n",
    "print('arr:', arr)\n",
    "arr_slice[:] = 64\n",
    "print('arr:', arr)\n",
    "\n",
    ">>>\n",
    "arr: [0 1 2 3 4 5 6 7 8 9]\n",
    "arr_slice: [5 6 7]\n",
    "arr: [    0     1     2     3     4     5 12345     7     8     9]\n",
    "arr: [ 0  1  2  3  4 64 64 64  8  9]\n",
    "\n",
    "```"
   ]
  },
  {
   "cell_type": "markdown",
   "metadata": {},
   "source": [
    "numpy显式复制数组为：\n",
    "```python\n",
    "arr[5:8].copy()\n",
    "```"
   ]
  },
  {
   "cell_type": "markdown",
   "metadata": {},
   "source": [
    "可以通过传递一个索引的逗号分隔列表去选择单个元素,以下两种方式效果一样:\n",
    "```python\n",
    ">>> arr2d = np.array([[1, 2, 3], [4, 5, 6], [7, 8, 9]])\n",
    ">>> arr2d[0][2]\n",
    ">>> 3\n",
    ">>> arr2d[0, 2]\n",
    ">>> 3\n",
    "```\n",
    "我们可以将0轴看作“行”,将1轴看作“列”"
   ]
  },
  {
   "cell_type": "markdown",
   "metadata": {},
   "source": [
    "Python的关键字and和or对numpy布尔值数组并没有用,请使用&(and)和|(or)来代替。\n",
    "使用布尔值索引选择数据时,总是生成数据的拷贝,即使返回的数组并没有任何变化\n",
    "```python\n",
    "mask = (names == 'Bob') | (names == 'Will')\n",
    "```"
   ]
  },
  {
   "cell_type": "markdown",
   "metadata": {},
   "source": [
    "## 4.1.6 神奇索引"
   ]
  },
  {
   "cell_type": "markdown",
   "metadata": {},
   "source": [
    "神奇索引是NumPy中的术语,用于描述使用整数数组进行数据索引。\n",
    "```python\n",
    ">>> arr = np.empty((8, 4))\n",
    ">>> for i in range(8):\n",
    "        arr[i] = i\n",
    ">>> array([[0., 0., 0., 0.],\n",
    "           [1., 1., 1., 1.],\n",
    "           [2., 2., 2., 2.],\n",
    "           [3., 3., 3., 3.],\n",
    "           [4., 4., 4., 4.],\n",
    "           [5., 5., 5., 5.],\n",
    "           [6., 6., 6., 6.],\n",
    "           [7., 7., 7., 7.]])\n",
    "```\n",
    "为了选出一个符合特定顺序的子集,你可以简单地通过传递一个包含指明所需顺序的列表或数组来完成:\n",
    "```python\n",
    ">>> arr[[4, 3, 0, 6]]\n",
    ">>> array([[4., 4., 4., 4.],\n",
    "           [3., 3., 3., 3.],\n",
    "           [0., 0., 0., 0.],\n",
    "           [6., 6., 6., 6.]])\n",
    "```\n",
    "如果使用负的索引,将从尾部进行选择:\n",
    "```python\n",
    ">>> arr[[-3, -5, -7]]\n",
    ">>> array([[5., 5., 5., 5.],\n",
    "           [3., 3., 3., 3.],\n",
    "           [1., 1., 1., 1.]])\n",
    "```\n",
    "传递多个索引数组时情况有些许不同,这样会根据每个索引元组对应的元素选出一个一维数组:\n",
    "```python\n",
    ">>> arr = np.arange(32).reshape((8, 4))\n",
    ">>> arr\n",
    ">>> array([[ 0,  1,  2,  3],\n",
    "           [ 4,  5,  6,  7],\n",
    "           [ 8,  9, 10, 11],\n",
    "           [12, 13, 14, 15],\n",
    "           [16, 17, 18, 19],\n",
    "           [20, 21, 22, 23],\n",
    "           [24, 25, 26, 27],\n",
    "           [28, 29, 30, 31]])\n",
    ">>> arr[[1, 5, 7, 2], [0, 3, 1, 2]]\n",
    ">>> array([ 4, 23, 29, 10])\n",
    "```"
   ]
  },
  {
   "cell_type": "markdown",
   "metadata": {},
   "source": [
    "# 4.3.1 将条件逻辑作为数组操作"
   ]
  },
  {
   "cell_type": "markdown",
   "metadata": {},
   "source": [
    "numpy.where函数是三元表达式x if condition else y的向量化版本。假设我们有一个布尔值数组和两个数值数组:\n",
    "```python\n",
    "xarr = np.array([1.1, 1.2, 1.3, 1.4, 1.5])\n",
    "yarr = np.array([2.1, 2.2, 2.3, 2.4, 2.5])\n",
    "cond = np.array([True, False, True, True, False])\n",
    "# 假设cond中的元素为True时,我们取xarr中的对应元素值,否则取yarr中的元素。\n",
    "# 我们可以通过列表推导式来完成,像下列代码这样\n",
    "result = [(x if c else y) for x, y, c in zip(xarr, yarr, cond)]\n",
    "# 这样会产生多个问题。首先,如果数组很大的话,速度会很慢(因为所有的工作都是通过解释器解释Python代码完成)。\n",
    "# 其次,当数组是多维时,就无法凑效了。而使用np.where时,就可以非常简单地完成\n",
    "result = np.where(cond, xarr, yarr)\n",
    "# np.where的第二个和第三个参数并不需要是数组,它们可以是标量。\n",
    "# where在数据分析中的一个典型用法是根据一个数组来生成一个新的数组\n",
    "```"
   ]
  },
  {
   "cell_type": "code",
   "execution_count": null,
   "metadata": {},
   "outputs": [],
   "source": []
  }
 ],
 "metadata": {
  "kernelspec": {
   "display_name": "Python 3",
   "language": "python",
   "name": "python3"
  },
  "language_info": {
   "codemirror_mode": {
    "name": "ipython",
    "version": 3
   },
   "file_extension": ".py",
   "mimetype": "text/x-python",
   "name": "python",
   "nbconvert_exporter": "python",
   "pygments_lexer": "ipython3",
   "version": "3.6.8"
  },
  "toc": {
   "base_numbering": 1,
   "nav_menu": {},
   "number_sections": true,
   "sideBar": true,
   "skip_h1_title": false,
   "title_cell": "Table of Contents",
   "title_sidebar": "Contents",
   "toc_cell": false,
   "toc_position": {},
   "toc_section_display": true,
   "toc_window_display": false
  }
 },
 "nbformat": 4,
 "nbformat_minor": 2
}
