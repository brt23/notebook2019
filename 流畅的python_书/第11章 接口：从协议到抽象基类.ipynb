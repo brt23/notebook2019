{
 "cells": [
  {
   "cell_type": "markdown",
   "metadata": {},
   "source": [
    "# 11.7 定义并使用一个抽象基类"
   ]
  },
  {
   "cell_type": "code",
   "execution_count": 2,
   "metadata": {},
   "outputs": [],
   "source": [
    "import abc"
   ]
  },
  {
   "cell_type": "markdown",
   "metadata": {},
   "source": [
    "定义了一个抽象基类"
   ]
  },
  {
   "cell_type": "code",
   "execution_count": 3,
   "metadata": {},
   "outputs": [],
   "source": [
    "class Tombola(abc.ABC):\n",
    "    \n",
    "    @abc.abstractmethod\n",
    "    def load(self, iterable):\n",
    "        \"\"\" 从可迭代对象中添加元素 \"\"\"\n",
    "        \n",
    "    \n",
    "    @abc.abstractmethod\n",
    "    def pick(self):\n",
    "        \"\"\"\n",
    "        随机删除元素，然后将其返回。\n",
    "        如果实例为空，这个方法应该抛出‘LookupError'。\n",
    "        \"\"\"\n",
    "        \n",
    "        \n",
    "    def loaded(self):\n",
    "        \"\"\" 如果至少有一个元素，返回‘True’，否则返回‘False’ \"\"\"\n",
    "        return bool(self.inspect())\n",
    "    \n",
    "    \n",
    "    def inspect(self):\n",
    "        \"\"\" 返回一个有序元组，由当前元素构成 \"\"\"\n",
    "        items = []\n",
    "        while True:\n",
    "            try:\n",
    "                items.append(self.pick())\n",
    "            except LookupError:\n",
    "                break\n",
    "        self.load(items)\n",
    "        return tuple(sorted(items))"
   ]
  },
  {
   "cell_type": "markdown",
   "metadata": {},
   "source": [
    "为了一睹抽象基类对接口所做的检查,下面我们尝试使用一个有缺陷的实现来糊弄 Tombola"
   ]
  },
  {
   "cell_type": "code",
   "execution_count": 4,
   "metadata": {},
   "outputs": [
    {
     "data": {
      "text/plain": [
       "__main__.Fake"
      ]
     },
     "execution_count": 4,
     "metadata": {},
     "output_type": "execute_result"
    }
   ],
   "source": [
    "class Fake(Tombola):\n",
    "    def pick(self):\n",
    "        return 13\n",
    "    \n",
    "Fake"
   ]
  },
  {
   "cell_type": "code",
   "execution_count": 5,
   "metadata": {},
   "outputs": [
    {
     "ename": "TypeError",
     "evalue": "Can't instantiate abstract class Fake with abstract methods load",
     "output_type": "error",
     "traceback": [
      "\u001b[0;31m---------------------------------------------------------------------------\u001b[0m",
      "\u001b[0;31mTypeError\u001b[0m                                 Traceback (most recent call last)",
      "\u001b[0;32m<ipython-input-5-a646eb69a2f6>\u001b[0m in \u001b[0;36m<module>\u001b[0;34m\u001b[0m\n\u001b[0;32m----> 1\u001b[0;31m \u001b[0mf\u001b[0m \u001b[0;34m=\u001b[0m \u001b[0mFake\u001b[0m\u001b[0;34m(\u001b[0m\u001b[0;34m)\u001b[0m\u001b[0;34m\u001b[0m\u001b[0;34m\u001b[0m\u001b[0m\n\u001b[0m",
      "\u001b[0;31mTypeError\u001b[0m: Can't instantiate abstract class Fake with abstract methods load"
     ]
    }
   ],
   "source": [
    "f = Fake()"
   ]
  },
  {
   "cell_type": "markdown",
   "metadata": {},
   "source": [
    "abc.ABC 是 Python 3.4 新增的类,因此如果你使用的是旧版Python,那么无法继承现有的抽象基类。  \n",
    "3.4之前的版本抽象基类需要这样实现：\n",
    "\n",
    "```python\n",
    "class Tombola(metaclass=abc.ANCMeta):\n",
    "    # ...\n",
    "```\n",
    "\n",
    "metaclass= 关键字参数是 Python 3 引入的。在 Python 2 中必须使用__metaclass__ 类属性。  \n",
    "\n",
    "```python\n",
    "class Tombola(object): # 这是Python 2！！！\n",
    "    __metaclass__ = abc.ABCMeta\n",
    "    # ...\n",
    "```"
   ]
  },
  {
   "cell_type": "markdown",
   "metadata": {},
   "source": [
    "除了 @abstractmethod 之外,abc 模块还定义了 @abstractclassmethod、@abstractstaticmethod 和 @abstractproperty 三个装饰器。然而,后三个装饰器从 Python 3.3起废弃了,因为装饰器可以在 @abstractmethod 上堆叠,那三个就显得多余了。例如,声明抽象类方法的推荐方式是:\n",
    "```python\n",
    "class MyABC(abc.ABC):\n",
    "    @classmethod\n",
    "    @abc.abstractmethod\n",
    "    def an_abstract_classmethod(cls, ...):\n",
    "        pass\n",
    "```\n",
    "在函数上堆叠装饰器的顺序通常很重要, @abstractmethod 的文档就特别指出:  \n",
    "与其他方法描述符一起使用时, abstractmethod() 最里层,应该放在也就是说,在 @abstractmethod 和 def 语句之间不能有其他装饰器。"
   ]
  },
  {
   "cell_type": "code",
   "execution_count": 6,
   "metadata": {},
   "outputs": [
    {
     "data": {
      "text/plain": [
       "['A b',\n",
       " 'A r',\n",
       " 'A g',\n",
       " 'A y',\n",
       " 'K b',\n",
       " 'K r',\n",
       " 'K g',\n",
       " 'K y',\n",
       " 'Q b',\n",
       " 'Q r',\n",
       " 'Q g',\n",
       " 'Q y']"
      ]
     },
     "execution_count": 6,
     "metadata": {},
     "output_type": "execute_result"
    }
   ],
   "source": [
    "R = ['A', 'K', 'Q']\n",
    "S = ['b', 'r', 'g', 'y']\n",
    "\n",
    "m = [\n",
    "    i + ' ' + j\n",
    "    for i in R\n",
    "    for j in S\n",
    "]\n",
    "m"
   ]
  },
  {
   "cell_type": "code",
   "execution_count": null,
   "metadata": {},
   "outputs": [],
   "source": []
  }
 ],
 "metadata": {
  "kernelspec": {
   "display_name": "Python 3",
   "language": "python",
   "name": "python3"
  },
  "language_info": {
   "codemirror_mode": {
    "name": "ipython",
    "version": 3
   },
   "file_extension": ".py",
   "mimetype": "text/x-python",
   "name": "python",
   "nbconvert_exporter": "python",
   "pygments_lexer": "ipython3",
   "version": "3.6.8"
  },
  "toc": {
   "base_numbering": 1,
   "nav_menu": {},
   "number_sections": true,
   "sideBar": true,
   "skip_h1_title": false,
   "title_cell": "Table of Contents",
   "title_sidebar": "Contents",
   "toc_cell": false,
   "toc_position": {},
   "toc_section_display": true,
   "toc_window_display": false
  }
 },
 "nbformat": 4,
 "nbformat_minor": 2
}
