{
 "cells": [
  {
   "cell_type": "code",
   "execution_count": 1,
   "metadata": {},
   "outputs": [
    {
     "data": {
      "text/plain": [
       "'1.0.1.post2'"
      ]
     },
     "execution_count": 1,
     "metadata": {},
     "output_type": "execute_result"
    }
   ],
   "source": [
    "%matplotlib inline\n",
    "import torch\n",
    "import torch.nn as nn\n",
    "from torch.nn import functional as F\n",
    "from torch import optim\n",
    "import numpy as np\n",
    "from matplotlib import pyplot as plt\n",
    "import matplotlib.animation\n",
    "import math, random\n",
    "torch.__version__"
   ]
  },
  {
   "cell_type": "markdown",
   "metadata": {},
   "source": [
    "# 3.3 通过Sin预测Cos\n",
    "在介绍循环神经网络时候我们说过，循环神经网络由于其的特殊结构，十分十分擅长处理时间相关的数据，下面我们就来通过输入sin函数，输出cos函数来实际使用。\n",
    "首先，我们还是定义一些超参数"
   ]
  },
  {
   "cell_type": "code",
   "execution_count": 2,
   "metadata": {},
   "outputs": [
    {
     "ename": "AttributeError",
     "evalue": "'NoneType' object has no attribute 'to'",
     "output_type": "error",
     "traceback": [
      "\u001b[0;31m---------------------------------------------------------------------------\u001b[0m",
      "\u001b[0;31mAttributeError\u001b[0m                            Traceback (most recent call last)",
      "\u001b[0;32m<ipython-input-2-1934049c2a17>\u001b[0m in \u001b[0;36m<module>\u001b[0;34m\u001b[0m\n\u001b[1;32m      5\u001b[0m \u001b[0mEPOCHS\u001b[0m\u001b[0;34m=\u001b[0m\u001b[0;36m300\u001b[0m \u001b[0;31m# 总共训练次数\u001b[0m\u001b[0;34m\u001b[0m\u001b[0m\n\u001b[1;32m      6\u001b[0m \u001b[0mh_state\u001b[0m \u001b[0;34m=\u001b[0m \u001b[0;32mNone\u001b[0m \u001b[0;31m# 隐藏层状态\u001b[0m\u001b[0;34m\u001b[0m\u001b[0m\n\u001b[0;32m----> 7\u001b[0;31m \u001b[0mh_state\u001b[0m\u001b[0;34m.\u001b[0m\u001b[0mto\u001b[0m\u001b[0;34m(\u001b[0m\u001b[0mDEVICE\u001b[0m\u001b[0;34m)\u001b[0m\u001b[0;34m\u001b[0m\u001b[0m\n\u001b[0m",
      "\u001b[0;31mAttributeError\u001b[0m: 'NoneType' object has no attribute 'to'"
     ]
    }
   ],
   "source": [
    "TIME_STEP = 10 # rnn 时序步长数\n",
    "INPUT_SIZE = 1 # rnn 的输入维度\n",
    "DEVICE = torch.device(\"cuda\" if torch.cuda.is_available() else \"cpu\") \n",
    "H_SIZE = 64 # of rnn 隐藏单元个数\n",
    "EPOCHS=300 # 总共训练次数\n",
    "h_state = None # 隐藏层状态\n",
    "h_state.to(DEVICE)"
   ]
  },
  {
   "cell_type": "markdown",
   "metadata": {},
   "source": [
    "由于是使用sin和cos函数，所以这里不需要dataloader，我们直接使用Numpy生成数据，Pytorch没有π这个常量，所以所有操作都是用Numpy完成"
   ]
  },
  {
   "cell_type": "code",
   "execution_count": null,
   "metadata": {},
   "outputs": [],
   "source": [
    "steps = np.linspace(0, np.pi*2, 256, dtype=np.float32)\n",
    "x_np = np.sin(steps) \n",
    "y_np = np.cos(steps)"
   ]
  },
  {
   "cell_type": "markdown",
   "metadata": {},
   "source": [
    "生成完后，我们可视化一下数据"
   ]
  },
  {
   "cell_type": "code",
   "execution_count": null,
   "metadata": {},
   "outputs": [],
   "source": [
    "plt.figure(1)\n",
    "plt.suptitle('Sin and Cos',fontsize='18')\n",
    "plt.plot(steps, y_np, 'r-', label='target (cos)')\n",
    "plt.plot(steps, x_np, 'b-', label='input (sin)')\n",
    "plt.legend(loc='best')\n",
    "plt.show()"
   ]
  },
  {
   "cell_type": "markdown",
   "metadata": {},
   "source": [
    "下面定义一下我们的网络结构"
   ]
  },
  {
   "cell_type": "code",
   "execution_count": null,
   "metadata": {},
   "outputs": [],
   "source": [
    "class RNN(nn.Module):\n",
    "    def __init__(self):\n",
    "        super(RNN, self).__init__()\n",
    "        self.rnn = nn.RNN(\n",
    "        input_size=INPUT_SIZE,\n",
    "        hidden_size=H_SIZE, \n",
    "        num_layers=1, \n",
    "        batch_first=True,\n",
    "        )\n",
    "        self.out = nn.Linear(H_SIZE, 1)\n",
    "    def forward(self, x, h_state):\n",
    "         # x (batch, time_step, input_size)\n",
    "         # h_state (n_layers, batch, hidden_size)\n",
    "         # r_out (batch, time_step, hidden_size)\n",
    "        r_out, h_state = self.rnn(x, h_state)\n",
    "        outs = [] # 保存所有的预测值\n",
    "        for time_step in range(r_out.size(1)): # 计算每一步长的预测值\n",
    "            outs.append(self.out(r_out[:, time_step, :]))\n",
    "        return torch.stack(outs, dim=1), h_state\n",
    "         # 也可使用以下这样的返回值\n",
    "         # r_out = r_out.view(-1, 32)\n",
    "         # outs = self.out(r_out)\n",
    "         # return outs, h_state"
   ]
  },
  {
   "cell_type": "markdown",
   "metadata": {},
   "source": [
    "下面我们定义我们的网络"
   ]
  },
  {
   "cell_type": "code",
   "execution_count": null,
   "metadata": {},
   "outputs": [],
   "source": [
    "rnn = RNN().to(DEVICE)\n",
    "optimizer = torch.optim.Adam(rnn.parameters()) # Adam优化，几乎不用调参\n",
    "criterion = nn.MSELoss() # 因为最终的结果是一个数值，所以损失函数用均方误差"
   ]
  },
  {
   "cell_type": "markdown",
   "metadata": {},
   "source": [
    "由于没有测试集，所以我们训练和测试写在一起了"
   ]
  },
  {
   "cell_type": "code",
   "execution_count": null,
   "metadata": {},
   "outputs": [],
   "source": [
    "rnn.train()\n",
    "plt.figure(2)\n",
    "for step in range(EPOCHS):\n",
    "    start, end = step * np.pi, (step+1)*np.pi # 一个时间周期\n",
    "    steps = np.linspace(start, end, TIME_STEP, dtype=np.float32)\n",
    "    x_np = np.sin(steps) \n",
    "    y_np = np.cos(steps)\n",
    "    x = torch.from_numpy(x_np[np.newaxis, :, np.newaxis]) # shape (batch, time_step, input_size)\n",
    "    y = torch.from_numpy(y_np[np.newaxis, :, np.newaxis])\n",
    "    prediction, h_state = rnn(x, h_state) # rnn output\n",
    "    # 这一步非常重要\n",
    "    h_state = h_state.data # 重置隐藏层的状态, 切断和前一次迭代的链接\n",
    "    loss = criterion(prediction, y) \n",
    "    # 这三行写在一起就可以\n",
    "    optimizer.zero_grad() \n",
    "    loss.backward() \n",
    "    optimizer.step() \n",
    "    if (step+1)%20==0: #每训练20个批次可视化一下效果，并打印一下loss\n",
    "        print(\"EPOCHS: {},Loss:{:4f}\".format(step,loss))\n",
    "        plt.plot(steps, y_np.flatten(), 'r-')\n",
    "        plt.plot(steps, prediction.data.numpy().flatten(), 'b-')\n",
    "        plt.draw()\n",
    "        plt.pause(0.01)\n"
   ]
  },
  {
   "cell_type": "markdown",
   "metadata": {},
   "source": [
    "蓝色是模型预测的结果，红色是函数的结果，通过300次的训练，已经基本拟合了"
   ]
  },
  {
   "cell_type": "code",
   "execution_count": null,
   "metadata": {},
   "outputs": [],
   "source": []
  }
 ],
 "metadata": {
  "kernelspec": {
   "display_name": "Python 3",
   "language": "python",
   "name": "python3"
  },
  "language_info": {
   "codemirror_mode": {
    "name": "ipython",
    "version": 3
   },
   "file_extension": ".py",
   "mimetype": "text/x-python",
   "name": "python",
   "nbconvert_exporter": "python",
   "pygments_lexer": "ipython3",
   "version": "3.7.0"
  }
 },
 "nbformat": 4,
 "nbformat_minor": 2
}
