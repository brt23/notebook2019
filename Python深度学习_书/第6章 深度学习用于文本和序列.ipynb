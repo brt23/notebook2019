{
 "cells": [
  {
   "cell_type": "markdown",
   "metadata": {},
   "source": [
    "# 第6章 深度学习用于文本和序列"
   ]
  },
  {
   "cell_type": "markdown",
   "metadata": {},
   "source": [
    "本章包括以下内容:  \n",
    "- 将文本数据预处理为有用的数据表示\n",
    "- 使用循环神经网络\n",
    "- 使用一维卷积神经网络处理序列"
   ]
  },
  {
   "cell_type": "markdown",
   "metadata": {},
   "source": [
    "## 6.1 处理文本数据"
   ]
  },
  {
   "cell_type": "markdown",
   "metadata": {},
   "source": [
    "<img src=\"第6章 深度学习用于文本和序列 数据/图 6-1 从文本到标记再到向量.png\" width=640 height=480>"
   ]
  },
  {
   "cell_type": "markdown",
   "metadata": {},
   "source": [
    "### 代码清单 6-1 单词级的 one-hot 编码(简单示例)"
   ]
  },
  {
   "cell_type": "code",
   "execution_count": 1,
   "metadata": {},
   "outputs": [
    {
     "data": {
      "text/plain": [
       "array([[[0., 1., 0., 0., 0., 0., 0., 0., 0., 0., 0.],\n",
       "        [0., 0., 1., 0., 0., 0., 0., 0., 0., 0., 0.],\n",
       "        [0., 0., 0., 1., 0., 0., 0., 0., 0., 0., 0.],\n",
       "        [0., 0., 0., 0., 1., 0., 0., 0., 0., 0., 0.],\n",
       "        [0., 0., 0., 0., 0., 1., 0., 0., 0., 0., 0.],\n",
       "        [0., 0., 0., 0., 0., 0., 1., 0., 0., 0., 0.],\n",
       "        [0., 0., 0., 0., 0., 0., 0., 0., 0., 0., 0.],\n",
       "        [0., 0., 0., 0., 0., 0., 0., 0., 0., 0., 0.],\n",
       "        [0., 0., 0., 0., 0., 0., 0., 0., 0., 0., 0.],\n",
       "        [0., 0., 0., 0., 0., 0., 0., 0., 0., 0., 0.]],\n",
       "\n",
       "       [[0., 1., 0., 0., 0., 0., 0., 0., 0., 0., 0.],\n",
       "        [0., 0., 0., 0., 0., 0., 0., 1., 0., 0., 0.],\n",
       "        [0., 0., 0., 0., 0., 0., 0., 0., 1., 0., 0.],\n",
       "        [0., 0., 0., 0., 0., 0., 0., 0., 0., 1., 0.],\n",
       "        [0., 0., 0., 0., 0., 0., 0., 0., 0., 0., 1.],\n",
       "        [0., 0., 0., 0., 0., 0., 0., 0., 0., 0., 0.],\n",
       "        [0., 0., 0., 0., 0., 0., 0., 0., 0., 0., 0.],\n",
       "        [0., 0., 0., 0., 0., 0., 0., 0., 0., 0., 0.],\n",
       "        [0., 0., 0., 0., 0., 0., 0., 0., 0., 0., 0.],\n",
       "        [0., 0., 0., 0., 0., 0., 0., 0., 0., 0., 0.]]])"
      ]
     },
     "execution_count": 1,
     "metadata": {},
     "output_type": "execute_result"
    }
   ],
   "source": [
    "import numpy as np\n",
    "\n",
    "\n",
    "samples = ['The cat sat on the mat.', 'The dog ate my homework.']\n",
    "\n",
    "token_index = {}\n",
    "for sample in samples:\n",
    "    for word in sample.split():\n",
    "        if word not in token_index:\n",
    "            token_index[word] = len(token_index) + 1\n",
    "            \n",
    "max_length = 10\n",
    "\n",
    "results = np.zeros(shape=(len(samples),\n",
    "                          max_length,\n",
    "                          max(token_index.values()) + 1))\n",
    "for i, sample in enumerate(samples):\n",
    "    for j, word in list(enumerate(sample.split()))[:max_length]:\n",
    "        index = token_index.get(word)\n",
    "        results[i, j, index] = 1.\n",
    "results"
   ]
  },
  {
   "cell_type": "markdown",
   "metadata": {},
   "source": [
    "### 代码清单 6-2 字符级的 one-hot 编码(简单示例)"
   ]
  },
  {
   "cell_type": "code",
   "execution_count": 2,
   "metadata": {},
   "outputs": [
    {
     "data": {
      "text/plain": [
       "array([[[1., 1., 1., ..., 1., 1., 1.],\n",
       "        [1., 1., 1., ..., 1., 1., 1.],\n",
       "        [1., 1., 1., ..., 1., 1., 1.],\n",
       "        ...,\n",
       "        [0., 0., 0., ..., 0., 0., 0.],\n",
       "        [0., 0., 0., ..., 0., 0., 0.],\n",
       "        [0., 0., 0., ..., 0., 0., 0.]],\n",
       "\n",
       "       [[1., 1., 1., ..., 1., 1., 1.],\n",
       "        [1., 1., 1., ..., 1., 1., 1.],\n",
       "        [1., 1., 1., ..., 1., 1., 1.],\n",
       "        ...,\n",
       "        [0., 0., 0., ..., 0., 0., 0.],\n",
       "        [0., 0., 0., ..., 0., 0., 0.],\n",
       "        [0., 0., 0., ..., 0., 0., 0.]]])"
      ]
     },
     "execution_count": 2,
     "metadata": {},
     "output_type": "execute_result"
    }
   ],
   "source": [
    "import string\n",
    "import numpy as np\n",
    "\n",
    "\n",
    "samples = ['The cat sat on the mat.', 'The dog ate my homework.']\n",
    "characters = string.printable\n",
    "token_index = dict(zip(range(1, len(characters) + 1), characters))\n",
    "\n",
    "max_length = 50\n",
    "results = np.zeros((len(samples), max_length, max(token_index.keys()) + 1))\n",
    "for i, sample in enumerate(samples):\n",
    "    for j, character in enumerate(sample):\n",
    "        index = token_index.get(character)\n",
    "        results[i, j, index] = 1.\n",
    "results"
   ]
  },
  {
   "cell_type": "markdown",
   "metadata": {},
   "source": [
    "### 代码清单 6-3 用 Keras 实现单词级的 one-hot 编码"
   ]
  },
  {
   "cell_type": "code",
   "execution_count": 3,
   "metadata": {},
   "outputs": [
    {
     "name": "stderr",
     "output_type": "stream",
     "text": [
      "Using TensorFlow backend.\n"
     ]
    },
    {
     "name": "stdout",
     "output_type": "stream",
     "text": [
      "Found 9 unique tokens.\n"
     ]
    }
   ],
   "source": [
    "from keras.preprocessing.text import Tokenizer\n",
    "\n",
    "\n",
    "samples = ['The cat sat on the mat.', 'The dag ate my homework.']\n",
    "\n",
    "tokenizer = Tokenizer(num_words=1000)\n",
    "tokenizer.fit_on_texts(samples)\n",
    "\n",
    "sequences = tokenizer.texts_to_sequences(samples)\n",
    "\n",
    "one_hot_results = tokenizer.texts_to_matrix(samples, mode='binary')\n",
    "\n",
    "word_index = tokenizer.word_index\n",
    "print('Found %s unique tokens.' % len(word_index))"
   ]
  },
  {
   "cell_type": "markdown",
   "metadata": {},
   "source": [
    "### 代码清单 6-4 使用散列技巧的单词级的 one-hot 编码(简单示例)"
   ]
  },
  {
   "cell_type": "code",
   "execution_count": 4,
   "metadata": {},
   "outputs": [
    {
     "data": {
      "text/plain": [
       "array([[[0., 0., 0., ..., 0., 0., 0.],\n",
       "        [0., 0., 0., ..., 0., 0., 0.],\n",
       "        [0., 0., 0., ..., 0., 0., 0.],\n",
       "        ...,\n",
       "        [0., 0., 0., ..., 0., 0., 0.],\n",
       "        [0., 0., 0., ..., 0., 0., 0.],\n",
       "        [0., 0., 0., ..., 0., 0., 0.]],\n",
       "\n",
       "       [[0., 0., 0., ..., 0., 0., 0.],\n",
       "        [0., 0., 0., ..., 0., 0., 1.],\n",
       "        [0., 0., 0., ..., 0., 0., 0.],\n",
       "        ...,\n",
       "        [0., 0., 0., ..., 0., 0., 0.],\n",
       "        [0., 0., 0., ..., 0., 0., 0.],\n",
       "        [0., 0., 0., ..., 0., 0., 0.]]])"
      ]
     },
     "execution_count": 4,
     "metadata": {},
     "output_type": "execute_result"
    }
   ],
   "source": [
    "import numpy as np\n",
    "\n",
    "samples = ['The cat sat on the mat.', 'The dog ate my homework.']\n",
    "\n",
    "dimensionality = 1000\n",
    "max_length = 10\n",
    "\n",
    "results = np.zeros((len(samples), max_length, dimensionality))\n",
    "for i, sample in enumerate(samples):\n",
    "    for j, word in list(enumerate(sample.split()))[:max_length]:\n",
    "        index = abs(hash(word)) % dimensionality\n",
    "        results[i, j, index] = 1.\n",
    "results"
   ]
  },
  {
   "cell_type": "markdown",
   "metadata": {},
   "source": [
    "### 代码清单 6-6 加载 IMDB 数据,准备用于 Embedding 层"
   ]
  },
  {
   "cell_type": "code",
   "execution_count": 5,
   "metadata": {},
   "outputs": [
    {
     "name": "stdout",
     "output_type": "stream",
     "text": [
      "[1, 591, 202, 14, 31, 6, 717, 10, 10, 2, 2, 5, 4, 360, 7, 4, 177, 5760, 394, 354, 4, 123, 9, 1035, 1035, 1035, 10, 10, 13, 92, 124, 89, 488, 7944, 100, 28, 1668, 14, 31, 23, 27, 7479, 29, 220, 468, 8, 124, 14, 286, 170, 8, 157, 46, 5, 27, 239, 16, 179, 2, 38, 32, 25, 7944, 451, 202, 14, 6, 717]\n"
     ]
    },
    {
     "data": {
      "text/plain": [
       "array([ 286,  170,    8,  157,   46,    5,   27,  239,   16,  179,    2,\n",
       "         38,   32,   25, 7944,  451,  202,   14,    6,  717], dtype=int32)"
      ]
     },
     "execution_count": 5,
     "metadata": {},
     "output_type": "execute_result"
    }
   ],
   "source": [
    "from keras.datasets import imdb\n",
    "from keras import preprocessing\n",
    "\n",
    "\n",
    "max_features = 10000\n",
    "maxlen = 20\n",
    "\n",
    "(x_train, y_train), (x_test, y_test) = imdb.load_data(num_words=max_features) # 所有评论样本使用的是前10000个常用单词\n",
    "# x_train x_test 是一个np向量shape像（100，）这样，每个元素是一个list，list中的每个元素是编号的单词，所以整个list就是一个评论\n",
    "print(x_test[0])\n",
    "x_train = preprocessing.sequence.pad_sequences(x_train, maxlen=maxlen) \n",
    "x_test  = preprocessing.sequence.pad_sequences(x_test,  maxlen=maxlen) # 默认截断序列的前部\n",
    "# 经过pad_sequences的处理每条评论被截断到设定的最长大小，shape变成了（100，20）这样的np矩阵，把之前的list截断后变为矩阵的新维度\\\n",
    "x_test[0]"
   ]
  },
  {
   "cell_type": "markdown",
   "metadata": {},
   "source": [
    "<font color=\"#FF0000\" size=3><b>填充序列pad_sequences文档</b></font>\n",
    "  \n",
    "```python\n",
    "keras.preprocessing.sequence.pad_sequences(sequences, maxlen=None, dtype='int32',\n",
    "    padding='pre', truncating='pre', value=0.)\n",
    "```\n",
    "\n",
    "将长为nb_samples的序列（标量序列）转化为形如(nb_samples,nb_timesteps)2D numpy array。  \n",
    "如果提供了参数maxlen，nb_timesteps=maxlen，否则其值为最长序列的长度。其他短于该长度的序列都会在后部填充0以达到该长度。  \n",
    "长于nb_timesteps的序列将会被截断，以使其匹配目标长度。padding和截断发生的位置分别取决于padding和truncating.\n",
    "\n",
    "**参数**\n",
    "\n",
    "- sequences：浮点数或整数构成的两层嵌套列表\n",
    "\n",
    "- maxlen：None或整数，为序列的最大长度。大于此长度的序列将被截短，小于此长度的序列将在后部填0.\n",
    "\n",
    "- dtype：返回的numpy array的数据类型\n",
    "\n",
    "- padding：‘pre’或‘post’，确定当需要补0时，在序列的起始还是结尾补\n",
    "\n",
    "- truncating：‘pre’或‘post’，确定当需要截断序列时，从起始还是结尾截断\n",
    "\n",
    "- value：浮点数，此值将在填充时代替默认的填充值0\n",
    "\n",
    "**返回值**\n",
    "\n",
    "- 返回形如(nb_samples,nb_timesteps)的2D张量\n",
    "\n",
    "\n",
    "<font color=\"#FF0000\" size=3><b>嵌入层 Embedding 文档</b></font>  \n",
    "\n",
    "```python\n",
    "keras.layers.embeddings.Embedding(input_dim, output_dim, embeddings_initializer='uniform', embeddings_regularizer=None, activity_regularizer=None, embeddings_constraint=None, mask_zero=False, input_length=None)\n",
    "```\n",
    "\n",
    "嵌入层将正整数（下标）转换为具有固定大小的向量，如[[4],[20]]->[[0.25,0.1],[0.6,-0.2]]\n",
    "\n",
    "Embedding层只能作为模型的第一层  \n",
    "\n",
    "**参数**\n",
    "\n",
    "- input_dim：大或等于0的整数，字典长度，即输入数据最大下标+1\n",
    "\n",
    "- output_dim：大于0的整数，代表全连接嵌入的维度\n",
    "\n",
    "- embeddings_initializer: 嵌入矩阵的初始化方法，为预定义初始化方法名的字符串，或用于初始化权重的初始化器。参考initializers\n",
    "\n",
    "- embeddings_regularizer: 嵌入矩阵的正则项，为Regularizer对象\n",
    "\n",
    "- embeddings_constraint: 嵌入矩阵的约束项，为Constraints对象\n",
    "\n",
    "- mask_zero：布尔值，确定是否将输入中的‘0’看作是应该被忽略的‘填充’（padding）值，该参数在使用递归层处理变长输入时有用。设置为True的话，模型中后续的层必须都支持masking，否则会抛出异常。如果该值为True，则下标0在字典中不可用，input_dim应设置为|vocabulary| + 1。\n",
    "\n",
    "- input_length：当输入序列的长度固定时，该值为其长度。如果要在该层后接Flatten层，然后接Dense层，则必须指定该参数，否则Dense层的输出维度无法自动推断。\n",
    "\n",
    "**输入shape**\n",
    "\n",
    "- 形如（samples，sequence_length）的2D张量  \n",
    "  \n",
    "**输出shape**\n",
    "\n",
    "- 形如(samples, sequence_length, output_dim)的3D张量"
   ]
  },
  {
   "cell_type": "markdown",
   "metadata": {},
   "source": [
    "### 代码清单 6-7 在 IMDB 数据上使用 Embedding 层和分类器"
   ]
  },
  {
   "cell_type": "code",
   "execution_count": 6,
   "metadata": {},
   "outputs": [
    {
     "name": "stdout",
     "output_type": "stream",
     "text": [
      "_________________________________________________________________\n",
      "Layer (type)                 Output Shape              Param #   \n",
      "=================================================================\n",
      "embedding_1 (Embedding)      (None, 20, 8)             80000     \n",
      "_________________________________________________________________\n",
      "flatten_1 (Flatten)          (None, 160)               0         \n",
      "_________________________________________________________________\n",
      "dense_1 (Dense)              (None, 1)                 161       \n",
      "=================================================================\n",
      "Total params: 80,161\n",
      "Trainable params: 80,161\n",
      "Non-trainable params: 0\n",
      "_________________________________________________________________\n",
      "Train on 20000 samples, validate on 5000 samples\n",
      "Epoch 1/10\n",
      "20000/20000 [==============================] - 13s 630us/step - loss: 0.6759 - acc: 0.6050 - val_loss: 0.6398 - val_acc: 0.6814\n",
      "Epoch 2/10\n",
      "20000/20000 [==============================] - 1s 72us/step - loss: 0.5657 - acc: 0.7427 - val_loss: 0.5467 - val_acc: 0.7206\n",
      "Epoch 3/10\n",
      "20000/20000 [==============================] - 1s 72us/step - loss: 0.4752 - acc: 0.7808 - val_loss: 0.5113 - val_acc: 0.7384\n",
      "Epoch 4/10\n",
      "20000/20000 [==============================] - 1s 71us/step - loss: 0.4263 - acc: 0.8077 - val_loss: 0.5008 - val_acc: 0.7452\n",
      "Epoch 5/10\n",
      "20000/20000 [==============================] - 1s 71us/step - loss: 0.3930 - acc: 0.8258 - val_loss: 0.4981 - val_acc: 0.7538\n",
      "Epoch 6/10\n",
      "20000/20000 [==============================] - 1s 71us/step - loss: 0.3668 - acc: 0.8395 - val_loss: 0.5014 - val_acc: 0.7530\n",
      "Epoch 7/10\n",
      "20000/20000 [==============================] - 1s 70us/step - loss: 0.3435 - acc: 0.8533 - val_loss: 0.5052 - val_acc: 0.7520\n",
      "Epoch 8/10\n",
      "20000/20000 [==============================] - 1s 70us/step - loss: 0.3223 - acc: 0.8657 - val_loss: 0.5132 - val_acc: 0.7486\n",
      "Epoch 9/10\n",
      "20000/20000 [==============================] - 1s 70us/step - loss: 0.3022 - acc: 0.8766 - val_loss: 0.5213 - val_acc: 0.7490\n",
      "Epoch 10/10\n",
      "20000/20000 [==============================] - 1s 71us/step - loss: 0.2839 - acc: 0.8860 - val_loss: 0.5303 - val_acc: 0.7466\n"
     ]
    }
   ],
   "source": [
    "from keras.models import Sequential\n",
    "from keras.layers import Flatten, Dense, Embedding\n",
    "\n",
    "\n",
    "model = Sequential()\n",
    "model.add(Embedding(10000, 8, input_length=maxlen))\n",
    "# Embedding 层至少需要两个参数:\n",
    "# 标记的个数(这里是 10000,即最大单词索引 +1)\n",
    "# 嵌入的维度(这里是 8)\n",
    "# 将电影评论限制为前 10 000 个最常见的单词(第一次处理这个数据集时就是这么做的),\n",
    "# 然后将评论长度限制为只有 20 个单词。对于这 10 000 个单词,网络将对每个词都学习一个 8维嵌入,\n",
    "# 将输入的整数序列(二维整数张量)转换为嵌入序列(三维浮点数张量),\n",
    "# 然后将这个张量展平为二维,最后在上面训练一个 Dense 层用于分类\n",
    "model.add(Flatten())\n",
    "model.add(Dense(1, activation='sigmoid'))\n",
    "model.compile(optimizer='rmsprop', loss='binary_crossentropy', metrics=['acc'])\n",
    "model.summary()\n",
    "\n",
    "history = model.fit(x_train, y_train,\n",
    "                    epochs=10,\n",
    "                    batch_size=32,\n",
    "                   validation_split=0.2)"
   ]
  },
  {
   "cell_type": "markdown",
   "metadata": {},
   "source": [
    "### 代码清单 6-8 处理 IMDB 原始数据的标签"
   ]
  },
  {
   "cell_type": "code",
   "execution_count": 7,
   "metadata": {},
   "outputs": [
    {
     "data": {
      "text/plain": [
       "'I vowed a long time ago to NEVER, EVER watch a movie that has ANYONE who EVER was a regular cast member of \"Saturday Night Live\". I didn\\'t rent \"Corky Romano\" but I was forced by my unfailing good manners to watch it for half an hour. Then my good manners failed. Stupid, not funny. Tedious, not hilarious. Bad, not good. That in a nutshell is all I can say for this video.'"
      ]
     },
     "execution_count": 7,
     "metadata": {},
     "output_type": "execute_result"
    }
   ],
   "source": [
    "import os\n",
    "\n",
    "\n",
    "imdb_dir = '第6章 深度学习用于文本和序列 数据/aclImdb'\n",
    "train_dir = os.path.join(imdb_dir, 'train')\n",
    "\n",
    "labels = []\n",
    "texts = []\n",
    "\n",
    "for label_type in ['neg', 'pos']:\n",
    "    dir_name = os.path.join(train_dir, label_type)\n",
    "    for fname in os.listdir(dir_name):\n",
    "        if fname.endswith('.txt'):\n",
    "            with open(os.path.join(dir_name, fname)) as f:\n",
    "                tmp = f.read()\n",
    "            assert tmp is not None\n",
    "            texts.append(tmp)\n",
    "            if label_type == 'neg':\n",
    "                labels.append(0)\n",
    "            else:\n",
    "                labels.append(1)\n",
    "                \n",
    "texts[1]"
   ]
  },
  {
   "cell_type": "markdown",
   "metadata": {},
   "source": [
    "### 代码清单 6-9 对 IMDB 原始数据的文本进行分词"
   ]
  },
  {
   "cell_type": "code",
   "execution_count": 8,
   "metadata": {},
   "outputs": [
    {
     "name": "stdout",
     "output_type": "stream",
     "text": [
      "Found 88582 unique tokens.\n",
      "Shape of data tensor: (25000, 100)\n",
      "Shape of label tensor: (25000,)\n"
     ]
    }
   ],
   "source": [
    "from keras.preprocessing.text import Tokenizer\n",
    "from keras.preprocessing.sequence import pad_sequences\n",
    "import numpy as np\n",
    "\n",
    "\n",
    "maxlen = 100\n",
    "training_samples = 200\n",
    "validation_samples = 10000\n",
    "max_words = 10000\n",
    "\n",
    "tokenizer = Tokenizer(num_words=max_words)\n",
    "tokenizer.fit_on_texts(texts)\n",
    "sequences = tokenizer.texts_to_sequences(texts)\n",
    "# sequences是一个双层列表，外层是评论，内层是单词编号\n",
    "\n",
    "word_index = tokenizer.word_index\n",
    "print(\"Found %s unique tokens.\" % len(word_index))\n",
    "\n",
    "data = pad_sequences(sequences, maxlen=maxlen)\n",
    "\n",
    "labels = np.asarray(labels)\n",
    "# 把列表形式的labels转换为array方便以后计算\n",
    "print('Shape of data tensor:', data.shape)\n",
    "print('Shape of label tensor:', labels.shape)\n",
    "\n",
    "# 准备把数据划分为训练集和验证集\n",
    "# 因为目前数据是按负面评论和正面评论分好类的\n",
    "# 所以要将所有数据顺序打乱\n",
    "indices = np.arange(data.shape[0])\n",
    "np.random.shuffle(indices) # numpy的洗牌函数，可以把数组中元素位置随机打乱\n",
    "data = data[indices] # 利用numpy的特性，通过乱序的下标来打乱元素位置\n",
    "labels = labels[indices]\n",
    "\n",
    "x_train = data[ : training_samples]\n",
    "y_train = labels[ : training_samples]\n",
    "x_val = data[training_samples : training_samples + validation_samples]\n",
    "y_val = labels[training_samples : training_samples + validation_samples]"
   ]
  },
  {
   "cell_type": "markdown",
   "metadata": {},
   "source": [
    "### 代码清单 6-10 解析 GloVe 词嵌入文件"
   ]
  },
  {
   "cell_type": "code",
   "execution_count": 9,
   "metadata": {},
   "outputs": [
    {
     "name": "stdout",
     "output_type": "stream",
     "text": [
      "Found 400000 words vectors.\n"
     ]
    }
   ],
   "source": [
    "glove_dir = '第6章 深度学习用于文本和序列 数据/glove.6B'\n",
    "\n",
    "embeddings_index = {}\n",
    "with open(os.path.join(glove_dir, 'glove.6B.100d.txt')) as f:\n",
    "    for line in f:\n",
    "        values = line.split()\n",
    "        word = values[0]\n",
    "        coefs = np.asarray(values[1:], dtype='float32')\n",
    "        embeddings_index[word] = coefs\n",
    "print('Found {} words vectors.'.format(len(embeddings_index)))"
   ]
  },
  {
   "cell_type": "markdown",
   "metadata": {},
   "source": [
    "### 代码清单 6-11 准备 GloVe 词嵌入矩阵"
   ]
  },
  {
   "cell_type": "code",
   "execution_count": 10,
   "metadata": {},
   "outputs": [
    {
     "data": {
      "text/plain": [
       "(10000, 100)"
      ]
     },
     "execution_count": 10,
     "metadata": {},
     "output_type": "execute_result"
    }
   ],
   "source": [
    "embedding_dim = 100\n",
    "\n",
    "embedding_matrix = np.zeros((max_words, embedding_dim))\n",
    "for word, i in word_index.items():\n",
    "    if i < max_words:\n",
    "        embedding_vector = embeddings_index.get(word)\n",
    "        if embedding_vector is not None:\n",
    "            embedding_matrix[i] = embedding_vector\n",
    "embedding_matrix.shape"
   ]
  },
  {
   "cell_type": "markdown",
   "metadata": {},
   "source": [
    "### 代码清单 6-12 模型定义"
   ]
  },
  {
   "cell_type": "code",
   "execution_count": 11,
   "metadata": {},
   "outputs": [
    {
     "name": "stdout",
     "output_type": "stream",
     "text": [
      "_________________________________________________________________\n",
      "Layer (type)                 Output Shape              Param #   \n",
      "=================================================================\n",
      "embedding_2 (Embedding)      (None, 100, 100)          1000000   \n",
      "_________________________________________________________________\n",
      "flatten_2 (Flatten)          (None, 10000)             0         \n",
      "_________________________________________________________________\n",
      "dense_2 (Dense)              (None, 32)                320032    \n",
      "_________________________________________________________________\n",
      "dense_3 (Dense)              (None, 1)                 33        \n",
      "=================================================================\n",
      "Total params: 1,320,065\n",
      "Trainable params: 1,320,065\n",
      "Non-trainable params: 0\n",
      "_________________________________________________________________\n"
     ]
    }
   ],
   "source": [
    "from keras.models import Sequential\n",
    "from keras.layers import Embedding, Flatten, Dense\n",
    "\n",
    "\n",
    "model = Sequential()\n",
    "model.add(Embedding(max_words, embedding_dim, input_length=maxlen))\n",
    "model.add(Flatten())\n",
    "model.add(Dense(32, activation='relu'))\n",
    "model.add(Dense(1, activation='sigmoid'))\n",
    "model.summary()"
   ]
  },
  {
   "cell_type": "markdown",
   "metadata": {},
   "source": [
    "### 代码清单 6-13 将预训练的词嵌入加载到 Embedding 层中"
   ]
  },
  {
   "cell_type": "code",
   "execution_count": 12,
   "metadata": {},
   "outputs": [],
   "source": [
    "model.layers[0].set_weights([embedding_matrix])\n",
    "model.layers[0].trainable = False\n",
    "# 需要冻结 Embedding 层(即将其 trainable 属性设为 False)"
   ]
  },
  {
   "cell_type": "markdown",
   "metadata": {},
   "source": [
    "### 代码清单 6-14 训练与评估"
   ]
  },
  {
   "cell_type": "code",
   "execution_count": 13,
   "metadata": {
    "scrolled": true
   },
   "outputs": [
    {
     "name": "stdout",
     "output_type": "stream",
     "text": [
      "Train on 200 samples, validate on 10000 samples\n",
      "Epoch 1/10\n",
      "200/200 [==============================] - 1s 3ms/step - loss: 1.6934 - acc: 0.4750 - val_loss: 0.6939 - val_acc: 0.5096\n",
      "Epoch 2/10\n",
      "200/200 [==============================] - 0s 2ms/step - loss: 0.6308 - acc: 0.6650 - val_loss: 0.7610 - val_acc: 0.5071\n",
      "Epoch 3/10\n",
      "200/200 [==============================] - 0s 2ms/step - loss: 0.6321 - acc: 0.6100 - val_loss: 0.7928 - val_acc: 0.4956\n",
      "Epoch 4/10\n",
      "200/200 [==============================] - 0s 2ms/step - loss: 0.4817 - acc: 0.7450 - val_loss: 0.7643 - val_acc: 0.5172\n",
      "Epoch 5/10\n",
      "200/200 [==============================] - 0s 2ms/step - loss: 0.3319 - acc: 0.8850 - val_loss: 0.7048 - val_acc: 0.5604\n",
      "Epoch 6/10\n",
      "200/200 [==============================] - 0s 2ms/step - loss: 0.2319 - acc: 0.9600 - val_loss: 0.7422 - val_acc: 0.5593\n",
      "Epoch 7/10\n",
      "200/200 [==============================] - 0s 2ms/step - loss: 0.1949 - acc: 0.9350 - val_loss: 0.8707 - val_acc: 0.5173\n",
      "Epoch 8/10\n",
      "200/200 [==============================] - 0s 2ms/step - loss: 0.1387 - acc: 0.9800 - val_loss: 0.8661 - val_acc: 0.5176\n",
      "Epoch 9/10\n",
      "200/200 [==============================] - 0s 2ms/step - loss: 0.0861 - acc: 1.0000 - val_loss: 0.7701 - val_acc: 0.5649\n",
      "Epoch 10/10\n",
      "200/200 [==============================] - 0s 2ms/step - loss: 0.0483 - acc: 1.0000 - val_loss: 0.7706 - val_acc: 0.5738\n"
     ]
    }
   ],
   "source": [
    "model.compile(optimizer='rmsprop',\n",
    "              loss='binary_crossentropy',\n",
    "              metrics=['acc'])\n",
    "history = model.fit(x_train, y_train,\n",
    "                     epochs=10,\n",
    "                     batch_size=32,\n",
    "                     validation_data=(x_val, y_val))\n",
    "model.save_weights('第6章 深度学习用于文本和序列 数据/pre_trained_glove_model.h5')"
   ]
  },
  {
   "cell_type": "markdown",
   "metadata": {},
   "source": [
    "### 代码清单 6-15 绘制结果"
   ]
  },
  {
   "cell_type": "code",
   "execution_count": 14,
   "metadata": {},
   "outputs": [
    {
     "data": {
      "text/plain": [
       "<matplotlib.legend.Legend at 0x7f4db57d4c50>"
      ]
     },
     "execution_count": 14,
     "metadata": {},
     "output_type": "execute_result"
    },
    {
     "data": {
      "image/png": "[encoded data removed]",
      "text/plain": [
       "<Figure size 432x288 with 1 Axes>"
      ]
     },
     "metadata": {
      "needs_background": "light"
     },
     "output_type": "display_data"
    },
    {
     "data": {
      "image/png": "[encoded data removed]",
      "text/plain": [
       "<Figure size 432x288 with 1 Axes>"
      ]
     },
     "metadata": {
      "needs_background": "light"
     },
     "output_type": "display_data"
    }
   ],
   "source": [
    "import matplotlib.pyplot as plt\n",
    "%matplotlib inline\n",
    "\n",
    "\n",
    "acc = history.history['acc']\n",
    "val_acc = history.history['val_acc']\n",
    "loss = history.history['loss']\n",
    "val_loss = history.history['val_loss']\n",
    "\n",
    "epochs = range(1, len(acc) + 1)\n",
    "\n",
    "plt.figure()\n",
    "plt.plot(epochs, acc, 'bo', label='Training acc')\n",
    "plt.plot(epochs, val_acc, 'b', label='Validation acc')\n",
    "plt.title('Training and validation accuracy')\n",
    "plt.legend()\n",
    "\n",
    "plt.figure()\n",
    "plt.plot(epochs, loss, 'bo', label='Training loss')\n",
    "plt.plot(epochs, val_loss, 'b', label='Validation loss')\n",
    "plt.title(\"Training and Validation loss\")\n",
    "plt.legend(loc='best')"
   ]
  },
  {
   "cell_type": "markdown",
   "metadata": {},
   "source": [
    "### 代码清单 6-16 在不使用预训练词嵌入的情况下,训练相同的模型"
   ]
  },
  {
   "cell_type": "code",
   "execution_count": 15,
   "metadata": {},
   "outputs": [
    {
     "name": "stdout",
     "output_type": "stream",
     "text": [
      "_________________________________________________________________\n",
      "Layer (type)                 Output Shape              Param #   \n",
      "=================================================================\n",
      "embedding_3 (Embedding)      (None, 100, 100)          1000000   \n",
      "_________________________________________________________________\n",
      "flatten_3 (Flatten)          (None, 10000)             0         \n",
      "_________________________________________________________________\n",
      "dense_4 (Dense)              (None, 32)                320032    \n",
      "_________________________________________________________________\n",
      "dense_5 (Dense)              (None, 1)                 33        \n",
      "=================================================================\n",
      "Total params: 1,320,065\n",
      "Trainable params: 1,320,065\n",
      "Non-trainable params: 0\n",
      "_________________________________________________________________\n",
      "Train on 200 samples, validate on 10000 samples\n",
      "Epoch 1/10\n",
      "200/200 [==============================] - 1s 3ms/step - loss: 0.6899 - acc: 0.4800 - val_loss: 0.7024 - val_acc: 0.5197\n",
      "Epoch 2/10\n",
      "200/200 [==============================] - 0s 2ms/step - loss: 0.4968 - acc: 0.9800 - val_loss: 0.7184 - val_acc: 0.5212\n",
      "Epoch 3/10\n",
      "200/200 [==============================] - 0s 2ms/step - loss: 0.2736 - acc: 0.9850 - val_loss: 0.7196 - val_acc: 0.5255\n",
      "Epoch 4/10\n",
      "200/200 [==============================] - 0s 2ms/step - loss: 0.1149 - acc: 0.9950 - val_loss: 0.7176 - val_acc: 0.5282\n",
      "Epoch 5/10\n",
      "200/200 [==============================] - 0s 2ms/step - loss: 0.0523 - acc: 1.0000 - val_loss: 0.7247 - val_acc: 0.5286\n",
      "Epoch 6/10\n",
      "200/200 [==============================] - 0s 2ms/step - loss: 0.0265 - acc: 1.0000 - val_loss: 0.7361 - val_acc: 0.5288\n",
      "Epoch 7/10\n",
      "200/200 [==============================] - 0s 2ms/step - loss: 0.0145 - acc: 1.0000 - val_loss: 0.7299 - val_acc: 0.5280\n",
      "Epoch 8/10\n",
      "200/200 [==============================] - 0s 2ms/step - loss: 0.0085 - acc: 1.0000 - val_loss: 0.7488 - val_acc: 0.5271\n",
      "Epoch 9/10\n",
      "200/200 [==============================] - 0s 2ms/step - loss: 0.0051 - acc: 1.0000 - val_loss: 0.7465 - val_acc: 0.5274\n",
      "Epoch 10/10\n",
      "200/200 [==============================] - 0s 2ms/step - loss: 0.0032 - acc: 1.0000 - val_loss: 0.7650 - val_acc: 0.5284\n"
     ]
    },
    {
     "data": {
      "image/png": "[encoded data removed]",
      "text/plain": [
       "<Figure size 432x288 with 1 Axes>"
      ]
     },
     "metadata": {
      "needs_background": "light"
     },
     "output_type": "display_data"
    },
    {
     "data": {
      "image/png": "[encoded data removed]",
      "text/plain": [
       "<Figure size 432x288 with 1 Axes>"
      ]
     },
     "metadata": {
      "needs_background": "light"
     },
     "output_type": "display_data"
    }
   ],
   "source": [
    "from keras.models import Sequential\n",
    "from keras.layers import Embedding, Flatten, Dense\n",
    "import matplotlib.pyplot as plt\n",
    "\n",
    "\n",
    "model = Sequential()\n",
    "model.add(Embedding(max_words, embedding_dim, input_length=maxlen))\n",
    "model.add(Flatten())\n",
    "model.add(Dense(32, activation='relu'))\n",
    "model.add(Dense(1, activation='sigmoid'))\n",
    "model.summary()\n",
    "\n",
    "model.compile(optimizer='rmsprop', loss='binary_crossentropy', metrics=['acc'])\n",
    "history = model.fit(x_train, y_train,\n",
    "                    epochs=10,\n",
    "                    batch_size=32,\n",
    "                    validation_data=(x_val, y_val))\n",
    "\n",
    "acc = history.history['acc']\n",
    "val_acc = history.history['val_acc']\n",
    "loss = history.history['loss']\n",
    "val_loss = history.history['val_loss']\n",
    "\n",
    "epochs = range(1, len(acc) + 1)\n",
    "\n",
    "plt.figure()\n",
    "plt.plot(epochs, acc, 'bo', label='Training accuracy')\n",
    "plt.plot(epochs, val_acc, 'b', label='Validation accuracy')\n",
    "plt.title(\"Training and Validation accuracy\")\n",
    "plt.legend(loc='best')\n",
    "\n",
    "plt.figure()\n",
    "plt.plot(epochs, loss, 'bo', label='Training loss')\n",
    "plt.plot(epochs, val_loss, 'b', label='Validation loss')\n",
    "plt.title(\"Training and Validation loss\")\n",
    "plt.legend(loc='best')\n",
    "\n",
    "plt.show()"
   ]
  },
  {
   "cell_type": "markdown",
   "metadata": {},
   "source": [
    "### 代码清单 6-17 对测试集数据进行分词"
   ]
  },
  {
   "cell_type": "code",
   "execution_count": 16,
   "metadata": {},
   "outputs": [
    {
     "data": {
      "text/plain": [
       "(25000, 100)"
      ]
     },
     "execution_count": 16,
     "metadata": {},
     "output_type": "execute_result"
    }
   ],
   "source": [
    "test_dir = os.path.join(imdb_dir, 'test')\n",
    "\n",
    "labels = []\n",
    "texts = []\n",
    "\n",
    "for label_type in ('neg', 'pos'):\n",
    "    dir_name = os.path.join(test_dir, label_type)\n",
    "    for fname in sorted(os.listdir(dir_name)):\n",
    "        if fname.endswith('.txt'):\n",
    "            with open(os.path.join(dir_name, fname)) as f:\n",
    "                texts.append(f.read())\n",
    "            if label_type == 'neg':\n",
    "                labels.append(1)\n",
    "            else:\n",
    "                labels.append(0)\n",
    "                \n",
    "sequences = tokenizer.texts_to_sequences(texts)\n",
    "x_test = pad_sequences(sequences, maxlen=maxlen)\n",
    "y_test = np.asarray(labels)\n",
    "x_test.shape"
   ]
  },
  {
   "cell_type": "markdown",
   "metadata": {},
   "source": [
    "### 代码清单 6-18 在测试集上评估模型"
   ]
  },
  {
   "cell_type": "code",
   "execution_count": 17,
   "metadata": {},
   "outputs": [
    {
     "name": "stdout",
     "output_type": "stream",
     "text": [
      "25000/25000 [==============================] - 1s 31us/step\n"
     ]
    },
    {
     "data": {
      "text/plain": [
       "[0.9941937937927247, 0.43724]"
      ]
     },
     "execution_count": 17,
     "metadata": {},
     "output_type": "execute_result"
    }
   ],
   "source": [
    "model.load_weights('第6章 深度学习用于文本和序列 数据/pre_trained_glove_model.h5')\n",
    "model.evaluate(x_test, y_test)"
   ]
  },
  {
   "cell_type": "markdown",
   "metadata": {},
   "source": [
    "## 6.2 理解循环神经网络"
   ]
  },
  {
   "cell_type": "markdown",
   "metadata": {},
   "source": [
    "<img src=\"第6章 深度学习用于文本和序列 数据/图 6-9 循环网络:带有环的网络.png\" width=640 height=480>"
   ]
  },
  {
   "cell_type": "markdown",
   "metadata": {},
   "source": [
    "### 代码清单 6-19 RNN 伪代码"
   ]
  },
  {
   "cell_type": "markdown",
   "metadata": {},
   "source": [
    "```python\n",
    "state_t = 0  # t时刻的状态\n",
    "for input_t in input_sequence: # 对序列元素进行遍历\n",
    "    output_t = f(input_t, state_t)\n",
    "    state_t = output_t # 前一次的输出变成下一次跌迭代的状态\n",
    "```"
   ]
  },
  {
   "cell_type": "markdown",
   "metadata": {},
   "source": [
    "### 代码清单 6-20 更详细的 RNN 伪代码"
   ]
  },
  {
   "cell_type": "markdown",
   "metadata": {},
   "source": [
    "```python\n",
    "state_t = 0\n",
    "for input_t in input_sequcece:\n",
    "    output_t = activation(dot(W, input_t) + dot(U, state_t) + b)\n",
    "    # 从输入和状态到输出的变换,其参数包括两个矩阵(W 和 U)和一个偏置向量。\n",
    "    # 它类似于前馈网络中密集连接层所做的变换\n",
    "    state_t = output_t\n",
    "```"
   ]
  },
  {
   "cell_type": "markdown",
   "metadata": {},
   "source": [
    "### 代码清单 6-21 简单 RNN 的 Numpy 实现"
   ]
  },
  {
   "cell_type": "code",
   "execution_count": 18,
   "metadata": {},
   "outputs": [],
   "source": [
    "import numpy as np\n",
    "\n",
    "\n",
    "timesteps = 100       # 输入序列的时间步数\n",
    "input_features = 32   # 输入特征空间的维度\n",
    "output_features = 64  # 输出特征空间的维度\n",
    "\n",
    "inputs = np.random.random((timesteps, input_features)) # 输入数据：随机噪声，仅作为示例\n",
    "\n",
    "state_t = np.zeros((output_features,)) # 初始状态：全零向量\n",
    "\n",
    "# 创建谁及的权重矩阵\n",
    "W = np.random.random((output_features, input_features))\n",
    "U = np.random.random((output_features, output_features))\n",
    "b = np.random.random((output_features,))\n",
    "\n",
    "successive_outputs = []\n",
    "for input_t in inputs: # input_t是形状为(features,)的向量\n",
    "    output_t = np.tanh(np.dot(W, input_t) + np.dot(U, state_t) + b) # 由输入和当前状态(前一个输出)计算得到当前输出\n",
    "    \n",
    "    successive_outputs.append(output_t) # 将这个输出序列保存到一个列表中\n",
    "    \n",
    "    state_t = output_t # 更新网络的状态，用于下一个时间布\n",
    "    \n",
    "final_output_sequence = np.stack(successive_outputs, axis=0) # 最终输出是一个形状为(timesteps, output_features)的二维张量\n",
    "\n",
    "#-------------------------------------------------------------------------------------------------------------------\n",
    "# 本例中,最终输出是一个形状为 (timesteps, output_features) 的二维张量,其中每个时间步是循环在 t 时刻的输出。\n",
    "# 输出张量中的每个时间步 t 包含输入序列中时间步0~t 的信息,即关于全部过去的信息。\n",
    "# 因此,在多数情况下,你并不需要这个所有输出组成的序列,你只需要最后一个输出(循环结束时的 output_t),因为它已经包含了整个序列的信息。\n",
    "#-------------------------------------------------------------------------------------------------------------------"
   ]
  },
  {
   "cell_type": "markdown",
   "metadata": {},
   "source": [
    "### 代码清单 6-22 准备 IMDB 数据"
   ]
  },
  {
   "cell_type": "code",
   "execution_count": 19,
   "metadata": {},
   "outputs": [
    {
     "name": "stdout",
     "output_type": "stream",
     "text": [
      "Loading data...\n",
      "25000 train sequences\n",
      "25000 test sequences\n"
     ]
    }
   ],
   "source": [
    "from keras.datasets import imdb\n",
    "from keras.preprocessing import sequence\n",
    "\n",
    "\n",
    "max_features = 10000 # 作为特征的单词个数\n",
    "maxlen = 500 # 每个文本中截取前500个或后500个单词作为新的文本(这些文本中的单词都属于前max_features个最常见的单词)\n",
    "batch_size = 32\n",
    "\n",
    "print('Loading data...')\n",
    "(input_train, y_train), (input_test, y_test) = imdb.load_data(num_words=max_features)\n",
    "input_train = sequence.pad_sequences(input_train, maxlen=maxlen)\n",
    "input_test = sequence.pad_sequences(input_test, maxlen=maxlen)\n",
    "print(len(input_train), 'train sequences')\n",
    "print(len(input_test), 'test sequences')"
   ]
  },
  {
   "cell_type": "markdown",
   "metadata": {},
   "source": [
    "### 代码清单 6-23 用 Embedding 层和 SimpleRNN 层来训练模型"
   ]
  },
  {
   "cell_type": "code",
   "execution_count": 20,
   "metadata": {},
   "outputs": [
    {
     "name": "stdout",
     "output_type": "stream",
     "text": [
      "_________________________________________________________________\n",
      "Layer (type)                 Output Shape              Param #   \n",
      "=================================================================\n",
      "embedding_4 (Embedding)      (None, None, 32)          320000    \n",
      "_________________________________________________________________\n",
      "simple_rnn_1 (SimpleRNN)     (None, 32)                2080      \n",
      "_________________________________________________________________\n",
      "dense_6 (Dense)              (None, 1)                 33        \n",
      "=================================================================\n",
      "Total params: 322,113\n",
      "Trainable params: 322,113\n",
      "Non-trainable params: 0\n",
      "_________________________________________________________________\n",
      "Train on 20000 samples, validate on 5000 samples\n",
      "Epoch 1/10\n",
      "20000/20000 [==============================] - 18s 904us/step - loss: 0.6491 - acc: 0.6068 - val_loss: 0.5903 - val_acc: 0.6842\n",
      "Epoch 2/10\n",
      "20000/20000 [==============================] - 18s 912us/step - loss: 0.4309 - acc: 0.8143 - val_loss: 0.4155 - val_acc: 0.8270\n",
      "Epoch 3/10\n",
      "20000/20000 [==============================] - 19s 964us/step - loss: 0.3073 - acc: 0.8782 - val_loss: 0.3589 - val_acc: 0.8492\n",
      "Epoch 4/10\n",
      "20000/20000 [==============================] - 18s 875us/step - loss: 0.2358 - acc: 0.9075 - val_loss: 0.3845 - val_acc: 0.8386\n",
      "Epoch 5/10\n",
      "20000/20000 [==============================] - 17s 871us/step - loss: 0.1810 - acc: 0.9323 - val_loss: 0.4149 - val_acc: 0.8518\n",
      "Epoch 6/10\n",
      "20000/20000 [==============================] - 18s 877us/step - loss: 0.1165 - acc: 0.9587 - val_loss: 0.4636 - val_acc: 0.8390\n",
      "Epoch 7/10\n",
      "20000/20000 [==============================] - 18s 902us/step - loss: 0.1072 - acc: 0.9620 - val_loss: 0.4334 - val_acc: 0.8502\n",
      "Epoch 8/10\n",
      "20000/20000 [==============================] - 18s 885us/step - loss: 0.0526 - acc: 0.9840 - val_loss: 0.7522 - val_acc: 0.7366\n",
      "Epoch 9/10\n",
      "20000/20000 [==============================] - 18s 899us/step - loss: 0.0347 - acc: 0.9896 - val_loss: 0.5745 - val_acc: 0.8200\n",
      "Epoch 10/10\n",
      "20000/20000 [==============================] - 18s 900us/step - loss: 0.0245 - acc: 0.9929 - val_loss: 0.6514 - val_acc: 0.8050\n"
     ]
    }
   ],
   "source": [
    "from keras.layers import Dense, Embedding, SimpleRNN\n",
    "from keras.models import Sequential\n",
    "\n",
    "\n",
    "model = Sequential()\n",
    "model.add(Embedding(max_features, 32))\n",
    "model.add(SimpleRNN(32)) \n",
    "# model.add(SimpleRNN(32, return_sequences=True))\n",
    "# 这样设置所有中间层都返回完整的输出序列，也就是每个时间布的输出组成的序列，输出和输入的形状应该相同\n",
    "model.add(Dense(1, activation='sigmoid'))\n",
    "model.summary()\n",
    "\n",
    "model.compile(optimizer='rmsprop', loss='binary_crossentropy', metrics=['acc'])\n",
    "history = model.fit(input_train, y_train,\n",
    "                    epochs=10,\n",
    "                    batch_size=128,\n",
    "                    validation_split=0.2)"
   ]
  },
  {
   "cell_type": "markdown",
   "metadata": {},
   "source": [
    "### 代码清单 6-24 绘制结果"
   ]
  },
  {
   "cell_type": "code",
   "execution_count": 21,
   "metadata": {},
   "outputs": [
    {
     "data": {
      "text/plain": [
       "<matplotlib.legend.Legend at 0x7f4db4dcc908>"
      ]
     },
     "execution_count": 21,
     "metadata": {},
     "output_type": "execute_result"
    },
    {
     "data": {
      "image/png": "[encoded data removed]",
      "text/plain": [
       "<Figure size 432x288 with 1 Axes>"
      ]
     },
     "metadata": {
      "needs_background": "light"
     },
     "output_type": "display_data"
    },
    {
     "data": {
      "image/png": "[encoded data removed]",
      "text/plain": [
       "<Figure size 432x288 with 1 Axes>"
      ]
     },
     "metadata": {
      "needs_background": "light"
     },
     "output_type": "display_data"
    }
   ],
   "source": [
    "import matplotlib.pyplot as plt\n",
    "\n",
    "\n",
    "acc = history.history['acc']\n",
    "val_acc = history.history['val_acc']\n",
    "loss = history.history['loss']\n",
    "val_loss = history.history['val_loss']\n",
    "\n",
    "epochs = range(1, len(acc) + 1)\n",
    "\n",
    "plt.plot(epochs, acc, 'bo', label='Training acc')\n",
    "plt.plot(epochs, val_acc, 'b', label='Validation acc')\n",
    "plt.title('Training and Validaion acc')\n",
    "plt.legend(loc='best')\n",
    "\n",
    "plt.figure()\n",
    "plt.plot(epochs, loss, 'bo', label='Training loss')\n",
    "plt.plot(epochs, val_loss, 'b', label='Validation loss')\n",
    "plt.title('Training and Validation loss')\n",
    "plt.legend(loc='best')"
   ]
  },
  {
   "cell_type": "markdown",
   "metadata": {},
   "source": [
    "### 代码清单 6-27 使用 Keras 中的 LSTM 层"
   ]
  },
  {
   "cell_type": "markdown",
   "metadata": {},
   "source": [
    "<img src=\"第6章 深度学习用于文本和序列 数据/图 6-14 从 SimpleRNN 到 LSTM:添加一个携带轨道.png\">"
   ]
  },
  {
   "cell_type": "markdown",
   "metadata": {},
   "source": [
    "<img src=\"第6章 深度学习用于文本和序列 数据/图 6-15 剖析 LSTM.png\">"
   ]
  },
  {
   "cell_type": "markdown",
   "metadata": {},
   "source": [
    "**LSTM 单元的作用:允许过去的信息稍后重新进入,从而解决梯度消失问题**"
   ]
  },
  {
   "cell_type": "code",
   "execution_count": 22,
   "metadata": {},
   "outputs": [
    {
     "name": "stdout",
     "output_type": "stream",
     "text": [
      "_________________________________________________________________\n",
      "Layer (type)                 Output Shape              Param #   \n",
      "=================================================================\n",
      "embedding_5 (Embedding)      (None, None, 32)          320000    \n",
      "_________________________________________________________________\n",
      "lstm_1 (LSTM)                (None, 32)                8320      \n",
      "_________________________________________________________________\n",
      "dense_7 (Dense)              (None, 1)                 33        \n",
      "=================================================================\n",
      "Total params: 328,353\n",
      "Trainable params: 328,353\n",
      "Non-trainable params: 0\n",
      "_________________________________________________________________\n",
      "Train on 20000 samples, validate on 5000 samples\n",
      "Epoch 1/10\n",
      "20000/20000 [==============================] - 74s 4ms/step - loss: 0.5096 - acc: 0.7618 - val_loss: 0.3374 - val_acc: 0.8668\n",
      "Epoch 2/10\n",
      "20000/20000 [==============================] - 73s 4ms/step - loss: 0.2854 - acc: 0.8887 - val_loss: 0.3962 - val_acc: 0.8224\n",
      "Epoch 3/10\n",
      "20000/20000 [==============================] - 74s 4ms/step - loss: 0.2323 - acc: 0.9108 - val_loss: 0.3136 - val_acc: 0.8846\n",
      "Epoch 4/10\n",
      "20000/20000 [==============================] - 74s 4ms/step - loss: 0.1976 - acc: 0.9280 - val_loss: 0.4262 - val_acc: 0.8436\n",
      "Epoch 5/10\n",
      "20000/20000 [==============================] - 73s 4ms/step - loss: 0.1741 - acc: 0.9367 - val_loss: 0.2864 - val_acc: 0.8832\n",
      "Epoch 6/10\n",
      "20000/20000 [==============================] - 74s 4ms/step - loss: 0.1528 - acc: 0.9432 - val_loss: 0.4669 - val_acc: 0.8380\n",
      "Epoch 7/10\n",
      "20000/20000 [==============================] - 74s 4ms/step - loss: 0.1450 - acc: 0.9479 - val_loss: 0.3207 - val_acc: 0.8900\n",
      "Epoch 8/10\n",
      "20000/20000 [==============================] - 74s 4ms/step - loss: 0.1293 - acc: 0.9541 - val_loss: 0.3196 - val_acc: 0.8776\n",
      "Epoch 9/10\n",
      "20000/20000 [==============================] - 74s 4ms/step - loss: 0.1156 - acc: 0.9593 - val_loss: 0.3321 - val_acc: 0.8892\n",
      "Epoch 10/10\n",
      "20000/20000 [==============================] - 74s 4ms/step - loss: 0.1109 - acc: 0.9601 - val_loss: 0.5288 - val_acc: 0.8598\n"
     ]
    },
    {
     "data": {
      "image/png": "[encoded data removed]",
      "text/plain": [
       "<Figure size 432x288 with 1 Axes>"
      ]
     },
     "metadata": {
      "needs_background": "light"
     },
     "output_type": "display_data"
    },
    {
     "data": {
      "image/png": "[encoded data removed]",
      "text/plain": [
       "<Figure size 432x288 with 1 Axes>"
      ]
     },
     "metadata": {
      "needs_background": "light"
     },
     "output_type": "display_data"
    }
   ],
   "source": [
    "from keras.layers import LSTM, Embedding, Dense\n",
    "from keras.models import Sequential\n",
    "import matplotlib.pyplot as plt\n",
    "\n",
    "\n",
    "model = Sequential()\n",
    "model.add(Embedding(max_features, 32)) # Embedding层要后接Flatten层的话，必须指定input_length\n",
    "model.add(LSTM(32))\n",
    "model.add(Dense(1, activation='sigmoid'))\n",
    "model.summary()\n",
    "\n",
    "model.compile(optimizer='rmsprop', loss='binary_crossentropy', metrics=['acc'])\n",
    "\n",
    "history = model.fit(input_train, y_train,\n",
    "                    epochs=10,\n",
    "                    batch_size=128,\n",
    "                    validation_split=0.2)\n",
    "\n",
    "acc = history.history['acc']\n",
    "val_acc = history.history['val_acc']\n",
    "loss = history.history['loss']\n",
    "val_loss = history.history['val_loss']\n",
    "\n",
    "epochs = range(1, len(acc) + 1)\n",
    "\n",
    "plt.plot(epochs, acc, 'bo', label='Training acc')\n",
    "plt.plot(epochs, val_acc, 'b', label='Validation acc')\n",
    "plt.title('Training and Validation accuracy')\n",
    "plt.legend(loc='best')\n",
    "\n",
    "plt.figure()\n",
    "plt.plot(epochs, loss, 'bo', label='Training loss')\n",
    "plt.plot(epochs, val_loss, 'b', label='Validation loss')\n",
    "plt.title('Training and Validation loss')\n",
    "plt.legend(loc='best')\n",
    "\n",
    "plt.show()"
   ]
  },
  {
   "cell_type": "markdown",
   "metadata": {},
   "source": [
    "## 6.3 循环神经网络的高级用法"
   ]
  },
  {
   "cell_type": "markdown",
   "metadata": {},
   "source": [
    "### 代码清单 6-28 观察耶拿天气数据集的数据"
   ]
  },
  {
   "cell_type": "code",
   "execution_count": 29,
   "metadata": {},
   "outputs": [
    {
     "name": "stdout",
     "output_type": "stream",
     "text": [
      "['\"Date Time\"', '\"p (mbar)\"', '\"T (degC)\"', '\"Tpot (K)\"', '\"Tdew (degC)\"', '\"rh (%)\"', '\"VPmax (mbar)\"', '\"VPact (mbar)\"', '\"VPdef (mbar)\"', '\"sh (g/kg)\"', '\"H2OC (mmol/mol)\"', '\"rho (g/m**3)\"', '\"wv (m/s)\"', '\"max. wv (m/s)\"', '\"wd (deg)\"']\n",
      "420551\n"
     ]
    }
   ],
   "source": [
    "import os\n",
    "\n",
    "\n",
    "data_dir = '第6章 深度学习用于文本和序列 数据/jena_climate'\n",
    "fname = os.path.join(data_dir, 'jena_climate_2009_2016.csv')\n",
    "\n",
    "with open(fname) as f:\n",
    "    data = f.read()\n",
    "\n",
    "lines = data.split('\\n')\n",
    "header = lines[0].split(',')\n",
    "lines = lines[1:]\n",
    "\n",
    "print(header)\n",
    "print(len(lines))"
   ]
  },
  {
   "cell_type": "markdown",
   "metadata": {},
   "source": [
    "### 代码清单 6-29 解析数据"
   ]
  },
  {
   "cell_type": "code",
   "execution_count": 30,
   "metadata": {},
   "outputs": [],
   "source": [
    "import numpy as np\n",
    "\n",
    "\n",
    "float_data = np.zeros((len(lines), len(header) - 1))\n",
    "for i, line in enumerate(lines):\n",
    "    values = [float(x) for x in line.split(',')[1:]]\n",
    "    float_data[i] = values"
   ]
  },
  {
   "cell_type": "markdown",
   "metadata": {},
   "source": [
    "### 代码清单 6-30 绘制温度时间序列"
   ]
  },
  {
   "cell_type": "code",
   "execution_count": 31,
   "metadata": {},
   "outputs": [
    {
     "data": {
      "image/png": "[encoded data removed]",
      "text/plain": [
       "<Figure size 432x288 with 1 Axes>"
      ]
     },
     "metadata": {
      "needs_background": "light"
     },
     "output_type": "display_data"
    }
   ],
   "source": [
    "from matplotlib import pyplot as plt\n",
    "\n",
    "\n",
    "temp = float_data[:, 1]\n",
    "plt.plot(range(len(temp)), temp)\n",
    "plt.show()"
   ]
  },
  {
   "cell_type": "markdown",
   "metadata": {},
   "source": [
    "### 代码清单 6-31 绘制前 10 天的温度时间序列"
   ]
  },
  {
   "cell_type": "code",
   "execution_count": 32,
   "metadata": {},
   "outputs": [
    {
     "data": {
      "text/plain": [
       "[<matplotlib.lines.Line2D at 0x7f2717a4a908>]"
      ]
     },
     "execution_count": 32,
     "metadata": {},
     "output_type": "execute_result"
    },
    {
     "data": {
      "image/png": "[encoded data removed]",
      "text/plain": [
       "<Figure size 432x288 with 1 Axes>"
      ]
     },
     "metadata": {
      "needs_background": "light"
     },
     "output_type": "display_data"
    }
   ],
   "source": [
    "plt.plot(range(1440), temp[:1440])"
   ]
  },
  {
   "cell_type": "markdown",
   "metadata": {},
   "source": [
    "### 代码清单 6-32 数据标准化"
   ]
  },
  {
   "cell_type": "code",
   "execution_count": 33,
   "metadata": {},
   "outputs": [
    {
     "data": {
      "text/plain": [
       "(420551, 14)"
      ]
     },
     "execution_count": 33,
     "metadata": {},
     "output_type": "execute_result"
    }
   ],
   "source": [
    "# 预处理数据的方法是,将每个时间序列减去其平均值,然后除以其标准差。\n",
    "\n",
    "mean = float_data[:200000].mean(axis=0)\n",
    "float_data -= mean\n",
    "std = float_data[:200000].std(axis=0)\n",
    "float_data /= std\n",
    "float_data.shape"
   ]
  },
  {
   "cell_type": "markdown",
   "metadata": {},
   "source": [
    "### 代码清单 6-33 生成时间序列样本及其目标的生成器"
   ]
  },
  {
   "cell_type": "code",
   "execution_count": 34,
   "metadata": {},
   "outputs": [],
   "source": [
    "def generator(data, lookback, delay, min_index, max_index,\n",
    "              shuffle=False, batch_size=128, step=6):\n",
    "    # 当max_index输入的是None时，max_index设定为data最后一个下表减去delay\n",
    "    if max_index is None:\n",
    "        max_index = len(data) - delay - 1\n",
    "    # 设定i的初始值，为什么要加上lookback是因为后面选择时间步区间是range(n-lookback, n, step)来选取的\n",
    "    i = min_index + lookback\n",
    "    # 对于这个生成器，其没有在循环中使用break，所以是无限循环的\n",
    "    # 在外部使用这个生成器时，需要注意break\n",
    "    while True:\n",
    "        if shuffle:\n",
    "            # 当需要打乱样本时，随机在min_index + lookback到max_index之间的选出size个整数作为被选数据行的下标\n",
    "            # 为什么要加上lookback，是因为实际后面使用的数据是一段时间的数据，这一段时间就是lookback的长度\n",
    "            rows = np.random.randint(\n",
    "                min_index + lookback, max_index, size=batch_size)\n",
    "        else:\n",
    "            # 当不需要打乱样本时\n",
    "            # 当i + batch_size将越界时，重置i的值为初始值\n",
    "            if i + batch_size >= max_index:\n",
    "                i = min_index + lookback\n",
    "            # 选取样本下表，这个样本下标是顺序选择的\n",
    "            # 这里做了预防下标越界的处理选取了i+batch_size和max_index中的最小值，以防下标越过max_index\n",
    "            rows = np.arange(i, min(i + batch_size, max_index))\n",
    "            # i自加一组样本下表的值，以便下一次取得后面一组样本\n",
    "            i += len(rows)\n",
    "        \n",
    "        # 样本的形状是(batch_size,单个序列样本的大小(时间步), 每个数据向量的维度)\n",
    "        # 比如 (128, 1440//6, 14) 就是每个batch_size是128个训练样本，每个训练样本是一个1440//6=240时间步，\n",
    "        # 每个时间的单数据向量维度是14的一个三维矩阵\n",
    "        samples = np.zeros((len(rows),\n",
    "                            lookback // step,\n",
    "                            data.shape[-1]))\n",
    "        # 目标是选择的训练样本中最后一个时间步+delay的温度数据，所以每个样本对应一个温度数据，这里应该是128个\n",
    "        targets = np.zeros((len(rows),))\n",
    "        for j, row in enumerate(rows):\n",
    "            # 这里利用numpy可以使用矩阵或序列选择元素的特性\n",
    "            # 使用range在一个lookback大小中按照step选出连续并间隔step的1440//6=240个数据为下标\n",
    "            indices = range(rows[j] - lookback, rows[j], step)\n",
    "            # 通过下表序列选出元素\n",
    "            samples[j] = data[indices]\n",
    "            # 通过delay选出对应的targets\n",
    "            targets[j] = data[rows[j] + delay][1]\n",
    "        yield samples, targets"
   ]
  },
  {
   "cell_type": "markdown",
   "metadata": {},
   "source": [
    "### 代码清单 6-34 准备训练生成器、验证生成器和测试生成器"
   ]
  },
  {
   "cell_type": "code",
   "execution_count": 35,
   "metadata": {},
   "outputs": [
    {
     "data": {
      "text/plain": [
       "769"
      ]
     },
     "execution_count": 35,
     "metadata": {},
     "output_type": "execute_result"
    }
   ],
   "source": [
    "lookback = 1440\n",
    "step = 6\n",
    "delay = 144\n",
    "batch_size = 128\n",
    "\n",
    "train_gen = generator(float_data,\n",
    "                      lookback=lookback,\n",
    "                      delay=delay,\n",
    "                      min_index=0,\n",
    "                      max_index=200000,\n",
    "                      shuffle=True,\n",
    "                      step=step,\n",
    "                      batch_size=batch_size)\n",
    "\n",
    "val_gen = generator(float_data,\n",
    "                    lookback=lookback,\n",
    "                    delay=delay,\n",
    "                    min_index=200001,\n",
    "                    max_index=300000,\n",
    "                    step=step,\n",
    "                    batch_size=batch_size)\n",
    "\n",
    "test_gen = generator(float_data,\n",
    "                     lookback=lookback,\n",
    "                     delay=delay,\n",
    "                     min_index=300001,\n",
    "                     max_index=None,\n",
    "                     step=step,\n",
    "                     batch_size=batch_size)\n",
    "\n",
    "val_steps = (300000 - 200001 - lookback) // batch_size\n",
    "test_steps = (len(float_data) - 300001 - lookback) // batch_size\n",
    "val_steps"
   ]
  },
  {
   "cell_type": "markdown",
   "metadata": {},
   "source": [
    "### 代码清单 6-35 计算符合常识的基准方法的 MAE"
   ]
  },
  {
   "cell_type": "code",
   "execution_count": 30,
   "metadata": {},
   "outputs": [
    {
     "name": "stdout",
     "output_type": "stream",
     "text": [
      "0.2897359729905486\n"
     ]
    }
   ],
   "source": [
    "#-------------------------------------------------------------------------------------------------------\n",
    "# 本例中,我们可以放心地假设,温度时间序列是连续的(明天的温度很可能接近今天的温度),并且具有每天的周期性变化。\n",
    "# 因此,一种基于常识的方法就是始终预测 24 小时后的温度等于现在的温度。我们使用平均绝对误差(MAE)指标来评估这种方法。\n",
    "# np.mean(np.abs(preds - targets))\n",
    "#-------------------------------------------------------------------------------------------------------\n",
    "\n",
    "def evaluate_naive_method():\n",
    "    batch_maes = []\n",
    "    for step in range(val_steps):\n",
    "        samples, targets = next(val_gen)\n",
    "        preds = samples[:, -1, 1]\n",
    "        mae = np.mean(np.abs(preds - targets))\n",
    "        batch_maes.append(mae)\n",
    "    print(np.mean(batch_maes))\n",
    "    \n",
    "evaluate_naive_method()"
   ]
  },
  {
   "cell_type": "markdown",
   "metadata": {},
   "source": [
    "### 代码清单 6-36 将 MAE 转换成摄氏温度误差"
   ]
  },
  {
   "cell_type": "code",
   "execution_count": 31,
   "metadata": {},
   "outputs": [
    {
     "data": {
      "text/plain": [
       "2.5672247338393395"
      ]
     },
     "execution_count": 31,
     "metadata": {},
     "output_type": "execute_result"
    }
   ],
   "source": [
    "#-------------------------------------------------------------------------------------------------------\n",
    "# 得到的 MAE 为 0.29。因为温度数据被标准化成均值为 0、标准差为 1,所以无法直接对这个值进行解释。\n",
    "# 它转化成温度的平均绝对误差为 0.29×temperature_std 摄氏度,即 2.57°C。\n",
    "#-------------------------------------------------------------------------------------------------------\n",
    "\n",
    "celsius_mae = 0.29 * std[1]\n",
    "celsius_mae"
   ]
  },
  {
   "cell_type": "markdown",
   "metadata": {},
   "source": [
    "### 代码清单 6-37 训练并评估一个密集连接模型"
   ]
  },
  {
   "cell_type": "code",
   "execution_count": 36,
   "metadata": {},
   "outputs": [
    {
     "name": "stdout",
     "output_type": "stream",
     "text": [
      "_________________________________________________________________\n",
      "Layer (type)                 Output Shape              Param #   \n",
      "=================================================================\n",
      "flatten_7 (Flatten)          (None, 3360)              0         \n",
      "_________________________________________________________________\n",
      "dense_14 (Dense)             (None, 32)                107552    \n",
      "_________________________________________________________________\n",
      "dense_15 (Dense)             (None, 1)                 33        \n",
      "=================================================================\n",
      "Total params: 107,585\n",
      "Trainable params: 107,585\n",
      "Non-trainable params: 0\n",
      "_________________________________________________________________\n",
      "Epoch 1/20\n",
      "500/500 [==============================] - 9s 19ms/step - loss: 1.5911 - val_loss: 0.9303\n",
      "Epoch 2/20\n",
      "500/500 [==============================] - 9s 18ms/step - loss: 0.5623 - val_loss: 0.3476\n",
      "Epoch 3/20\n",
      "500/500 [==============================] - 9s 18ms/step - loss: 0.3252 - val_loss: 0.3183\n",
      "Epoch 4/20\n",
      "500/500 [==============================] - 9s 18ms/step - loss: 0.2811 - val_loss: 0.3363\n",
      "Epoch 5/20\n",
      "500/500 [==============================] - 9s 18ms/step - loss: 0.2635 - val_loss: 0.3012\n",
      "Epoch 6/20\n",
      "500/500 [==============================] - 9s 18ms/step - loss: 0.2536 - val_loss: 0.3215\n",
      "Epoch 7/20\n",
      "500/500 [==============================] - 9s 18ms/step - loss: 0.2430 - val_loss: 0.3261\n",
      "Epoch 8/20\n",
      "500/500 [==============================] - 9s 18ms/step - loss: 0.2391 - val_loss: 0.3097\n",
      "Epoch 9/20\n",
      "500/500 [==============================] - 9s 18ms/step - loss: 0.2337 - val_loss: 0.3137\n",
      "Epoch 10/20\n",
      "500/500 [==============================] - 9s 18ms/step - loss: 0.2293 - val_loss: 0.3353\n",
      "Epoch 11/20\n",
      "500/500 [==============================] - 9s 18ms/step - loss: 0.2255 - val_loss: 0.3162\n",
      "Epoch 12/20\n",
      "500/500 [==============================] - 9s 18ms/step - loss: 0.2216 - val_loss: 0.3285\n",
      "Epoch 13/20\n",
      "500/500 [==============================] - 9s 19ms/step - loss: 0.2178 - val_loss: 0.3255\n",
      "Epoch 14/20\n",
      "500/500 [==============================] - 9s 18ms/step - loss: 0.2155 - val_loss: 0.3336\n",
      "Epoch 15/20\n",
      "500/500 [==============================] - 9s 18ms/step - loss: 0.2092 - val_loss: 0.3382\n",
      "Epoch 16/20\n",
      "500/500 [==============================] - 9s 18ms/step - loss: 0.2082 - val_loss: 0.3257\n",
      "Epoch 17/20\n",
      "500/500 [==============================] - 9s 18ms/step - loss: 0.2059 - val_loss: 0.3444\n",
      "Epoch 18/20\n",
      "500/500 [==============================] - 9s 18ms/step - loss: 0.2030 - val_loss: 0.3207\n",
      "Epoch 19/20\n",
      "500/500 [==============================] - 9s 18ms/step - loss: 0.2027 - val_loss: 0.3273\n",
      "Epoch 20/20\n",
      "500/500 [==============================] - 9s 18ms/step - loss: 0.2015 - val_loss: 0.3340\n"
     ]
    }
   ],
   "source": [
    "from keras.models import Sequential\n",
    "from keras import layers\n",
    "from keras.optimizers import RMSprop\n",
    "\n",
    "\n",
    "model = Sequential()\n",
    "model.add(layers.Flatten(input_shape=(lookback // step, float_data.shape[-1])))\n",
    "model.add(layers.Dense(32, activation='relu'))\n",
    "model.add(layers.Dense(1))\n",
    "model.summary()\n",
    "\n",
    "model.compile(optimizer=RMSprop(), loss='mae')\n",
    "history = model.fit_generator(train_gen,\n",
    "                              steps_per_epoch=500,\n",
    "                              epochs=20,\n",
    "                              validation_data=val_gen,\n",
    "                              validation_steps=val_steps)"
   ]
  },
  {
   "cell_type": "markdown",
   "metadata": {},
   "source": [
    "### 代码清单 6-38 绘制结果"
   ]
  },
  {
   "cell_type": "code",
   "execution_count": 39,
   "metadata": {},
   "outputs": [
    {
     "data": {
      "image/png": "[encoded data removed]",
      "text/plain": [
       "<Figure size 432x288 with 1 Axes>"
      ]
     },
     "metadata": {
      "needs_background": "light"
     },
     "output_type": "display_data"
    }
   ],
   "source": [
    "import matplotlib.pyplot as plt\n",
    "\n",
    "\n",
    "loss = history.history['loss']\n",
    "val_loss = history.history['val_loss']\n",
    "\n",
    "epochs = range(1, len(loss) + 1)\n",
    "\n",
    "plt.plot(epochs[1:], loss[1:], 'bo', label='Training loss')\n",
    "plt.plot(epochs[1:], val_loss[1:], 'b', label='Validation loss')\n",
    "plt.title('Training and validation loss')\n",
    "plt.legend(loc='best')\n",
    "\n",
    "plt.show()"
   ]
  },
  {
   "cell_type": "markdown",
   "metadata": {},
   "source": [
    "### 代码清单 6-39 训练并评估一个基于 GRU 的模型"
   ]
  },
  {
   "cell_type": "code",
   "execution_count": 42,
   "metadata": {},
   "outputs": [
    {
     "name": "stdout",
     "output_type": "stream",
     "text": [
      "Epoch 1/20\n",
      "500/500 [==============================] - 109s 217ms/step - loss: 0.3016 - val_loss: 0.2714\n",
      "Epoch 2/20\n",
      "500/500 [==============================] - 106s 212ms/step - loss: 0.2848 - val_loss: 0.2646\n",
      "Epoch 3/20\n",
      "500/500 [==============================] - 106s 212ms/step - loss: 0.2788 - val_loss: 0.2769\n",
      "Epoch 4/20\n",
      "500/500 [==============================] - 106s 212ms/step - loss: 0.2718 - val_loss: 0.2719\n",
      "Epoch 5/20\n",
      "500/500 [==============================] - 106s 212ms/step - loss: 0.2634 - val_loss: 0.2689\n",
      "Epoch 6/20\n",
      "500/500 [==============================] - 106s 212ms/step - loss: 0.2594 - val_loss: 0.2693\n",
      "Epoch 7/20\n",
      "500/500 [==============================] - 107s 215ms/step - loss: 0.2531 - val_loss: 0.2789\n",
      "Epoch 8/20\n",
      "500/500 [==============================] - 109s 218ms/step - loss: 0.2481 - val_loss: 0.2751\n",
      "Epoch 9/20\n",
      "500/500 [==============================] - 109s 217ms/step - loss: 0.2460 - val_loss: 0.2790\n",
      "Epoch 10/20\n",
      "500/500 [==============================] - 108s 215ms/step - loss: 0.2401 - val_loss: 0.2834\n",
      "Epoch 11/20\n",
      "500/500 [==============================] - 106s 211ms/step - loss: 0.2376 - val_loss: 0.2893\n",
      "Epoch 12/20\n",
      "500/500 [==============================] - 108s 216ms/step - loss: 0.2338 - val_loss: 0.2846\n",
      "Epoch 13/20\n",
      "500/500 [==============================] - 107s 215ms/step - loss: 0.2304 - val_loss: 0.2950\n",
      "Epoch 14/20\n",
      "500/500 [==============================] - 106s 212ms/step - loss: 0.2267 - val_loss: 0.2895\n",
      "Epoch 15/20\n",
      "500/500 [==============================] - 107s 213ms/step - loss: 0.2248 - val_loss: 0.2910\n",
      "Epoch 16/20\n",
      "500/500 [==============================] - 108s 217ms/step - loss: 0.2208 - val_loss: 0.2989\n",
      "Epoch 17/20\n",
      "500/500 [==============================] - 112s 224ms/step - loss: 0.2169 - val_loss: 0.2966\n",
      "Epoch 18/20\n",
      "500/500 [==============================] - 111s 222ms/step - loss: 0.2149 - val_loss: 0.2995\n",
      "Epoch 19/20\n",
      "500/500 [==============================] - 111s 221ms/step - loss: 0.2116 - val_loss: 0.2977\n",
      "Epoch 20/20\n",
      "500/500 [==============================] - 105s 209ms/step - loss: 0.2091 - val_loss: 0.2991\n"
     ]
    },
    {
     "data": {
      "image/png": "[encoded data removed]",
      "text/plain": [
       "<Figure size 432x288 with 1 Axes>"
      ]
     },
     "metadata": {
      "needs_background": "light"
     },
     "output_type": "display_data"
    }
   ],
   "source": [
    "from keras.models import Sequential\n",
    "from keras import layers\n",
    "from keras.optimizers import RMSprop\n",
    "from matplotlib import pyplot as plt\n",
    "\n",
    "\n",
    "model = Sequential()\n",
    "model.add(layers.GRU(32, input_shape=(None, float_data.shape[-1])))\n",
    "model.add(layers.Dense(1))\n",
    "\n",
    "model.compile(optimizer=RMSprop(), loss='mae')\n",
    "history = model.fit_generator(train_gen,\n",
    "                              steps_per_epoch=500,\n",
    "                              epochs=20,\n",
    "                              validation_data=val_gen,\n",
    "                              validation_steps=val_steps)\n",
    "\n",
    "loss = history.history['loss']\n",
    "val_loss = history.history['val_loss']\n",
    "\n",
    "epochs = range(1, len(loss) + 1)\n",
    "\n",
    "plt.plot(epochs, loss, 'bo', label='Training loss')\n",
    "plt.plot(epochs, val_loss, 'b', label='Validation loss')\n",
    "plt.title('Training and validation loss')\n",
    "plt.legend(loc='best')\n",
    "\n",
    "plt.show()"
   ]
  },
  {
   "cell_type": "markdown",
   "metadata": {},
   "source": [
    "### 代码清单 6-40 训练并评估一个使用 dropout 正则化的基于 GRU 的模型"
   ]
  },
  {
   "cell_type": "code",
   "execution_count": 44,
   "metadata": {},
   "outputs": [
    {
     "name": "stdout",
     "output_type": "stream",
     "text": [
      "Epoch 1/40\n",
      "500/500 [==============================] - 128s 256ms/step - loss: 0.3417 - val_loss: 0.2737\n",
      "Epoch 2/40\n",
      "500/500 [==============================] - 130s 260ms/step - loss: 0.3131 - val_loss: 0.2761\n",
      "Epoch 3/40\n",
      "500/500 [==============================] - 126s 252ms/step - loss: 0.3077 - val_loss: 0.2686\n",
      "Epoch 4/40\n",
      "500/500 [==============================] - 127s 254ms/step - loss: 0.3034 - val_loss: 0.2672\n",
      "Epoch 5/40\n",
      "500/500 [==============================] - 127s 255ms/step - loss: 0.2992 - val_loss: 0.2661\n",
      "Epoch 6/40\n",
      "500/500 [==============================] - 128s 255ms/step - loss: 0.2969 - val_loss: 0.2677\n",
      "Epoch 7/40\n",
      "500/500 [==============================] - 126s 253ms/step - loss: 0.2969 - val_loss: 0.2649\n",
      "Epoch 8/40\n",
      "500/500 [==============================] - 125s 250ms/step - loss: 0.2949 - val_loss: 0.2671\n",
      "Epoch 9/40\n",
      "500/500 [==============================] - 126s 252ms/step - loss: 0.2928 - val_loss: 0.2636\n",
      "Epoch 10/40\n",
      "500/500 [==============================] - 126s 251ms/step - loss: 0.2909 - val_loss: 0.2630\n",
      "Epoch 11/40\n",
      "500/500 [==============================] - 127s 254ms/step - loss: 0.2887 - val_loss: 0.2622\n",
      "Epoch 12/40\n",
      "500/500 [==============================] - 130s 261ms/step - loss: 0.2888 - val_loss: 0.2630\n",
      "Epoch 13/40\n",
      "500/500 [==============================] - 128s 256ms/step - loss: 0.2859 - val_loss: 0.2632\n",
      "Epoch 14/40\n",
      "500/500 [==============================] - 128s 256ms/step - loss: 0.2863 - val_loss: 0.2638\n",
      "Epoch 15/40\n",
      "500/500 [==============================] - 126s 252ms/step - loss: 0.2840 - val_loss: 0.2595\n",
      "Epoch 16/40\n",
      "500/500 [==============================] - 130s 260ms/step - loss: 0.2822 - val_loss: 0.2647\n",
      "Epoch 17/40\n",
      "500/500 [==============================] - 125s 250ms/step - loss: 0.2830 - val_loss: 0.2616\n",
      "Epoch 18/40\n",
      "500/500 [==============================] - 124s 248ms/step - loss: 0.2812 - val_loss: 0.2630\n",
      "Epoch 19/40\n",
      "500/500 [==============================] - 125s 249ms/step - loss: 0.2797 - val_loss: 0.2599\n",
      "Epoch 20/40\n",
      "500/500 [==============================] - 124s 248ms/step - loss: 0.2792 - val_loss: 0.2606\n",
      "Epoch 21/40\n",
      "500/500 [==============================] - 125s 251ms/step - loss: 0.2785 - val_loss: 0.2622\n",
      "Epoch 22/40\n",
      "500/500 [==============================] - 124s 248ms/step - loss: 0.2776 - val_loss: 0.2658\n",
      "Epoch 23/40\n",
      "500/500 [==============================] - 124s 248ms/step - loss: 0.2765 - val_loss: 0.2642\n",
      "Epoch 24/40\n",
      "500/500 [==============================] - 124s 247ms/step - loss: 0.2764 - val_loss: 0.2611\n",
      "Epoch 25/40\n",
      "500/500 [==============================] - 124s 247ms/step - loss: 0.2763 - val_loss: 0.2608\n",
      "Epoch 26/40\n",
      "500/500 [==============================] - 124s 247ms/step - loss: 0.2753 - val_loss: 0.2654\n",
      "Epoch 27/40\n",
      "500/500 [==============================] - 124s 248ms/step - loss: 0.2749 - val_loss: 0.2602\n",
      "Epoch 28/40\n",
      "500/500 [==============================] - 125s 249ms/step - loss: 0.2733 - val_loss: 0.2600\n",
      "Epoch 29/40\n",
      "500/500 [==============================] - 127s 254ms/step - loss: 0.2754 - val_loss: 0.2618\n",
      "Epoch 30/40\n",
      "500/500 [==============================] - 125s 249ms/step - loss: 0.2739 - val_loss: 0.2642\n",
      "Epoch 31/40\n",
      "500/500 [==============================] - 127s 254ms/step - loss: 0.2727 - val_loss: 0.2622\n",
      "Epoch 32/40\n",
      "500/500 [==============================] - 128s 256ms/step - loss: 0.2722 - val_loss: 0.2655\n",
      "Epoch 33/40\n",
      "500/500 [==============================] - 130s 261ms/step - loss: 0.2715 - val_loss: 0.2614\n",
      "Epoch 34/40\n",
      "500/500 [==============================] - 130s 260ms/step - loss: 0.2706 - val_loss: 0.2667\n",
      "Epoch 35/40\n",
      "500/500 [==============================] - 128s 256ms/step - loss: 0.2697 - val_loss: 0.2624\n",
      "Epoch 36/40\n",
      "500/500 [==============================] - 126s 252ms/step - loss: 0.2695 - val_loss: 0.2624\n",
      "Epoch 37/40\n",
      "500/500 [==============================] - 126s 253ms/step - loss: 0.2695 - val_loss: 0.2613\n",
      "Epoch 38/40\n",
      "500/500 [==============================] - 127s 255ms/step - loss: 0.2698 - val_loss: 0.2635\n",
      "Epoch 39/40\n",
      "500/500 [==============================] - 125s 251ms/step - loss: 0.2678 - val_loss: 0.2605\n",
      "Epoch 40/40\n",
      "500/500 [==============================] - 125s 250ms/step - loss: 0.2681 - val_loss: 0.2589\n"
     ]
    },
    {
     "data": {
      "image/png": "[encoded data removed]",
      "text/plain": [
       "<Figure size 432x288 with 1 Axes>"
      ]
     },
     "metadata": {
      "needs_background": "light"
     },
     "output_type": "display_data"
    }
   ],
   "source": [
    "from keras.models import Sequential\n",
    "from keras import layers\n",
    "from keras.optimizers import RMSprop\n",
    "from matplotlib import pyplot as plt\n",
    "\n",
    "\n",
    "model = Sequential()\n",
    "model.add(layers.GRU(32,\n",
    "                     dropout=0.2,           # 输入单元的dropout比例(应该是对时间步这个维度做dropout)\n",
    "                     recurrent_dropout=0.2, # 循环网络中循环dropout的比例(应该是对每个时间步中的向量做dropout)\n",
    "                     input_shape=(None, float_data.shape[-1])))\n",
    "model.add(layers.Dense(1))\n",
    "\n",
    "model.compile(optimizer=RMSprop(), loss='mae')\n",
    "history = model.fit_generator(train_gen,\n",
    "                              steps_per_epoch=500,\n",
    "                              epochs=40,\n",
    "                              validation_data=val_gen,\n",
    "                              validation_steps=val_steps)\n",
    "\n",
    "loss = history.history['loss']\n",
    "val_loss = history.history['val_loss']\n",
    "\n",
    "epochs = range(1, len(loss) + 1)\n",
    "\n",
    "plt.plot(epochs, loss, 'bo', label='Training loss')\n",
    "plt.plot(epochs, val_loss, 'b', label='Validation_loss')\n",
    "plt.title('Training and validation loss')\n",
    "plt.legend(loc='best')\n",
    "\n",
    "plt.show()"
   ]
  },
  {
   "cell_type": "markdown",
   "metadata": {},
   "source": [
    "### 代码清单 6-41 训练并评估一个使用 dropout 正则化的堆叠 GRU 模型"
   ]
  },
  {
   "cell_type": "code",
   "execution_count": 45,
   "metadata": {},
   "outputs": [
    {
     "name": "stdout",
     "output_type": "stream",
     "text": [
      "Epoch 1/40\n",
      "500/500 [==============================] - 256s 513ms/step - loss: 0.3368 - val_loss: 0.2842\n",
      "Epoch 2/40\n",
      "500/500 [==============================] - 255s 510ms/step - loss: 0.3126 - val_loss: 0.2724\n",
      "Epoch 3/40\n",
      "500/500 [==============================] - 259s 518ms/step - loss: 0.3055 - val_loss: 0.2724\n",
      "Epoch 4/40\n",
      "500/500 [==============================] - 257s 513ms/step - loss: 0.3017 - val_loss: 0.2723\n",
      "Epoch 5/40\n",
      "500/500 [==============================] - 257s 513ms/step - loss: 0.2993 - val_loss: 0.2692\n",
      "Epoch 6/40\n",
      "500/500 [==============================] - 259s 517ms/step - loss: 0.2977 - val_loss: 0.2697\n",
      "Epoch 7/40\n",
      "500/500 [==============================] - 258s 515ms/step - loss: 0.2945 - val_loss: 0.2705\n",
      "Epoch 8/40\n",
      "500/500 [==============================] - 253s 506ms/step - loss: 0.2912 - val_loss: 0.2645\n",
      "Epoch 9/40\n",
      "500/500 [==============================] - 254s 509ms/step - loss: 0.2884 - val_loss: 0.2660\n",
      "Epoch 10/40\n",
      "500/500 [==============================] - 259s 518ms/step - loss: 0.2856 - val_loss: 0.2651\n",
      "Epoch 11/40\n",
      "500/500 [==============================] - 253s 506ms/step - loss: 0.2847 - val_loss: 0.2667\n",
      "Epoch 12/40\n",
      "500/500 [==============================] - 253s 506ms/step - loss: 0.2826 - val_loss: 0.2663\n",
      "Epoch 13/40\n",
      "500/500 [==============================] - 253s 506ms/step - loss: 0.2806 - val_loss: 0.2703\n",
      "Epoch 14/40\n",
      "500/500 [==============================] - 255s 510ms/step - loss: 0.2810 - val_loss: 0.2638\n",
      "Epoch 15/40\n",
      "500/500 [==============================] - 256s 512ms/step - loss: 0.2781 - val_loss: 0.2645\n",
      "Epoch 16/40\n",
      "500/500 [==============================] - 253s 506ms/step - loss: 0.2767 - val_loss: 0.2670\n",
      "Epoch 17/40\n",
      "500/500 [==============================] - 249s 497ms/step - loss: 0.2757 - val_loss: 0.2711\n",
      "Epoch 18/40\n",
      "500/500 [==============================] - 247s 495ms/step - loss: 0.2730 - val_loss: 0.2745\n",
      "Epoch 19/40\n",
      "500/500 [==============================] - 249s 497ms/step - loss: 0.2720 - val_loss: 0.2712\n",
      "Epoch 20/40\n",
      "500/500 [==============================] - 247s 494ms/step - loss: 0.2720 - val_loss: 0.2684\n",
      "Epoch 21/40\n",
      "500/500 [==============================] - 250s 499ms/step - loss: 0.2700 - val_loss: 0.2735\n",
      "Epoch 22/40\n",
      "500/500 [==============================] - 250s 500ms/step - loss: 0.2697 - val_loss: 0.2657\n",
      "Epoch 23/40\n",
      "500/500 [==============================] - 246s 493ms/step - loss: 0.2676 - val_loss: 0.2722\n",
      "Epoch 24/40\n",
      "500/500 [==============================] - 247s 493ms/step - loss: 0.2680 - val_loss: 0.2645\n",
      "Epoch 25/40\n",
      "500/500 [==============================] - 247s 494ms/step - loss: 0.2666 - val_loss: 0.2682\n",
      "Epoch 26/40\n",
      "500/500 [==============================] - 246s 491ms/step - loss: 0.2661 - val_loss: 0.2670\n",
      "Epoch 27/40\n",
      "500/500 [==============================] - 248s 495ms/step - loss: 0.2649 - val_loss: 0.2692\n",
      "Epoch 28/40\n",
      "500/500 [==============================] - 249s 497ms/step - loss: 0.2631 - val_loss: 0.2727\n",
      "Epoch 29/40\n",
      "500/500 [==============================] - 249s 497ms/step - loss: 0.2634 - val_loss: 0.2703\n",
      "Epoch 30/40\n",
      "500/500 [==============================] - 247s 495ms/step - loss: 0.2606 - val_loss: 0.2666\n",
      "Epoch 31/40\n",
      "500/500 [==============================] - 249s 498ms/step - loss: 0.2611 - val_loss: 0.2680\n",
      "Epoch 32/40\n",
      "500/500 [==============================] - 248s 496ms/step - loss: 0.2595 - val_loss: 0.2717\n",
      "Epoch 33/40\n",
      "500/500 [==============================] - 248s 496ms/step - loss: 0.2595 - val_loss: 0.2709\n",
      "Epoch 34/40\n",
      "500/500 [==============================] - 249s 498ms/step - loss: 0.2590 - val_loss: 0.2768\n",
      "Epoch 35/40\n",
      "500/500 [==============================] - 249s 499ms/step - loss: 0.2578 - val_loss: 0.2702\n",
      "Epoch 36/40\n",
      "500/500 [==============================] - 253s 506ms/step - loss: 0.2575 - val_loss: 0.2700\n",
      "Epoch 37/40\n",
      "500/500 [==============================] - 249s 499ms/step - loss: 0.2556 - val_loss: 0.2686\n",
      "Epoch 38/40\n",
      "500/500 [==============================] - 246s 492ms/step - loss: 0.2567 - val_loss: 0.2778\n",
      "Epoch 39/40\n",
      "500/500 [==============================] - 245s 491ms/step - loss: 0.2561 - val_loss: 0.2724\n",
      "Epoch 40/40\n",
      "500/500 [==============================] - 245s 491ms/step - loss: 0.2558 - val_loss: 0.2699\n"
     ]
    },
    {
     "data": {
      "image/png": "[encoded data removed]",
      "text/plain": [
       "<Figure size 432x288 with 1 Axes>"
      ]
     },
     "metadata": {
      "needs_background": "light"
     },
     "output_type": "display_data"
    }
   ],
   "source": [
    "from keras.models import Sequential\n",
    "from keras import layers\n",
    "from keras.optimizers import RMSprop\n",
    "from matplotlib import pyplot as plt\n",
    "\n",
    "\n",
    "model = Sequential()\n",
    "model.add(layers.GRU(32,\n",
    "                     dropout=0.1,\n",
    "                     recurrent_dropout=0.5,\n",
    "                     return_sequences=True,\n",
    "                     input_shape=(None, float_data.shape[-1])))\n",
    "model.add(layers.GRU(64, activation='relu',\n",
    "                     dropout=0.1,\n",
    "                     recurrent_dropout=0.5))\n",
    "model.add(layers.Dense(1))\n",
    "\n",
    "model.compile(optimizer=RMSprop(), loss='mae')\n",
    "history = model.fit_generator(train_gen,\n",
    "                              steps_per_epoch=500,\n",
    "                              epochs=40,\n",
    "                              validation_data=val_gen,\n",
    "                              validation_steps=val_steps)\n",
    "\n",
    "loss = history.history['loss']\n",
    "val_loss = history.history['val_loss']\n",
    "\n",
    "epochs = range(1, len(loss) + 1)\n",
    "\n",
    "plt.plot(epochs, loss, 'bo', label='Training loss')\n",
    "plt.plot(epochs, val_loss, 'b', label='Validation loss')\n",
    "plt.title('Training and validation loss')\n",
    "plt.legend(loc='best')\n",
    "\n",
    "plt.show()"
   ]
  },
  {
   "cell_type": "markdown",
   "metadata": {},
   "source": [
    "### 代码清单 6-42 使用逆序序列训练并评估一个 LSTM"
   ]
  },
  {
   "cell_type": "code",
   "execution_count": 50,
   "metadata": {},
   "outputs": [
    {
     "name": "stdout",
     "output_type": "stream",
     "text": [
      "Train on 20000 samples, validate on 5000 samples\n",
      "Epoch 1/10\n",
      "20000/20000 [==============================] - 70s 4ms/step - loss: 0.4984 - acc: 0.7660 - val_loss: 0.3877 - val_acc: 0.8444\n",
      "Epoch 2/10\n",
      "20000/20000 [==============================] - 69s 3ms/step - loss: 0.3397 - acc: 0.8698 - val_loss: 0.3687 - val_acc: 0.8428\n",
      "Epoch 3/10\n",
      "20000/20000 [==============================] - 69s 3ms/step - loss: 0.2571 - acc: 0.9039 - val_loss: 0.3240 - val_acc: 0.8650\n",
      "Epoch 4/10\n",
      "20000/20000 [==============================] - 69s 3ms/step - loss: 0.2215 - acc: 0.9190 - val_loss: 0.3633 - val_acc: 0.8820\n",
      "Epoch 5/10\n",
      "20000/20000 [==============================] - 69s 3ms/step - loss: 0.1943 - acc: 0.9325 - val_loss: 0.3881 - val_acc: 0.8452\n",
      "Epoch 6/10\n",
      "20000/20000 [==============================] - 69s 3ms/step - loss: 0.1770 - acc: 0.9388 - val_loss: 0.3517 - val_acc: 0.8792\n",
      "Epoch 7/10\n",
      "20000/20000 [==============================] - 69s 3ms/step - loss: 0.1606 - acc: 0.9448 - val_loss: 0.5373 - val_acc: 0.8440\n",
      "Epoch 8/10\n",
      "20000/20000 [==============================] - 69s 3ms/step - loss: 0.1476 - acc: 0.9507 - val_loss: 0.4226 - val_acc: 0.8744\n",
      "Epoch 9/10\n",
      "20000/20000 [==============================] - 71s 4ms/step - loss: 0.1288 - acc: 0.9562 - val_loss: 0.3750 - val_acc: 0.8672\n",
      "Epoch 10/10\n",
      "20000/20000 [==============================] - 71s 4ms/step - loss: 0.1247 - acc: 0.9592 - val_loss: 0.4510 - val_acc: 0.8748\n"
     ]
    },
    {
     "data": {
      "image/png": "[encoded data removed]",
      "text/plain": [
       "<Figure size 432x288 with 1 Axes>"
      ]
     },
     "metadata": {
      "needs_background": "light"
     },
     "output_type": "display_data"
    },
    {
     "data": {
      "image/png": "[encoded data removed]",
      "text/plain": [
       "<Figure size 432x288 with 1 Axes>"
      ]
     },
     "metadata": {
      "needs_background": "light"
     },
     "output_type": "display_data"
    }
   ],
   "source": [
    "from keras.datasets import imdb\n",
    "from keras.preprocessing import sequence\n",
    "from keras import layers\n",
    "from keras.models import Sequential\n",
    "from matplotlib import pyplot as plt\n",
    "\n",
    "\n",
    "max_features = 10000\n",
    "maxlen = 500\n",
    "\n",
    "(x_train, y_train), (x_test, y_test) = imdb.load_data(num_words=max_features)\n",
    "\n",
    "x_train = [x[::-1] for x in x_train]\n",
    "x_test = [x[::-1] for x in x_test]\n",
    "\n",
    "x_train = sequence.pad_sequences(x_train, maxlen=maxlen)\n",
    "x_test = sequence.pad_sequences(x_test, maxlen=maxlen)\n",
    "\n",
    "model = Sequential()\n",
    "model.add(layers.Embedding(max_features, 128))\n",
    "model.add(layers.LSTM(32))\n",
    "model.add(layers.Dense(1, activation='sigmoid'))\n",
    "\n",
    "model.compile(optimizer='rmsprop',\n",
    "              loss='binary_crossentropy',\n",
    "              metrics=['acc'])\n",
    "\n",
    "history = model.fit(x_train, y_train,\n",
    "                    epochs=10,\n",
    "                    batch_size=128,\n",
    "                    validation_split=0.2)\n",
    "\n",
    "acc = history.history['acc']\n",
    "val_acc = history.history['val_acc']\n",
    "loss = history.history['loss']\n",
    "val_loss = history.history['val_loss']\n",
    "\n",
    "epochs = range(1, len(acc) + 1)\n",
    "\n",
    "plt.plot(epochs, acc, 'bo', label='Training acc')\n",
    "plt.plot(epochs, val_acc, 'b', label='Validation acc')\n",
    "plt.title('Training and validation accuracy')\n",
    "plt.legend(loc='best')\n",
    "\n",
    "plt.figure()\n",
    "plt.plot(epochs, loss, 'bo', label='Training loss')\n",
    "plt.plot(epochs, val_loss, 'b', label='Validation loss')\n",
    "plt.title('Training and validation loss')\n",
    "plt.legend(loc='best')\n",
    "\n",
    "plt.show()"
   ]
  },
  {
   "cell_type": "markdown",
   "metadata": {},
   "source": [
    "### 代码清单 6-43 训练并评估一个双向 LSTM"
   ]
  },
  {
   "cell_type": "code",
   "execution_count": 52,
   "metadata": {},
   "outputs": [
    {
     "name": "stdout",
     "output_type": "stream",
     "text": [
      "Train on 20000 samples, validate on 5000 samples\n",
      "Epoch 1/10\n",
      "20000/20000 [==============================] - 142s 7ms/step - loss: 0.5721 - acc: 0.6928 - val_loss: 0.4072 - val_acc: 0.8322\n",
      "Epoch 2/10\n",
      "20000/20000 [==============================] - 140s 7ms/step - loss: 0.3249 - acc: 0.8756 - val_loss: 0.3286 - val_acc: 0.8654\n",
      "Epoch 3/10\n",
      "20000/20000 [==============================] - 140s 7ms/step - loss: 0.2282 - acc: 0.9180 - val_loss: 0.3083 - val_acc: 0.8878\n",
      "Epoch 4/10\n",
      "20000/20000 [==============================] - 140s 7ms/step - loss: 0.1747 - acc: 0.9407 - val_loss: 0.3163 - val_acc: 0.8788\n",
      "Epoch 5/10\n",
      "20000/20000 [==============================] - 140s 7ms/step - loss: 0.1354 - acc: 0.9546 - val_loss: 0.3631 - val_acc: 0.8798\n",
      "Epoch 6/10\n",
      "20000/20000 [==============================] - 140s 7ms/step - loss: 0.1059 - acc: 0.9662 - val_loss: 0.3971 - val_acc: 0.8682\n",
      "Epoch 7/10\n",
      "20000/20000 [==============================] - 140s 7ms/step - loss: 0.0890 - acc: 0.9720 - val_loss: 0.4433 - val_acc: 0.8762\n",
      "Epoch 8/10\n",
      "20000/20000 [==============================] - 140s 7ms/step - loss: 0.0856 - acc: 0.9724 - val_loss: 0.4592 - val_acc: 0.8682\n",
      "Epoch 9/10\n",
      "20000/20000 [==============================] - 140s 7ms/step - loss: 0.0563 - acc: 0.9842 - val_loss: 0.4780 - val_acc: 0.8664\n",
      "Epoch 10/10\n",
      "20000/20000 [==============================] - 140s 7ms/step - loss: 0.0758 - acc: 0.9756 - val_loss: 0.4542 - val_acc: 0.8578\n"
     ]
    },
    {
     "data": {
      "image/png": "[encoded data removed]",
      "text/plain": [
       "<Figure size 432x288 with 1 Axes>"
      ]
     },
     "metadata": {
      "needs_background": "light"
     },
     "output_type": "display_data"
    },
    {
     "data": {
      "image/png": "[encoded data removed]",
      "text/plain": [
       "<Figure size 432x288 with 1 Axes>"
      ]
     },
     "metadata": {
      "needs_background": "light"
     },
     "output_type": "display_data"
    }
   ],
   "source": [
    "# 导入包和数据接上一个cell\n",
    "\n",
    "model = Sequential()\n",
    "model.add(layers.Embedding(max_features, 32))\n",
    "model.add(layers.Bidirectional(layers.LSTM(32)))\n",
    "model.add(layers.Dense(1, activation='sigmoid'))\n",
    "\n",
    "model.compile(optimizer='adam', loss='binary_crossentropy', metrics=['acc'])\n",
    "history = model.fit(x_train, y_train,\n",
    "                    epochs=10,\n",
    "                    batch_size=128,\n",
    "                    validation_split=0.2)\n",
    "\n",
    "acc = history.history['acc']\n",
    "val_acc = history.history['val_acc']\n",
    "loss = history.history['loss']\n",
    "val_loss = history.history['val_loss']\n",
    "\n",
    "epochs = range(1, len(acc) + 1)\n",
    "\n",
    "plt.plot(epochs, acc, 'bo', label='Training acc')\n",
    "plt.plot(epochs, val_acc, 'b', label='Validation acc')\n",
    "plt.title('Training and validation accuracy')\n",
    "plt.legend(loc='best')\n",
    "\n",
    "plt.figure()\n",
    "plt.plot(epochs, loss, 'bo', label='Training loss')\n",
    "plt.plot(epochs, val_loss, 'b', label='Validation loss')\n",
    "plt.title('Training and validation loss')\n",
    "plt.legend(loc='best')\n",
    "\n",
    "plt.show()"
   ]
  },
  {
   "cell_type": "markdown",
   "metadata": {},
   "source": [
    "### 代码清单 6-44 训练一个双向 GRU"
   ]
  },
  {
   "cell_type": "code",
   "execution_count": 54,
   "metadata": {},
   "outputs": [
    {
     "name": "stdout",
     "output_type": "stream",
     "text": [
      "Epoch 1/40\n",
      "500/500 [==============================] - 206s 411ms/step - loss: 0.2918 - val_loss: 0.2775\n",
      "Epoch 2/40\n",
      "500/500 [==============================] - 204s 409ms/step - loss: 0.2751 - val_loss: 0.2743\n",
      "Epoch 3/40\n",
      "500/500 [==============================] - 204s 407ms/step - loss: 0.2688 - val_loss: 0.2721\n",
      "Epoch 4/40\n",
      "500/500 [==============================] - 203s 406ms/step - loss: 0.2628 - val_loss: 0.2803\n",
      "Epoch 5/40\n",
      "500/500 [==============================] - 204s 407ms/step - loss: 0.2565 - val_loss: 0.2710\n",
      "Epoch 6/40\n",
      "500/500 [==============================] - 204s 407ms/step - loss: 0.2494 - val_loss: 0.2824\n",
      "Epoch 7/40\n",
      "500/500 [==============================] - 204s 407ms/step - loss: 0.2429 - val_loss: 0.2818\n",
      "Epoch 8/40\n",
      "500/500 [==============================] - 203s 407ms/step - loss: 0.2352 - val_loss: 0.2858\n",
      "Epoch 9/40\n",
      "500/500 [==============================] - 204s 408ms/step - loss: 0.2278 - val_loss: 0.2840\n",
      "Epoch 10/40\n",
      "500/500 [==============================] - 203s 406ms/step - loss: 0.2225 - val_loss: 0.2877\n",
      "Epoch 11/40\n",
      "500/500 [==============================] - 203s 406ms/step - loss: 0.2172 - val_loss: 0.2975\n",
      "Epoch 12/40\n",
      "500/500 [==============================] - 203s 406ms/step - loss: 0.2099 - val_loss: 0.3001\n",
      "Epoch 13/40\n",
      "500/500 [==============================] - 203s 407ms/step - loss: 0.2045 - val_loss: 0.2990\n",
      "Epoch 14/40\n",
      "500/500 [==============================] - 203s 406ms/step - loss: 0.2006 - val_loss: 0.3006\n",
      "Epoch 15/40\n",
      "500/500 [==============================] - 203s 406ms/step - loss: 0.1977 - val_loss: 0.3096\n",
      "Epoch 16/40\n",
      "500/500 [==============================] - 203s 407ms/step - loss: 0.1913 - val_loss: 0.3123\n",
      "Epoch 17/40\n",
      "500/500 [==============================] - 203s 406ms/step - loss: 0.1864 - val_loss: 0.3124\n",
      "Epoch 18/40\n",
      "500/500 [==============================] - 203s 407ms/step - loss: 0.1834 - val_loss: 0.3188\n",
      "Epoch 19/40\n",
      "500/500 [==============================] - 203s 406ms/step - loss: 0.1801 - val_loss: 0.3248\n",
      "Epoch 20/40\n",
      "500/500 [==============================] - 203s 406ms/step - loss: 0.1762 - val_loss: 0.3228\n",
      "Epoch 21/40\n",
      "500/500 [==============================] - 203s 406ms/step - loss: 0.1722 - val_loss: 0.3273\n",
      "Epoch 22/40\n",
      "500/500 [==============================] - 203s 407ms/step - loss: 0.1713 - val_loss: 0.3258\n",
      "Epoch 23/40\n",
      "500/500 [==============================] - 203s 406ms/step - loss: 0.1681 - val_loss: 0.3314\n",
      "Epoch 24/40\n",
      "500/500 [==============================] - 203s 406ms/step - loss: 0.1638 - val_loss: 0.3248\n",
      "Epoch 25/40\n",
      "500/500 [==============================] - 203s 406ms/step - loss: 0.1603 - val_loss: 0.3299\n",
      "Epoch 26/40\n",
      "500/500 [==============================] - 203s 406ms/step - loss: 0.1602 - val_loss: 0.3263\n",
      "Epoch 27/40\n",
      "500/500 [==============================] - 203s 406ms/step - loss: 0.1584 - val_loss: 0.3317\n",
      "Epoch 28/40\n",
      "500/500 [==============================] - 203s 406ms/step - loss: 0.1546 - val_loss: 0.3332\n",
      "Epoch 29/40\n",
      "500/500 [==============================] - 203s 406ms/step - loss: 0.1528 - val_loss: 0.3357\n",
      "Epoch 30/40\n",
      "500/500 [==============================] - 203s 406ms/step - loss: 0.1516 - val_loss: 0.3324\n",
      "Epoch 31/40\n",
      "500/500 [==============================] - 203s 407ms/step - loss: 0.1499 - val_loss: 0.3367\n",
      "Epoch 32/40\n",
      "500/500 [==============================] - 203s 407ms/step - loss: 0.1493 - val_loss: 0.3307\n",
      "Epoch 33/40\n",
      "500/500 [==============================] - 204s 407ms/step - loss: 0.1471 - val_loss: 0.3324\n",
      "Epoch 34/40\n",
      "500/500 [==============================] - 203s 407ms/step - loss: 0.1445 - val_loss: 0.3376\n",
      "Epoch 35/40\n",
      "500/500 [==============================] - 204s 407ms/step - loss: 0.1427 - val_loss: 0.3363\n",
      "Epoch 36/40\n",
      "500/500 [==============================] - 203s 407ms/step - loss: 0.1424 - val_loss: 0.3415\n",
      "Epoch 37/40\n",
      "500/500 [==============================] - 203s 407ms/step - loss: 0.1416 - val_loss: 0.3410\n",
      "Epoch 38/40\n",
      "500/500 [==============================] - 203s 406ms/step - loss: 0.1399 - val_loss: 0.3432\n",
      "Epoch 39/40\n",
      "500/500 [==============================] - 203s 406ms/step - loss: 0.1380 - val_loss: 0.3410\n",
      "Epoch 40/40\n",
      "500/500 [==============================] - 203s 407ms/step - loss: 0.1369 - val_loss: 0.3391\n"
     ]
    },
    {
     "data": {
      "image/png": "[encoded data removed]",
      "text/plain": [
       "<Figure size 432x288 with 1 Axes>"
      ]
     },
     "metadata": {
      "needs_background": "light"
     },
     "output_type": "display_data"
    }
   ],
   "source": [
    "from keras.models import Sequential\n",
    "from keras import layers\n",
    "from keras.optimizers import RMSprop\n",
    "from matplotlib import pyplot as plt\n",
    "\n",
    "\n",
    "model = Sequential()\n",
    "model.add(layers.Bidirectional(layers.GRU(32), input_shape=(None, float_data.shape[-1])))\n",
    "model.add(layers.Dense(1))\n",
    "\n",
    "model.compile(optimizer=RMSprop(), loss='mae')\n",
    "\n",
    "history = model.fit_generator(train_gen,\n",
    "                              steps_per_epoch=500,\n",
    "                              epochs=40,\n",
    "                              validation_data=val_gen,\n",
    "                              validation_steps=val_steps)\n",
    "\n",
    "loss = history.history['loss']\n",
    "val_loss = history.history['val_loss']\n",
    "\n",
    "epochs = range(1, len(loss) + 1)\n",
    "\n",
    "plt.plot(epochs, loss, 'bo', label='Training loss')\n",
    "plt.plot(epochs, val_loss, 'b', label='Validation loss')\n",
    "plt.title('Training and validation loss')\n",
    "plt.legend(loc='best')\n",
    "\n",
    "plt.show()"
   ]
  },
  {
   "cell_type": "markdown",
   "metadata": {},
   "source": [
    "## 6.4 用卷积神经网络处理序列"
   ]
  },
  {
   "cell_type": "markdown",
   "metadata": {},
   "source": [
    "<img src=\"第6章 深度学习用于文本和序列 数据/图 6-26 一维卷积神经网络的工作原理:每个输出时间步都是利用输入序列在时间维度上的一小段得到的.png\">"
   ]
  },
  {
   "cell_type": "markdown",
   "metadata": {},
   "source": [
    "### 代码清单 6-45 准备IMDB数据"
   ]
  },
  {
   "cell_type": "code",
   "execution_count": 15,
   "metadata": {},
   "outputs": [
    {
     "name": "stdout",
     "output_type": "stream",
     "text": [
      "Loading data...\n",
      "25000 train sequences\n",
      "25000 test sequences\n",
      "Pad sequences (samples x time)\n",
      "x_train shape: (25000, 500)\n",
      "x_test shape: (25000, 500)\n"
     ]
    }
   ],
   "source": [
    "from keras.datasets import imdb\n",
    "from keras.preprocessing import sequence\n",
    "\n",
    "\n",
    "max_features = 10000\n",
    "max_len = 500\n",
    "\n",
    "print('Loading data...')\n",
    "(x_train, y_train), (x_test, y_test) = imdb.load_data(num_words=max_features)\n",
    "print(len(x_train), 'train sequences')\n",
    "print(len(x_test), 'test sequences')\n",
    "\n",
    "print('Pad sequences (samples x time)')\n",
    "x_train = sequence.pad_sequences(x_train, maxlen=max_len)\n",
    "x_test = sequence.pad_sequences(x_test, maxlen=max_len)\n",
    "print('x_train shape:', x_train.shape)\n",
    "print('x_test shape:', x_test.shape)"
   ]
  },
  {
   "cell_type": "markdown",
   "metadata": {},
   "source": [
    "### 代码清单 6-46 在 IMDB 数据上训练并评估一个简单的一维卷积神经网络"
   ]
  },
  {
   "cell_type": "code",
   "execution_count": 16,
   "metadata": {},
   "outputs": [
    {
     "name": "stdout",
     "output_type": "stream",
     "text": [
      "_________________________________________________________________\n",
      "Layer (type)                 Output Shape              Param #   \n",
      "=================================================================\n",
      "embedding_10 (Embedding)     (None, 500, 128)          1280000   \n",
      "_________________________________________________________________\n",
      "conv1d_19 (Conv1D)           (None, 494, 32)           28704     \n",
      "_________________________________________________________________\n",
      "max_pooling1d_15 (MaxPooling (None, 98, 32)            0         \n",
      "_________________________________________________________________\n",
      "conv1d_20 (Conv1D)           (None, 92, 32)            7200      \n",
      "_________________________________________________________________\n",
      "global_max_pooling1d_5 (Glob (None, 32)                0         \n",
      "_________________________________________________________________\n",
      "dense_10 (Dense)             (None, 1)                 33        \n",
      "=================================================================\n",
      "Total params: 1,315,937\n",
      "Trainable params: 1,315,937\n",
      "Non-trainable params: 0\n",
      "_________________________________________________________________\n",
      "Train on 20000 samples, validate on 5000 samples\n",
      "Epoch 1/10\n",
      "20000/20000 [==============================] - 5s 256us/step - loss: 0.8337 - acc: 0.5096 - val_loss: 0.6874 - val_acc: 0.5660\n",
      "Epoch 2/10\n",
      "20000/20000 [==============================] - 5s 239us/step - loss: 0.6700 - acc: 0.6392 - val_loss: 0.6641 - val_acc: 0.6584\n",
      "Epoch 3/10\n",
      "20000/20000 [==============================] - 5s 240us/step - loss: 0.6236 - acc: 0.7522 - val_loss: 0.6078 - val_acc: 0.7432\n",
      "Epoch 4/10\n",
      "20000/20000 [==============================] - 5s 239us/step - loss: 0.5257 - acc: 0.8079 - val_loss: 0.4845 - val_acc: 0.8058\n",
      "Epoch 5/10\n",
      "20000/20000 [==============================] - 5s 240us/step - loss: 0.4095 - acc: 0.8482 - val_loss: 0.4337 - val_acc: 0.8300\n",
      "Epoch 6/10\n",
      "20000/20000 [==============================] - 5s 243us/step - loss: 0.3479 - acc: 0.8667 - val_loss: 0.4206 - val_acc: 0.8366\n",
      "Epoch 7/10\n",
      "20000/20000 [==============================] - 5s 240us/step - loss: 0.3077 - acc: 0.8704 - val_loss: 0.4364 - val_acc: 0.8236\n",
      "Epoch 8/10\n",
      "20000/20000 [==============================] - 5s 239us/step - loss: 0.2792 - acc: 0.8538 - val_loss: 0.4239 - val_acc: 0.8038\n",
      "Epoch 9/10\n",
      "20000/20000 [==============================] - 5s 239us/step - loss: 0.2507 - acc: 0.8408 - val_loss: 0.4429 - val_acc: 0.8008\n",
      "Epoch 10/10\n",
      "20000/20000 [==============================] - 5s 239us/step - loss: 0.2295 - acc: 0.8346 - val_loss: 0.4830 - val_acc: 0.7702\n"
     ]
    },
    {
     "data": {
      "image/png": "[encoded data removed]",
      "text/plain": [
       "<Figure size 432x288 with 1 Axes>"
      ]
     },
     "metadata": {
      "needs_background": "light"
     },
     "output_type": "display_data"
    },
    {
     "data": {
      "image/png": "[encoded data removed]",
      "text/plain": [
       "<Figure size 432x288 with 1 Axes>"
      ]
     },
     "metadata": {
      "needs_background": "light"
     },
     "output_type": "display_data"
    }
   ],
   "source": [
    "from keras.models import Sequential\n",
    "from keras import layers\n",
    "from keras.optimizers import RMSprop\n",
    "from matplotlib import pyplot as plt\n",
    "\n",
    "\n",
    "model = Sequential()\n",
    "model.add(layers.Embedding(max_features, 128, input_length=max_len))\n",
    "model.add(layers.Conv1D(32, 7, activation='relu'))\n",
    "model.add(layers.MaxPooling1D(5)) # 当池化的步长参数未输入时，那么步长等于池化的窗口带大小\n",
    "model.add(layers.Conv1D(32, 7, activation='relu'))\n",
    "model.add(layers.GlobalMaxPooling1D())\n",
    "model.add(layers.Dense(1))\n",
    "\n",
    "model.summary()\n",
    "\n",
    "model.compile(optimizer=RMSprop(lr=1e-4),\n",
    "              loss='binary_crossentropy',\n",
    "              metrics=['acc'])\n",
    "history = model.fit(x_train, y_train,\n",
    "                    epochs=10,\n",
    "                    batch_size=128,\n",
    "                    validation_split=0.2)\n",
    "\n",
    "acc = history.history['acc']\n",
    "val_acc = history.history['val_acc']\n",
    "loss = history.history['loss']\n",
    "val_loss = history.history['val_loss']\n",
    "len(acc)\n",
    "\n",
    "epochs = range(1, len(acc) + 1)\n",
    "\n",
    "plt.plot(epochs, acc, 'bo', label='Training acc')\n",
    "plt.plot(epochs, val_acc, 'b', label='Validation acc')\n",
    "plt.title('Training and validation accuracy')\n",
    "plt.legend(loc='best')\n",
    "\n",
    "plt.figure()\n",
    "plt.plot(epochs, loss, 'bo', label='Training loss')\n",
    "plt.plot(epochs, val_loss, 'b', label='Validation loss')\n",
    "plt.title('Training and validation loss')\n",
    "plt.legend(loc='best')\n",
    "\n",
    "plt.show()"
   ]
  },
  {
   "cell_type": "markdown",
   "metadata": {},
   "source": [
    "### 代码清单 6-47 在耶拿数据上训练并评估一个简单的一维卷积神经网络"
   ]
  },
  {
   "cell_type": "code",
   "execution_count": 39,
   "metadata": {},
   "outputs": [
    {
     "name": "stdout",
     "output_type": "stream",
     "text": [
      "_________________________________________________________________\n",
      "Layer (type)                 Output Shape              Param #   \n",
      "=================================================================\n",
      "conv1d_29 (Conv1D)           (None, None, 32)          2272      \n",
      "_________________________________________________________________\n",
      "max_pooling1d_20 (MaxPooling (None, None, 32)          0         \n",
      "_________________________________________________________________\n",
      "conv1d_30 (Conv1D)           (None, None, 32)          5152      \n",
      "_________________________________________________________________\n",
      "max_pooling1d_21 (MaxPooling (None, None, 32)          0         \n",
      "_________________________________________________________________\n",
      "conv1d_31 (Conv1D)           (None, None, 32)          5152      \n",
      "_________________________________________________________________\n",
      "global_max_pooling1d_8 (Glob (None, 32)                0         \n",
      "_________________________________________________________________\n",
      "dense_13 (Dense)             (None, 1)                 33        \n",
      "=================================================================\n",
      "Total params: 12,609\n",
      "Trainable params: 12,609\n",
      "Non-trainable params: 0\n",
      "_________________________________________________________________\n",
      "Epoch 1/20\n",
      "500/500 [==============================] - 9s 18ms/step - loss: 0.4153 - val_loss: 0.4534\n",
      "Epoch 2/20\n",
      "500/500 [==============================] - 9s 18ms/step - loss: 0.3614 - val_loss: 0.4389\n",
      "Epoch 3/20\n",
      "500/500 [==============================] - 9s 18ms/step - loss: 0.3366 - val_loss: 0.4788\n",
      "Epoch 4/20\n",
      "500/500 [==============================] - 9s 18ms/step - loss: 0.3216 - val_loss: 0.4367\n",
      "Epoch 5/20\n",
      "500/500 [==============================] - 9s 18ms/step - loss: 0.3104 - val_loss: 0.4500\n",
      "Epoch 6/20\n",
      "500/500 [==============================] - 9s 17ms/step - loss: 0.2996 - val_loss: 0.4416\n",
      "Epoch 7/20\n",
      "500/500 [==============================] - 9s 18ms/step - loss: 0.2909 - val_loss: 0.4852\n",
      "Epoch 8/20\n",
      "500/500 [==============================] - 9s 18ms/step - loss: 0.2823 - val_loss: 0.4575\n",
      "Epoch 9/20\n",
      "500/500 [==============================] - 9s 18ms/step - loss: 0.2783 - val_loss: 0.4519\n",
      "Epoch 10/20\n",
      "500/500 [==============================] - 9s 17ms/step - loss: 0.2735 - val_loss: 0.4681\n",
      "Epoch 11/20\n",
      "500/500 [==============================] - 9s 18ms/step - loss: 0.2677 - val_loss: 0.4804\n",
      "Epoch 12/20\n",
      "500/500 [==============================] - 9s 17ms/step - loss: 0.2629 - val_loss: 0.5049\n",
      "Epoch 13/20\n",
      "500/500 [==============================] - 9s 18ms/step - loss: 0.2605 - val_loss: 0.4604\n",
      "Epoch 14/20\n",
      "500/500 [==============================] - 9s 18ms/step - loss: 0.2570 - val_loss: 0.4698\n",
      "Epoch 15/20\n",
      "500/500 [==============================] - 9s 18ms/step - loss: 0.2527 - val_loss: 0.4817\n",
      "Epoch 16/20\n",
      "500/500 [==============================] - 9s 18ms/step - loss: 0.2500 - val_loss: 0.4762\n",
      "Epoch 17/20\n",
      "500/500 [==============================] - 9s 18ms/step - loss: 0.2467 - val_loss: 0.5081\n",
      "Epoch 18/20\n",
      "500/500 [==============================] - 9s 17ms/step - loss: 0.2450 - val_loss: 0.4697\n",
      "Epoch 19/20\n",
      "500/500 [==============================] - 9s 18ms/step - loss: 0.2406 - val_loss: 0.4718\n",
      "Epoch 20/20\n",
      "500/500 [==============================] - 9s 18ms/step - loss: 0.2400 - val_loss: 0.4976\n"
     ]
    },
    {
     "data": {
      "image/png": "[encoded data removed]",
      "text/plain": [
       "<Figure size 432x288 with 1 Axes>"
      ]
     },
     "metadata": {
      "needs_background": "light"
     },
     "output_type": "display_data"
    }
   ],
   "source": [
    "# 以下示例复用了前面定义的这些变量:float_data、train_gen、val_gen 和 val_steps\n",
    "\n",
    "from keras.models import Sequential\n",
    "from keras import layers\n",
    "from keras.optimizers import RMSprop\n",
    "from matplotlib import pyplot as plt\n",
    "\n",
    "\n",
    "model = Sequential()\n",
    "model.add(layers.Conv1D(32, 5, activation='relu', input_shape=(None, float_data.shape[-1])))\n",
    "model.add(layers.MaxPooling1D(3))\n",
    "model.add(layers.Conv1D(32, 5, activation='relu'))\n",
    "model.add(layers.MaxPooling1D(3))\n",
    "model.add(layers.Conv1D(32, 5, activation='relu'))\n",
    "model.add(layers.GlobalMaxPooling1D())\n",
    "model.add(layers.Dense(1))\n",
    "\n",
    "model.summary()\n",
    "\n",
    "model.compile(optimizer=RMSprop(), loss='mae')\n",
    "history = model.fit_generator(train_gen,\n",
    "                              steps_per_epoch=500,\n",
    "                              epochs=20,\n",
    "                              validation_data=val_gen,\n",
    "                              validation_steps=val_steps)\n",
    "\n",
    "loss = history.history['loss']\n",
    "val_loss = history.history['val_loss']\n",
    "\n",
    "epochs = range(1, len(loss) + 1)\n",
    "\n",
    "plt.plot(epochs, loss, 'bo', label='Training loss')\n",
    "plt.plot(epochs, val_loss, 'b', label='Validation loss')\n",
    "plt.title('Training and validation loss')\n",
    "plt.legend(loc='best')\n",
    "\n",
    "plt.show()"
   ]
  },
  {
   "cell_type": "markdown",
   "metadata": {},
   "source": [
    "### 代码清单 6-48 为耶拿数据集准备更高分辨率的数据生成器"
   ]
  },
  {
   "cell_type": "code",
   "execution_count": 40,
   "metadata": {},
   "outputs": [],
   "source": [
    "step = 3\n",
    "lookback = 720\n",
    "delay = 144\n",
    "\n",
    "train_gen = generator(float_data,\n",
    "                      lookback=lookback,\n",
    "                      delay=delay,\n",
    "                      min_index=0,\n",
    "                      max_index=200000,\n",
    "                      shuffle=True,\n",
    "                      step=step)\n",
    "val_gen = generator(float_data,\n",
    "                    lookback=lookback,\n",
    "                    delay=delay,\n",
    "                    min_index=200001,\n",
    "                    max_index=300000,\n",
    "                    step=step)\n",
    "test_gen = generator(float_data,\n",
    "                     lookback=lookback,\n",
    "                     delay=delay,\n",
    "                     min_index=300001,\n",
    "                     max_index=None,\n",
    "                     step=step)\n",
    "val_steps = (300000 - 200001 - lookback) // 128\n",
    "test_steps = (len(float_data) - 300001 - lookback) // 128"
   ]
  },
  {
   "cell_type": "markdown",
   "metadata": {},
   "source": [
    "### 代码清单 6-49 结合一维卷积基和 GRU 层的模型"
   ]
  },
  {
   "cell_type": "code",
   "execution_count": 46,
   "metadata": {},
   "outputs": [
    {
     "name": "stdout",
     "output_type": "stream",
     "text": [
      "_________________________________________________________________\n",
      "Layer (type)                 Output Shape              Param #   \n",
      "=================================================================\n",
      "conv1d_37 (Conv1D)           (None, None, 32)          2272      \n",
      "_________________________________________________________________\n",
      "max_pooling1d_25 (MaxPooling (None, None, 32)          0         \n",
      "_________________________________________________________________\n",
      "conv1d_38 (Conv1D)           (None, None, 32)          5152      \n",
      "_________________________________________________________________\n",
      "gru_3 (GRU)                  (None, 32)                6240      \n",
      "_________________________________________________________________\n",
      "dense_16 (Dense)             (None, 1)                 33        \n",
      "=================================================================\n",
      "Total params: 13,697\n",
      "Trainable params: 13,697\n",
      "Non-trainable params: 0\n",
      "_________________________________________________________________\n",
      "Epoch 1/20\n",
      "500/500 [==============================] - 48s 96ms/step - loss: 0.3399 - val_loss: 0.2847\n",
      "Epoch 2/20\n",
      "500/500 [==============================] - 46s 92ms/step - loss: 0.3062 - val_loss: 0.2862\n",
      "Epoch 3/20\n",
      "500/500 [==============================] - 47s 93ms/step - loss: 0.2936 - val_loss: 0.2826\n",
      "Epoch 4/20\n",
      "500/500 [==============================] - 46s 92ms/step - loss: 0.2857 - val_loss: 0.2739\n",
      "Epoch 5/20\n",
      "500/500 [==============================] - 46s 91ms/step - loss: 0.2772 - val_loss: 0.2773\n",
      "Epoch 6/20\n",
      "500/500 [==============================] - 45s 91ms/step - loss: 0.2714 - val_loss: 0.2920\n",
      "Epoch 7/20\n",
      "500/500 [==============================] - 46s 91ms/step - loss: 0.2665 - val_loss: 0.2735\n",
      "Epoch 8/20\n",
      "500/500 [==============================] - 46s 92ms/step - loss: 0.2624 - val_loss: 0.2758\n",
      "Epoch 9/20\n",
      "500/500 [==============================] - 46s 92ms/step - loss: 0.2583 - val_loss: 0.2786\n",
      "Epoch 10/20\n",
      "500/500 [==============================] - 46s 92ms/step - loss: 0.2527 - val_loss: 0.2781\n",
      "Epoch 11/20\n",
      "500/500 [==============================] - 46s 92ms/step - loss: 0.2489 - val_loss: 0.2830\n",
      "Epoch 12/20\n",
      "500/500 [==============================] - 48s 96ms/step - loss: 0.2464 - val_loss: 0.2954\n",
      "Epoch 13/20\n",
      "500/500 [==============================] - 47s 94ms/step - loss: 0.2432 - val_loss: 0.2910\n",
      "Epoch 14/20\n",
      "500/500 [==============================] - 47s 93ms/step - loss: 0.2406 - val_loss: 0.2908\n",
      "Epoch 15/20\n",
      "500/500 [==============================] - 47s 93ms/step - loss: 0.2379 - val_loss: 0.2923\n",
      "Epoch 16/20\n",
      "500/500 [==============================] - 47s 93ms/step - loss: 0.2358 - val_loss: 0.2992\n",
      "Epoch 17/20\n",
      "500/500 [==============================] - 48s 96ms/step - loss: 0.2333 - val_loss: 0.2991\n",
      "Epoch 18/20\n",
      "500/500 [==============================] - 47s 93ms/step - loss: 0.2301 - val_loss: 0.2932\n",
      "Epoch 19/20\n",
      "500/500 [==============================] - 47s 93ms/step - loss: 0.2290 - val_loss: 0.2954\n",
      "Epoch 20/20\n",
      "500/500 [==============================] - 46s 93ms/step - loss: 0.2275 - val_loss: 0.2988\n"
     ]
    },
    {
     "data": {
      "image/png": "[encoded data removed]",
      "text/plain": [
       "<Figure size 432x288 with 1 Axes>"
      ]
     },
     "metadata": {
      "needs_background": "light"
     },
     "output_type": "display_data"
    }
   ],
   "source": [
    "from keras.models import Sequential\n",
    "from keras import layers\n",
    "from keras.optimizers import RMSprop\n",
    "from matplotlib import pyplot as plt\n",
    "\n",
    "\n",
    "model = Sequential()\n",
    "model.add(layers.Conv1D(32, 5, activation='relu', input_shape=(None, float_data.shape[-1])))\n",
    "model.add(layers.MaxPooling1D(3))\n",
    "model.add(layers.Conv1D(32, 5, activation='relu'))\n",
    "model.add(layers.GRU(32, dropout=0.1, recurrent_dropout=0.5))\n",
    "model.add(layers.Dense(1))\n",
    "\n",
    "model.summary()\n",
    "\n",
    "model.compile(optimizer=RMSprop(), loss='mae')\n",
    "history = model.fit_generator(train_gen,\n",
    "                              steps_per_epoch=500,\n",
    "                              epochs=20,\n",
    "                              validation_data=val_gen,\n",
    "                              validation_steps=val_steps)\n",
    "\n",
    "loss = history.history['loss']\n",
    "val_loss = history.history['val_loss']\n",
    "\n",
    "epochs = range(1, len(loss) + 1)\n",
    "\n",
    "plt.plot(epochs, loss, 'bo', label='Training loss')\n",
    "plt.plot(epochs, val_loss, 'b', label='Validation loss')\n",
    "plt.title('Training and validation loss')\n",
    "plt.legend(loc='best')\n",
    "\n",
    "plt.show()"
   ]
  },
  {
   "cell_type": "code",
   "execution_count": null,
   "metadata": {},
   "outputs": [],
   "source": []
  }
 ],
 "metadata": {
  "kernelspec": {
   "display_name": "Python 3",
   "language": "python",
   "name": "python3"
  },
  "language_info": {
   "codemirror_mode": {
    "name": "ipython",
    "version": 3
   },
   "file_extension": ".py",
   "mimetype": "text/x-python",
   "name": "python",
   "nbconvert_exporter": "python",
   "pygments_lexer": "ipython3",
   "version": "3.6.8"
  },
  "toc": {
   "base_numbering": 1,
   "nav_menu": {},
   "number_sections": true,
   "sideBar": true,
   "skip_h1_title": false,
   "title_cell": "Table of Contents",
   "title_sidebar": "Contents",
   "toc_cell": false,
   "toc_position": {
    "height": "calc(100% - 180px)",
    "left": "10px",
    "top": "150px",
    "width": "384px"
   },
   "toc_section_display": true,
   "toc_window_display": true
  }
 },
 "nbformat": 4,
 "nbformat_minor": 2
}
