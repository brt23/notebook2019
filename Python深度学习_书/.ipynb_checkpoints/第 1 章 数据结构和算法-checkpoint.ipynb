{
 "cells": [
  {
   "cell_type": "markdown",
   "metadata": {},
   "source": [
    "# 第 1 章 数据结构和算法"
   ]
  },
  {
   "cell_type": "markdown",
   "metadata": {},
   "source": [
    "## 1.1 将序列分解为单独的变量"
   ]
  },
  {
   "cell_type": "markdown",
   "metadata": {},
   "source": [
    "任何序列(或可迭代的对象)都可以通过一个简单的赋值操作来分解为单独的变量。  \n",
    "唯一的要求是变量的总数和结构要与序列相吻合。"
   ]
  },
  {
   "cell_type": "code",
   "execution_count": 1,
   "metadata": {},
   "outputs": [
    {
     "name": "stdout",
     "output_type": "stream",
     "text": [
      "4\n",
      "5\n"
     ]
    }
   ],
   "source": [
    "p = (4, 5)\n",
    "x, y = p\n",
    "print(x)\n",
    "print(y)"
   ]
  },
  {
   "cell_type": "code",
   "execution_count": 2,
   "metadata": {},
   "outputs": [
    {
     "name": "stdout",
     "output_type": "stream",
     "text": [
      "ACME\n",
      "50\n",
      "91.1\n",
      "(2012, 12, 21)\n"
     ]
    }
   ],
   "source": [
    "data = ['ACME', 50, 91.1, (2012, 12, 21)]\n",
    "name, shares, price, date = data\n",
    "print(name)\n",
    "print(shares)\n",
    "print(price)\n",
    "print(date)"
   ]
  },
  {
   "cell_type": "code",
   "execution_count": 3,
   "metadata": {},
   "outputs": [
    {
     "name": "stdout",
     "output_type": "stream",
     "text": [
      "ACME\n",
      "50\n",
      "91.1\n",
      "2012\n",
      "12\n",
      "21\n"
     ]
    }
   ],
   "source": [
    "name, shares, price, (year, mon, day) = data\n",
    "print(name)\n",
    "print(shares)\n",
    "print(price)\n",
    "print(year)\n",
    "print(mon)\n",
    "print(day)"
   ]
  },
  {
   "cell_type": "code",
   "execution_count": 4,
   "metadata": {},
   "outputs": [
    {
     "ename": "ValueError",
     "evalue": "not enough values to unpack (expected 3, got 2)",
     "output_type": "error",
     "traceback": [
      "\u001b[0;31m---------------------------------------------------------------------------\u001b[0m",
      "\u001b[0;31mValueError\u001b[0m                                Traceback (most recent call last)",
      "\u001b[0;32m<ipython-input-4-dcee7aea9f3e>\u001b[0m in \u001b[0;36m<module>\u001b[0;34m\u001b[0m\n\u001b[1;32m      1\u001b[0m \u001b[0;31m# 如果元素的数量不匹配，将得到一个错误提示\u001b[0m\u001b[0;34m\u001b[0m\u001b[0;34m\u001b[0m\u001b[0m\n\u001b[1;32m      2\u001b[0m \u001b[0mp\u001b[0m \u001b[0;34m=\u001b[0m \u001b[0;34m(\u001b[0m\u001b[0;36m4\u001b[0m\u001b[0;34m,\u001b[0m \u001b[0;36m5\u001b[0m\u001b[0;34m)\u001b[0m\u001b[0;34m\u001b[0m\u001b[0m\n\u001b[0;32m----> 3\u001b[0;31m \u001b[0mx\u001b[0m\u001b[0;34m,\u001b[0m \u001b[0my\u001b[0m\u001b[0;34m,\u001b[0m \u001b[0mz\u001b[0m \u001b[0;34m=\u001b[0m \u001b[0mp\u001b[0m\u001b[0;34m\u001b[0m\u001b[0m\n\u001b[0m",
      "\u001b[0;31mValueError\u001b[0m: not enough values to unpack (expected 3, got 2)"
     ]
    }
   ],
   "source": [
    "# 如果元素的数量不匹配，将得到一个错误提示\n",
    "p = (4, 5)\n",
    "x, y, z = p"
   ]
  },
  {
   "cell_type": "code",
   "execution_count": null,
   "metadata": {},
   "outputs": [],
   "source": [
    "s = 'Hello'\n",
    "a, b, c, d, e = s\n",
    "print(a)\n",
    "print(b)\n",
    "print(c)\n",
    "print(d)\n",
    "print(e)"
   ]
  },
  {
   "cell_type": "markdown",
   "metadata": {},
   "source": [
    "### <font color=\"#FF0000\">问题：迭代器以及生成器怎么分解？</font>"
   ]
  },
  {
   "cell_type": "markdown",
   "metadata": {},
   "source": [
    "## 1.2 从任意长度的可迭代对象中分解元素"
   ]
  },
  {
   "cell_type": "markdown",
   "metadata": {},
   "source": [
    "Python 的“\\*表达式”可以用来解决这个问题。  \n",
    "例如,假设开设了一门课程,并决定在期末的作业成绩中去掉第一个和最后一个,只对中间剩下的成绩做平均分统计。  \n",
    "如果只有 4 个成绩,也许可以简单地将 4 个都分解出来,但是如果有 24 个呢?\\*表达式使这一切都变得简单。\n",
    "\n",
    "```python\n",
    "def drop_first_last(grades):\n",
    "    first, *middle, last = grades\n",
    "    return avg(middle)\n",
    "```"
   ]
  },
  {
   "cell_type": "code",
   "execution_count": 7,
   "metadata": {},
   "outputs": [
    {
     "name": "stdout",
     "output_type": "stream",
     "text": [
      "Dave\n",
      "dave@example.com\n",
      "['773-555-1212', '847-555-1212']\n"
     ]
    }
   ],
   "source": [
    "record = ('Dave', 'dave@example.com', '773-555-1212', '847-555-1212')\n",
    "name, email, *phone_numbers = record\n",
    "print(name)\n",
    "print(email)\n",
    "print(phone_numbers)"
   ]
  },
  {
   "cell_type": "markdown",
   "metadata": {},
   "source": [
    "## 1.3 保存最后 N 个元素"
   ]
  },
  {
   "cell_type": "code",
   "execution_count": 13,
   "metadata": {},
   "outputs": [
    {
     "name": "stdout",
     "output_type": "stream",
     "text": [
      "pythondq\n",
      "--------------------\n",
      "pythondq,hiqpythons\n",
      "--------------------\n",
      "pythondq,hiqpythons,dghuqiw,dhusq,dasd,python\n",
      "--------------------\n",
      "dghuqiw,dhusq,dasd,python,sdads,python\n",
      "--------------------\n"
     ]
    }
   ],
   "source": [
    "from collections import deque\n",
    "\n",
    "\n",
    "def search(lines, pattern, history=5):\n",
    "    previous_lines = deque(maxlen=history) \n",
    "    # deque(maxlen=N)创建了一个固定长度的队列。\n",
    "    # 当有新记录加入而队列已满时会自动移除最老的那条记录。\n",
    "    for line in lines:\n",
    "        if pattern in line:\n",
    "            yield line, previous_lines\n",
    "        previous_lines.append(line)\n",
    "        \n",
    "lines = ['pythondq', 'hiqpythons', 'dghuqiw', 'dhusq', 'dasd', 'python', 'sdads', 'python']\n",
    "for line, prevlines in search(lines, 'python', 5):\n",
    "    for pline in prevlines:\n",
    "        print(pline, end=',')\n",
    "    print(line, end='\\n')\n",
    "    print('-' * 20)"
   ]
  },
  {
   "cell_type": "markdown",
   "metadata": {},
   "source": [
    "## 1.4 找到最大或最小的 N 个元素"
   ]
  },
  {
   "cell_type": "markdown",
   "metadata": {},
   "source": [
    "想在某个集合中找出最大或最小的 N 个元素  \n",
    "heapq 模块中有两个函数—nlargest()和 nsmallest()—它们正是我们所需要的"
   ]
  },
  {
   "cell_type": "code",
   "execution_count": 14,
   "metadata": {},
   "outputs": [
    {
     "name": "stdout",
     "output_type": "stream",
     "text": [
      "[42, 37, 23]\n",
      "[-4, 1, 2]\n"
     ]
    }
   ],
   "source": [
    "import heapq\n",
    "\n",
    "\n",
    "nums = [1, 8, 2, 23, 7, -4, 18, 23, 42, 37, 2]\n",
    "print(heapq.nlargest(3, nums))\n",
    "print(heapq.nsmallest(3, nums))"
   ]
  },
  {
   "cell_type": "code",
   "execution_count": 16,
   "metadata": {},
   "outputs": [
    {
     "name": "stdout",
     "output_type": "stream",
     "text": [
      "[{'name': 'YHOO', 'shares': 45, 'price': 16.35}, {'name': 'FB', 'shares': 200, 'price': 21.09}, {'name': 'HPQ', 'shares': 35, 'price': 31.75}]\n",
      "[{'name': 'AAPL', 'shares': 50, 'price': 543.22}, {'name': 'ACME', 'shares': 75, 'price': 115.65}, {'name': 'IBM', 'shares': 100, 'price': 91.1}]\n"
     ]
    }
   ],
   "source": [
    "# 这两个函数都可以接受一个参数 key,从而允许它们工作在更加复杂的数据结构之上\n",
    "portfolio = [\n",
    "    {'name': 'IBM', 'shares': 100, 'price': 91.1},\n",
    "    {'name': 'AAPL', 'shares': 50, 'price': 543.22},\n",
    "    {'name': 'FB', 'shares': 200, 'price': 21.09},\n",
    "    {'name': 'HPQ', 'shares': 35, 'price': 31.75},\n",
    "    {'name': 'YHOO', 'shares': 45, 'price': 16.35},\n",
    "    {'name': 'ACME', 'shares': 75, 'price': 115.65}\n",
    "]\n",
    "\n",
    "cheap = heapq.nsmallest(3, portfolio, key=lambda x: x['price'])\n",
    "expensive = heapq.nlargest(3, portfolio, key=lambda x: x['price'])\n",
    "print(cheap)\n",
    "print(expensive)"
   ]
  },
  {
   "cell_type": "markdown",
   "metadata": {},
   "source": [
    "## 1.5 实现优先级队列"
   ]
  },
  {
   "cell_type": "code",
   "execution_count": 24,
   "metadata": {},
   "outputs": [
    {
     "name": "stdout",
     "output_type": "stream",
     "text": [
      "Item('bar')\n",
      "Item('spam')\n",
      "Item('foo')\n",
      "Item('grok')\n"
     ]
    }
   ],
   "source": [
    "# 我们想要实现一个队列,它能够以给定的优先级来对元素排序,且每次 pop 操作时都会返回优先级最高的那个元素。\n",
    "\n",
    "import heapq\n",
    "\n",
    "\n",
    "class PriorityQueue:\n",
    "    \n",
    "    def __init__(self):\n",
    "        self._queue = []\n",
    "        self._index = 0\n",
    "        \n",
    "    def push(self, item, priority):\n",
    "        heapq.heappush(self._queue, (-priority, self._index, item))\n",
    "        self._index += 1\n",
    "        \n",
    "    def pop(self):\n",
    "        return heapq.heappop(self._queue)[-1]\n",
    "    \n",
    "    \n",
    "class Item:\n",
    "    \n",
    "    def __init__(self, name):\n",
    "        self.name = name\n",
    "        \n",
    "    def __repr__(self):\n",
    "        return 'Item({!r})'.format(self.name) # !r python变量的格式\n",
    "    \n",
    "\n",
    "q = PriorityQueue()\n",
    "q.push(Item('foo'), 1)\n",
    "q.push(Item('bar'), 5)\n",
    "q.push(Item('spam'), 4)\n",
    "q.push(Item('grok'), 1)\n",
    "print(q.pop())\n",
    "print(q.pop())\n",
    "print(q.pop())\n",
    "print(q.pop())\n",
    "# 有相同优先级的两个元素(foo 和 grok)返回的顺序同它们插入到队列时的顺序相同"
   ]
  },
  {
   "cell_type": "code",
   "execution_count": null,
   "metadata": {},
   "outputs": [],
   "source": []
  }
 ],
 "metadata": {
  "kernelspec": {
   "display_name": "Python 3",
   "language": "python",
   "name": "python3"
  },
  "language_info": {
   "codemirror_mode": {
    "name": "ipython",
    "version": 3
   },
   "file_extension": ".py",
   "mimetype": "text/x-python",
   "name": "python",
   "nbconvert_exporter": "python",
   "pygments_lexer": "ipython3",
   "version": "3.6.6"
  },
  "toc": {
   "base_numbering": 1,
   "nav_menu": {},
   "number_sections": true,
   "sideBar": true,
   "skip_h1_title": false,
   "title_cell": "Table of Contents",
   "title_sidebar": "Contents",
   "toc_cell": false,
   "toc_position": {
    "height": "calc(100% - 180px)",
    "left": "10px",
    "top": "150px",
    "width": "428.8px"
   },
   "toc_section_display": true,
   "toc_window_display": true
  }
 },
 "nbformat": 4,
 "nbformat_minor": 2
}
