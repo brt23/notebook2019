{
 "cells": [
  {
   "cell_type": "code",
   "execution_count": 2,
   "metadata": {},
   "outputs": [],
   "source": [
    "import os\n",
    "import cv2\n",
    "import matplotlib.pyplot as plt\n",
    "import xml.etree.cElementTree as et"
   ]
  },
  {
   "cell_type": "code",
   "execution_count": 3,
   "metadata": {},
   "outputs": [],
   "source": [
    "VOC_dir = '/home/y/文档/神经网络数据集/VOCdevkit/VOC2007'"
   ]
  },
  {
   "cell_type": "code",
   "execution_count": 4,
   "metadata": {
    "scrolled": true
   },
   "outputs": [
    {
     "name": "stdout",
     "output_type": "stream",
     "text": [
      "[<Element 'object' at 0x7fbab6f1a728>, <Element 'object' at 0x7fbab6f1aa48>, <Element 'object' at 0x7fbab6f1ad68>, <Element 'object' at 0x7fbab6d8e0e8>, <Element 'object' at 0x7fbab6d8e408>]\n"
     ]
    }
   ],
   "source": [
    "annotation_dir = os.path.join(VOC_dir, 'Annotations')\n",
    "filenames = [\n",
    "    name\n",
    "    for name in os.listdir(annotation_dir)\n",
    "    if name.endswith('.xml')\n",
    "]\n",
    "filenames.sort(key=lambda x: int(os.path.splitext(x)[0]))\n",
    "filepaths = [\n",
    "    os.path.join(annotation_dir, name)\n",
    "    for name in filenames\n",
    "]\n",
    "\n",
    "image_dir = '/home/y/文档/神经网络数据集/VOCdevkit/VOC2007/JPEGImages'\n",
    "for fn in filepaths:\n",
    "    tree = et.ElementTree(file=fn)\n",
    "    root = tree.getroot()\n",
    "    image_filename = root.find('filename').text\n",
    "    image = cv2.imread(os.path.join(image_dir, image_filename))\n",
    "    \n",
    "    objects = root.findall('object')\n",
    "    for obj in objects:\n",
    "        clas = obj.find('name').text\n",
    "        bbox = obj.find('bndbox')\n",
    "        points = (\n",
    "            (int(bbox.find('xmin').text), int(bbox.find('ymin').text)),\n",
    "            (int(bbox.find('xmax').text), int(bbox.find('ymax').text))\n",
    "        )\n",
    "        \n",
    "        cv2.rectangle(image, points[0], points[1], (255, 0, 0), 1)\n",
    "        \n",
    "    cv2.imshow('Demo', image)\n",
    "    cv2.waitKey(0)"
   ]
  },
  {
   "cell_type": "code",
   "execution_count": null,
   "metadata": {},
   "outputs": [],
   "source": []
  }
 ],
 "metadata": {
  "kernelspec": {
   "display_name": "Python 3",
   "language": "python",
   "name": "python3"
  },
  "language_info": {
   "codemirror_mode": {
    "name": "ipython",
    "version": 3
   },
   "file_extension": ".py",
   "mimetype": "text/x-python",
   "name": "python",
   "nbconvert_exporter": "python",
   "pygments_lexer": "ipython3",
   "version": "3.6.8"
  },
  "toc": {
   "base_numbering": 1,
   "nav_menu": {},
   "number_sections": true,
   "sideBar": true,
   "skip_h1_title": false,
   "title_cell": "Table of Contents",
   "title_sidebar": "Contents",
   "toc_cell": false,
   "toc_position": {},
   "toc_section_display": true,
   "toc_window_display": false
  }
 },
 "nbformat": 4,
 "nbformat_minor": 2
}
