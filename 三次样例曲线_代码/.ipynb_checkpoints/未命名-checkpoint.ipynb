{
 "cells": [
  {
   "cell_type": "code",
   "execution_count": 2,
   "metadata": {},
   "outputs": [],
   "source": [
    "import numpy as np\n",
    "import math\n",
    "import bisect\n",
    "import matplotlib.pyplot as plt"
   ]
  },
  {
   "cell_type": "code",
   "execution_count": 5,
   "metadata": {},
   "outputs": [
    {
     "data": {
      "text/plain": [
       "7"
      ]
     },
     "execution_count": 5,
     "metadata": {},
     "output_type": "execute_result"
    }
   ],
   "source": [
    "x = [-2.5, 0.0, 2.5, 5.0, 7.5, 3.0, -1.0]\n",
    "y = [0.7, -6, 5, 6.5, 0.0, 5.0, -2.0]\n",
    "\n",
    "nx = len(x)\n",
    "nx"
   ]
  },
  {
   "cell_type": "code",
   "execution_count": 6,
   "metadata": {},
   "outputs": [
    {
     "data": {
      "text/plain": [
       "array([ 2.5,  2.5,  2.5,  2.5, -4.5, -4. ])"
      ]
     },
     "execution_count": 6,
     "metadata": {},
     "output_type": "execute_result"
    }
   ],
   "source": [
    "h = np.diff(x)\n",
    "h"
   ]
  },
  {
   "cell_type": "code",
   "execution_count": 10,
   "metadata": {},
   "outputs": [],
   "source": [
    "def calc_A(h, nx):\n",
    "    u\"\"\"\n",
    "    calc matrix A for spline coefficient c\n",
    "    \"\"\"\n",
    "    A = np.zeros((nx, nx)) # shape=(n, n)\n",
    "    A[0, 0] = 1.0\n",
    "    for i in range(nx - 1):\n",
    "        if i != (nx - 2):\n",
    "            A[i + 1, i + 1] = 2.0 * (h[i] + h[i + 1])\n",
    "        A[i + 1, i] = h[i]\n",
    "        A[i, i + 1] = h[i]\n",
    "\n",
    "    A[0, 1] = 0.0\n",
    "    A[nx - 1, nx - 2] = 0.0\n",
    "    A[nx - 1, nx - 1] = 1.0\n",
    "    print(A.astype('int'))\n",
    "    return A"
   ]
  },
  {
   "cell_type": "code",
   "execution_count": 11,
   "metadata": {},
   "outputs": [
    {
     "name": "stdout",
     "output_type": "stream",
     "text": [
      "[[  1   0   0   0   0   0   0]\n",
      " [  2  10   2   0   0   0   0]\n",
      " [  0   2  10   2   0   0   0]\n",
      " [  0   0   2  10   2   0   0]\n",
      " [  0   0   0   2  -4  -4   0]\n",
      " [  0   0   0   0  -4 -17  -4]\n",
      " [  0   0   0   0   0   0   1]]\n"
     ]
    },
    {
     "data": {
      "text/plain": [
       "array([[  1. ,   0. ,   0. ,   0. ,   0. ,   0. ,   0. ],\n",
       "       [  2.5,  10. ,   2.5,   0. ,   0. ,   0. ,   0. ],\n",
       "       [  0. ,   2.5,  10. ,   2.5,   0. ,   0. ,   0. ],\n",
       "       [  0. ,   0. ,   2.5,  10. ,   2.5,   0. ,   0. ],\n",
       "       [  0. ,   0. ,   0. ,   2.5,  -4. ,  -4.5,   0. ],\n",
       "       [  0. ,   0. ,   0. ,   0. ,  -4.5, -17. ,  -4. ],\n",
       "       [  0. ,   0. ,   0. ,   0. ,   0. ,   0. ,   1. ]])"
      ]
     },
     "execution_count": 11,
     "metadata": {},
     "output_type": "execute_result"
    }
   ],
   "source": [
    "A = calc_A(h, nx)\n",
    "A"
   ]
  },
  {
   "cell_type": "code",
   "execution_count": null,
   "metadata": {},
   "outputs": [],
   "source": [
    "def __calc_s(x, y):\n",
    "\n",
    "    dx = np.diff(x)\n",
    "    dy = np.diff(y)\n",
    "\n",
    "    self.ds = [math.sqrt(idx ** 2 + idy ** 2)\n",
    "               for (idx, idy) in zip(dx, dy)]\n",
    "    s = [0]\n",
    "    s.extend(np.cumsum(self.ds))\n",
    "    return s"
   ]
  }
 ],
 "metadata": {
  "kernelspec": {
   "display_name": "Python 3",
   "language": "python",
   "name": "python3"
  },
  "language_info": {
   "codemirror_mode": {
    "name": "ipython",
    "version": 3
   },
   "file_extension": ".py",
   "mimetype": "text/x-python",
   "name": "python",
   "nbconvert_exporter": "python",
   "pygments_lexer": "ipython3",
   "version": "3.6.8"
  },
  "toc": {
   "base_numbering": 1,
   "nav_menu": {},
   "number_sections": true,
   "sideBar": true,
   "skip_h1_title": false,
   "title_cell": "Table of Contents",
   "title_sidebar": "Contents",
   "toc_cell": false,
   "toc_position": {},
   "toc_section_display": true,
   "toc_window_display": false
  }
 },
 "nbformat": 4,
 "nbformat_minor": 2
}
